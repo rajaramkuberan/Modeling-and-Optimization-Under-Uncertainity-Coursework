{
 "cells": [
  {
   "cell_type": "markdown",
   "metadata": {},
   "source": [
    "<h1>Project Title:Classsification of Podcast Articles using LDA and LSA</h1>\n",
    "<h3> Contribution: Ashish Solanki,Rajaram Kuberan </h3>"
   ]
  },
  {
   "cell_type": "markdown",
   "metadata": {},
   "source": [
    "<h2>Importing the python libraries</h1>"
   ]
  },
  {
   "cell_type": "code",
   "execution_count": 7,
   "metadata": {},
   "outputs": [
    {
     "name": "stderr",
     "output_type": "stream",
     "text": [
      "[nltk_data] Downloading package wordnet to\n",
      "[nltk_data]     /Users/ashishsolanki/nltk_data...\n",
      "[nltk_data]   Package wordnet is already up-to-date!\n",
      "[nltk_data] Downloading package punkt to\n",
      "[nltk_data]     /Users/ashishsolanki/nltk_data...\n",
      "[nltk_data]   Package punkt is already up-to-date!\n",
      "[nltk_data] Downloading package averaged_perceptron_tagger to\n",
      "[nltk_data]     /Users/ashishsolanki/nltk_data...\n",
      "[nltk_data]   Package averaged_perceptron_tagger is already up-to-\n",
      "[nltk_data]       date!\n",
      "[nltk_data] Downloading package wordnet to\n",
      "[nltk_data]     /Users/ashishsolanki/nltk_data...\n",
      "[nltk_data]   Package wordnet is already up-to-date!\n",
      "[nltk_data] Downloading package stopwords to\n",
      "[nltk_data]     /Users/ashishsolanki/nltk_data...\n",
      "[nltk_data]   Package stopwords is already up-to-date!\n"
     ]
    },
    {
     "data": {
      "text/plain": [
       "True"
      ]
     },
     "execution_count": 7,
     "metadata": {},
     "output_type": "execute_result"
    }
   ],
   "source": [
    "from nltk.stem import WordNetLemmatizer, SnowballStemmer\n",
    "from nltk.stem.porter import *\n",
    "import nltk\n",
    "nltk.download('wordnet')\n",
    "\n",
    "\n",
    "import gensim\n",
    "from gensim.utils import simple_preprocess\n",
    "from gensim.parsing.preprocessing import STOPWORDS\n",
    "from gensim.models import ldamodel\n",
    "from gensim import matutils, models\n",
    "import gensim.corpora;\n",
    "\n",
    "\n",
    "from sklearn.feature_extraction.text import CountVectorizer, TfidfTransformer;\n",
    "from sklearn.decomposition import NMF;\n",
    "from sklearn.preprocessing import normalize;\n",
    "import pickle;\n",
    "from gensim.models import CoherenceModel\n",
    "\n",
    "\n",
    "import nltk\n",
    "nltk.download('punkt')\n",
    "nltk.download('averaged_perceptron_tagger')\n",
    "nltk.download('wordnet')\n",
    "nltk.download('stopwords')"
   ]
  },
  {
   "cell_type": "code",
   "execution_count": 8,
   "metadata": {},
   "outputs": [],
   "source": [
    "import sys\n",
    "# !{sys.executable} -m spacy download en\n",
    "import re, numpy as np, pandas as pd\n",
    "from pprint import pprint\n",
    "\n",
    "# Gensim\n",
    "import gensim, spacy, logging, warnings\n",
    "import gensim.corpora as corpora\n",
    "from gensim.utils import lemmatize, simple_preprocess\n",
    "from gensim.models import CoherenceModel\n",
    "import matplotlib.pyplot as plt\n",
    "\n",
    "# NLTK Stop words\n",
    "from nltk.corpus import stopwords\n",
    "stop_words = stopwords.words('english')\n",
    "stop_words.extend(['from', 'subject', 're', 'edu', 'use', 'not', 'would', 'say', 'could', '_', 'be', 'know', 'good', 'go', 'get', 'do', 'done', 'try', 'many', 'some', 'nice', 'thank', 'think', 'see', 'rather', 'easy', 'easily', 'lot', 'lack', 'make', 'want', 'seem', 'run', 'need', 'even', 'right', 'line', 'even', 'also', 'may', 'take', 'come'])\n",
    "\n",
    "%matplotlib inline\n",
    "warnings.filterwarnings(\"ignore\",category=DeprecationWarning)\n",
    "logging.basicConfig(format='%(asctime)s : %(levelname)s : %(message)s', level=logging.ERROR)"
   ]
  },
  {
   "cell_type": "markdown",
   "metadata": {},
   "source": [
    "<h1> WebScrapped Data of Podcast Articles </h1>\n",
    "<h2> The Data is collected from three different Websites</h2>\n",
    " "
   ]
  },
  {
   "cell_type": "markdown",
   "metadata": {},
   "source": [
    "[Yoga Girl Podcast Website](https://www.yogagirl.com/podcast)\n",
    "\n",
    "[Not Overthinking Website](https://notoverthinking.com/episodes)\n",
    "\n",
    "[The Library of Economics and Liberty Website](https://www.econlib.org/articles/) \n"
   ]
  },
  {
   "cell_type": "code",
   "execution_count": 9,
   "metadata": {},
   "outputs": [
    {
     "data": {
      "text/html": [
       "<div>\n",
       "<style scoped>\n",
       "    .dataframe tbody tr th:only-of-type {\n",
       "        vertical-align: middle;\n",
       "    }\n",
       "\n",
       "    .dataframe tbody tr th {\n",
       "        vertical-align: top;\n",
       "    }\n",
       "\n",
       "    .dataframe thead th {\n",
       "        text-align: right;\n",
       "    }\n",
       "</style>\n",
       "<table border=\"1\" class=\"dataframe\">\n",
       "  <thead>\n",
       "    <tr style=\"text-align: right;\">\n",
       "      <th></th>\n",
       "      <th>0</th>\n",
       "    </tr>\n",
       "  </thead>\n",
       "  <tbody>\n",
       "    <tr>\n",
       "      <th>0</th>\n",
       "      <td>[01:21] Happy Friday, everyone, and welcome ba...</td>\n",
       "    </tr>\n",
       "    <tr>\n",
       "      <th>1</th>\n",
       "      <td>[01:21] Happy Thursday, everyone, and welcome ...</td>\n",
       "    </tr>\n",
       "    <tr>\n",
       "      <th>2</th>\n",
       "      <td>[01:21] Happy Wednesday and welcome back to Yo...</td>\n",
       "    </tr>\n",
       "    <tr>\n",
       "      <th>3</th>\n",
       "      <td>[01:20] Happy Tuesday, everyone, and welcome b...</td>\n",
       "    </tr>\n",
       "    <tr>\n",
       "      <th>4</th>\n",
       "      <td>[01:21] Welcome back to Yoga Girl Daily and ha...</td>\n",
       "    </tr>\n",
       "    <tr>\n",
       "      <th>...</th>\n",
       "      <td>...</td>\n",
       "    </tr>\n",
       "    <tr>\n",
       "      <th>720</th>\n",
       "      <td>Economists famously argue about everything. Ev...</td>\n",
       "    </tr>\n",
       "    <tr>\n",
       "      <th>721</th>\n",
       "      <td>Why does the National Security Agency (NSA) sp...</td>\n",
       "    </tr>\n",
       "    <tr>\n",
       "      <th>722</th>\n",
       "      <td>People often lament the waste, corruption, and...</td>\n",
       "    </tr>\n",
       "    <tr>\n",
       "      <th>723</th>\n",
       "      <td>Which is more polluting—driving a mile to work...</td>\n",
       "    </tr>\n",
       "    <tr>\n",
       "      <th>724</th>\n",
       "      <td>It is almost an article of faith among economi...</td>\n",
       "    </tr>\n",
       "  </tbody>\n",
       "</table>\n",
       "<p>725 rows × 1 columns</p>\n",
       "</div>"
      ],
      "text/plain": [
       "                                                     0\n",
       "0    [01:21] Happy Friday, everyone, and welcome ba...\n",
       "1    [01:21] Happy Thursday, everyone, and welcome ...\n",
       "2    [01:21] Happy Wednesday and welcome back to Yo...\n",
       "3    [01:20] Happy Tuesday, everyone, and welcome b...\n",
       "4    [01:21] Welcome back to Yoga Girl Daily and ha...\n",
       "..                                                 ...\n",
       "720  Economists famously argue about everything. Ev...\n",
       "721  Why does the National Security Agency (NSA) sp...\n",
       "722  People often lament the waste, corruption, and...\n",
       "723  Which is more polluting—driving a mile to work...\n",
       "724  It is almost an article of faith among economi...\n",
       "\n",
       "[725 rows x 1 columns]"
      ]
     },
     "execution_count": 9,
     "metadata": {},
     "output_type": "execute_result"
    }
   ],
   "source": [
    "# Import Dataset\n",
    "import re\n",
    "import numpy as np\n",
    "import pandas as pd\n",
    "from pprint import pprint\n",
    "#df = pd.read_csv('tm_data.txt', delimiter = \"\\n\", header=None)\n",
    "df = pd.read_csv('https://raw.githubusercontent.com/rajaramkuberan/Modeling-and-Optimization-Under-Uncertainity-Coursework/main/Task_1_Topic_Modeling/2_Dataset/tm_data.txt', delimiter = \"\\n\", header=None)\n",
    "df"
   ]
  },
  {
   "cell_type": "code",
   "execution_count": 10,
   "metadata": {},
   "outputs": [
    {
     "name": "stdout",
     "output_type": "stream",
     "text": [
      "[['happy', 'friday', 'everyone', 'and', 'welcome', 'back', 'to', 'yoga', 'girl', 'daily', 'it', 'friday', 'today', 'we', 've', 'made', 'it', 'through', 'the', 'work', 'week', 'it', 'time', 'for', 'us', 'to', 'have', 'the', 'funnest', 'most', 'exciting', 'most', 'restful', 'most', 'nourishing', 'weekend', 'feel', 'like', 'setting', 'the', 'bar', 'really', 'high', 'for', 'these', 'two', 'days', 'ahead', 'but', 'why', 'not', 'today', 'for', 'our', 'feel', 'good', 'practice', 'have', 'fun', 'practice', 'for', 'you', 'this', 'is', 'something', 'that', 'just', 'happened', 'naturally', 'in', 'my', 'day', 'this', 'past', 'week', 'and', 'went', 'from', 'having', 'really', 'crappy', 'low', 'day', 'just', 'feeling', 'generally', 'blah', 'about', 'life', 'and', 'then', 'did', 'this', 'thing', 'which', 'is', 'so', 'simple', 'which', 'might', 'sound', 'superficial', 'to', 'some', 'people', 'it', 'doesn', 'for', 'me', 'but', 'simple', 'thing', 'and', 'it', 'turned', 'my', 'whole', 'mood', 'around', 'today', 'for', 'our', 'feel', 'good', 'practice', 'we', 'are', 'going', 'to', 'doll', 'ourselves', 'up', 'we', 'are', 'going', 'to', 'beautify', 'ourselves', 'in', 'whichever', 'way', 'that', 'comes', 'natural', 'to', 'us', 'to', 'make', 'ourselves', 'feel', 'really', 'really', 'really', 'really', 'really', 'pretty', 'and', 'beautiful', 'and', 'gorgeous', 'right', 'now', 'now', 'some', 'people', 'might', 'say', 'that', 'okay', 'focusing', 'on', 'the', 'exterior', 'we', 'should', 'go', 'within', 'the', 'exterior', 'often', 'reflects', 'how', 'we', 'feel', 'on', 'the', 'inside', 'and', 'the', 'other', 'way', 'around', 'so', 'taking', 'moment', 'to', 'beautify', 'ourselves', 'is', 'actually', 'absolutely', 'self', 'care', 'practice', 'for', 'me', 'putting', 'on', 'some', 'makeup', 'person', 'that', 'very', 'rarely', 'wears', 'makeup', 'when', 'put', 'on', 'makeup', 'suddenly', 'feel', 'like', 'million', 'bucks', 'feel', 'like', 'it', 'changes', 'my', 'whole', 'energy', 'somehow', 'feel', 'more', 'confident', 'don', 'know', 'what', 'it', 'is', 'about', 'it', 'if', 'it', 'just', 'the', 'feeling', 'of', 'beautification', 'like', 'that', 'ritual', 'of', 'it', 'that', 'just', 'brings', 'little', 'more', 'confidence', 'into', 'my', 'being', 'or', 'if', 'it', 'just', 'feeling', 'beautiful', 'in', 'different', 'ways', 'don', 'know', 'but', 'there', 'something', 'about', 'putting', 'on', 'bit', 'of', 'makeup', 'think', 'because', 'do', 'it', 'rarely', 'it', 'makes', 'big', 'impact', 'for', 'me', 'in', 'terms', 'of', 'how', 'feel', 'for', 'you', 'maybe', 'makeup', 'isn', 'your', 'thing', 'but', 'you', 'want', 'to', 'do', 'your', 'hair', 'up', 'nice', 'you', 'want', 'to', 'put', 'on', 'some', 'cute', 'clothes', 'grab', 'your', 'best', 'jewelry', 'your', 'cute', 'earrings', 'or', 'necklaces', 'or', 'whatever', 'it', 'is', 'that', 'you', 'want', 'to', 'do', 'to', 'really', 'feel', 'beautiful', 'and', 'pretty', 'and', 'maybe', 'for', 'you', 'that', 'hanging', 'out', 'in', 'your', 'birthday', 'suit', 'right', 'completely', 'makeup', 'free', 'finding', 'some', 'flowers', 'in', 'your', 'garden', 'to', 'tuck', 'behind', 'your', 'ear', 'mean', 'you', 'can', 'go', 'about', 'this', 'any', 'way', 'you', 'like', 'right', 'but', 'we', 're', 'going', 'to', 'have', 'moment', 'of', 'beautification', 'for', 'ourselves', 'just', 'to', 'really', 'tap', 'into', 'that', 'god', 'goddess', 'feeling', 'on', 'the', 'inside', 'for', 'me', 'bit', 'of', 'makeup', 'and', 'pair', 'of', 'shoes', 'okay', 'that', 'literally', 'what', 'need', 'to', 'feel', 'like', 'million', 'bucks', 'right', 'now', 'find', 'out', 'what', 'this', 'practice', 'is', 'like', 'for', 'you', 'and', 'the', 'kicker', 'to', 'this', 'is', 'you', 'don', 'have', 'to', 'do', 'this', 'for', 'anybody', 'else', 'you', 're', 'doing', 'it', 'for', 'yourself', 'so', 'it', 'doesn', 'matter', 'if', 'you', 're', 'going', 'to', 'spend', 'the', 'evening', 'inside', 'watching', 'netflix', 'on', 'the', 'couch', 'if', 'you', 'have', 'plan', 'to', 'leave', 'the', 'house', 'or', 'go', 'do', 'something', 'you', 're', 'doing', 'this', 'for', 'yourself', 'right', 'for', 'your', 'own', 'vibration', 'for', 'your', 'own', 'energy', 'just', 'to', 'elevate', 'yourself', 'little', 'bit', 'and', 'really', 'access', 'that', 'feeling', 'of', 'confidence', 'inside', 'choosing', 'what', 'you', 'want', 'to', 'do', 'what', 'ritual', 'this', 'is', 'like', 'for', 'you', 'right', 'if', 'it', 'involves', 'makeup', 'and', 'clothes', 'and', 'jewelry', 'or', 'if', 'it', 'involves', 'bath', 'or', 'practice', 'of', 'some', 'sort', 'something', 'to', 'make', 'you', 'really', 'tap', 'into', 'that', 'inner', 'beautiful', 'human', 'being', 'that', 'is', 'there', 'right', 'every', 'moment', 'of', 'the', 'day', 'we', 'just', 'got', 'to', 'access', 'that', 'right', 'if', 'you', 're', 'staying', 'in', 'today', 'wish', 'you', 'the', 'hottest', 'cutest', 'most', 'beautiful', 'badass', 'netflix', 'moment', 'okay', 'you', 're', 'going', 'to', 'look', 'so', 'cute', 'laying', 'on', 'the', 'couch', 'watching', 'netflix', 'you', 're', 'going', 'to', 'have', 'to', 'take', 'million', 'selfies', 'if', 'you', 're', 'going', 'out', 'hope', 'you', 'feel', 'confident', 'as', 'hell', 'and', 'that', 'you', 'really', 'rock', 'that', 'confidence', 'and', 'beauty', 'that', 'resides', 'in', 'you', 'every', 'moment', 'of', 'the', 'day', 'thank', 'you', 'so', 'much', 'for', 'tuning', 'in', 'with', 'me', 'love', 'you', 'so', 'much', 'have', 'an', 'amazing', 'weekend', 'really', 'hope', 'you', 'do', 'and', 'as', 'usual', 'll', 'be', 'back', 'on', 'monday', 'end', 'of', 'episode']]\n"
     ]
    }
   ],
   "source": [
    "# Convert to list\n",
    "data = df.values.tolist()\n",
    "\n",
    "\n",
    "def sent_to_words(sentences):\n",
    "    for sentence in sentences:\n",
    "        yield(gensim.utils.simple_preprocess(str(sentence), deacc=True))  \n",
    "\n",
    "data_words = list(sent_to_words(data))\n",
    "\n",
    "\n",
    "print(data_words[:1])\n"
   ]
  },
  {
   "cell_type": "markdown",
   "metadata": {},
   "source": [
    "<h1> Build the bigram and trigram models </h1>"
   ]
  },
  {
   "cell_type": "code",
   "execution_count": 11,
   "metadata": {},
   "outputs": [],
   "source": [
    "bigram = gensim.models.Phrases(data_words, min_count=5, threshold=100)\n",
    "trigram = gensim.models.Phrases(bigram[data_words], threshold=100)  \n",
    "bigram_mod = gensim.models.phrases.Phraser(bigram)\n",
    "trigram_mod = gensim.models.phrases.Phraser(trigram)"
   ]
  },
  {
   "cell_type": "markdown",
   "metadata": {},
   "source": [
    "<h1> Data Preprocessing </h1>"
   ]
  },
  {
   "cell_type": "code",
   "execution_count": 12,
   "metadata": {},
   "outputs": [],
   "source": [
    "import spacy\n",
    "def process_words(texts, stop_words=stop_words, allowed_postags=['NOUN', 'ADJ', 'VERB', 'ADV']):\n",
    "\n",
    "    texts = [[word for word in simple_preprocess(str(doc)) if word not in stop_words] for doc in texts]\n",
    "    texts = [bigram_mod[doc] for doc in texts]\n",
    "    texts = [trigram_mod[bigram_mod[doc]] for doc in texts]\n",
    "    texts_out = []\n",
    "    nlp = spacy.load('en_core_web_sm', disable=['parser', 'ner'])\n",
    "    for sent in texts:\n",
    "        doc = nlp(\" \".join(sent)) \n",
    "        texts_out.append([token.lemma_ for token in doc if token.pos_ in allowed_postags])\n",
    "    texts_out = [[word for word in simple_preprocess(str(doc)) if word not in stop_words] for doc in texts_out]    \n",
    "    return texts_out\n",
    "\n",
    "data_ready = process_words(data_words) "
   ]
  },
  {
   "cell_type": "markdown",
   "metadata": {},
   "source": [
    "<h1> Before Topic Modelling Create Dictionary and Corpus<h1>"
   ]
  },
  {
   "cell_type": "code",
   "execution_count": 13,
   "metadata": {},
   "outputs": [],
   "source": [
    "id2word = corpora.Dictionary(data_ready)"
   ]
  },
  {
   "cell_type": "code",
   "execution_count": 14,
   "metadata": {},
   "outputs": [],
   "source": [
    "# Create Corpus: Term Document Frequency\n",
    "corpus = [id2word.doc2bow(text) for text in data_ready]"
   ]
  },
  {
   "cell_type": "markdown",
   "metadata": {},
   "source": [
    "<h1> Build LDA Latent Dirilecht Allocation model</h1>"
   ]
  },
  {
   "cell_type": "code",
   "execution_count": 15,
   "metadata": {},
   "outputs": [],
   "source": [
    "lda_model = gensim.models.ldamodel.LdaModel(corpus=corpus,\n",
    "                                           id2word=id2word,\n",
    "                                           num_topics=4, \n",
    "                                           random_state=100,\n",
    "                                           update_every=1,\n",
    "                                           chunksize=10,\n",
    "                                           passes=10,\n",
    "                                           alpha='symmetric',\n",
    "                                           iterations=100,\n",
    "                                           per_word_topics=True)\n"
   ]
  },
  {
   "cell_type": "markdown",
   "metadata": {},
   "source": []
  },
  {
   "cell_type": "code",
   "execution_count": 16,
   "metadata": {},
   "outputs": [],
   "source": [
    "def get_lda_topics(model, num_topics):\n",
    "    word_dict = {};\n",
    "    for i in range(num_topics):\n",
    "        words = model.show_topic(i, topn = 10);\n",
    "        word_dict['Topic # ' + '{:02d}'.format(i+1)] = [i[0] for i in words];\n",
    "    return pd.DataFrame(word_dict);"
   ]
  },
  {
   "cell_type": "markdown",
   "metadata": {},
   "source": []
  },
  {
   "cell_type": "code",
   "execution_count": 17,
   "metadata": {},
   "outputs": [],
   "source": [
    "num_topics=4"
   ]
  },
  {
   "cell_type": "code",
   "execution_count": 18,
   "metadata": {},
   "outputs": [
    {
     "data": {
      "text/html": [
       "<div>\n",
       "<style scoped>\n",
       "    .dataframe tbody tr th:only-of-type {\n",
       "        vertical-align: middle;\n",
       "    }\n",
       "\n",
       "    .dataframe tbody tr th {\n",
       "        vertical-align: top;\n",
       "    }\n",
       "\n",
       "    .dataframe thead th {\n",
       "        text-align: right;\n",
       "    }\n",
       "</style>\n",
       "<table border=\"1\" class=\"dataframe\">\n",
       "  <thead>\n",
       "    <tr style=\"text-align: right;\">\n",
       "      <th></th>\n",
       "      <th>Topic # 01</th>\n",
       "      <th>Topic # 02</th>\n",
       "      <th>Topic # 03</th>\n",
       "      <th>Topic # 04</th>\n",
       "    </tr>\n",
       "  </thead>\n",
       "  <tbody>\n",
       "    <tr>\n",
       "      <th>0</th>\n",
       "      <td>feel</td>\n",
       "      <td>people</td>\n",
       "      <td>government</td>\n",
       "      <td>price</td>\n",
       "    </tr>\n",
       "    <tr>\n",
       "      <th>1</th>\n",
       "      <td>really</td>\n",
       "      <td>time</td>\n",
       "      <td>economist</td>\n",
       "      <td>economic</td>\n",
       "    </tr>\n",
       "    <tr>\n",
       "      <th>2</th>\n",
       "      <td>day</td>\n",
       "      <td>year</td>\n",
       "      <td>state</td>\n",
       "      <td>market</td>\n",
       "    </tr>\n",
       "    <tr>\n",
       "      <th>3</th>\n",
       "      <td>little</td>\n",
       "      <td>well</td>\n",
       "      <td>rate</td>\n",
       "      <td>cost</td>\n",
       "    </tr>\n",
       "    <tr>\n",
       "      <th>4</th>\n",
       "      <td>today</td>\n",
       "      <td>work</td>\n",
       "      <td>worker</td>\n",
       "      <td>increase</td>\n",
       "    </tr>\n",
       "    <tr>\n",
       "      <th>5</th>\n",
       "      <td>let</td>\n",
       "      <td>way</td>\n",
       "      <td>american</td>\n",
       "      <td>high</td>\n",
       "    </tr>\n",
       "    <tr>\n",
       "      <th>6</th>\n",
       "      <td>time</td>\n",
       "      <td>much</td>\n",
       "      <td>economy</td>\n",
       "      <td>money</td>\n",
       "    </tr>\n",
       "    <tr>\n",
       "      <th>7</th>\n",
       "      <td>thing</td>\n",
       "      <td>mean</td>\n",
       "      <td>policy</td>\n",
       "      <td>value</td>\n",
       "    </tr>\n",
       "    <tr>\n",
       "      <th>8</th>\n",
       "      <td>moment</td>\n",
       "      <td>first</td>\n",
       "      <td>individual</td>\n",
       "      <td>example</td>\n",
       "    </tr>\n",
       "    <tr>\n",
       "      <th>9</th>\n",
       "      <td>way</td>\n",
       "      <td>thing</td>\n",
       "      <td>result</td>\n",
       "      <td>percent</td>\n",
       "    </tr>\n",
       "  </tbody>\n",
       "</table>\n",
       "</div>"
      ],
      "text/plain": [
       "  Topic # 01 Topic # 02  Topic # 03 Topic # 04\n",
       "0       feel     people  government      price\n",
       "1     really       time   economist   economic\n",
       "2        day       year       state     market\n",
       "3     little       well        rate       cost\n",
       "4      today       work      worker   increase\n",
       "5        let        way    american       high\n",
       "6       time       much     economy      money\n",
       "7      thing       mean      policy      value\n",
       "8     moment      first  individual    example\n",
       "9        way      thing      result    percent"
      ]
     },
     "execution_count": 18,
     "metadata": {},
     "output_type": "execute_result"
    }
   ],
   "source": [
    "get_lda_topics(lda_model, num_topics)"
   ]
  },
  {
   "cell_type": "markdown",
   "metadata": {},
   "source": [
    "<h1>Visualization of data</h1>"
   ]
  },
  {
   "cell_type": "code",
   "execution_count": 19,
   "metadata": {},
   "outputs": [
    {
     "name": "stdout",
     "output_type": "stream",
     "text": [
      "Requirement already satisfied: wordcloud in /opt/anaconda3/lib/python3.8/site-packages (1.8.1)\n",
      "Requirement already satisfied: numpy>=1.6.1 in /opt/anaconda3/lib/python3.8/site-packages (from wordcloud) (1.20.2)\n",
      "Requirement already satisfied: matplotlib in /opt/anaconda3/lib/python3.8/site-packages (from wordcloud) (3.4.1)\n",
      "Requirement already satisfied: pillow in /opt/anaconda3/lib/python3.8/site-packages (from wordcloud) (8.0.1)\n",
      "Requirement already satisfied: python-dateutil>=2.7 in /opt/anaconda3/lib/python3.8/site-packages (from matplotlib->wordcloud) (2.8.1)\n",
      "Requirement already satisfied: cycler>=0.10 in /opt/anaconda3/lib/python3.8/site-packages (from matplotlib->wordcloud) (0.10.0)\n",
      "Requirement already satisfied: pyparsing>=2.2.1 in /opt/anaconda3/lib/python3.8/site-packages (from matplotlib->wordcloud) (2.4.7)\n",
      "Requirement already satisfied: kiwisolver>=1.0.1 in /opt/anaconda3/lib/python3.8/site-packages (from matplotlib->wordcloud) (1.3.0)\n",
      "Requirement already satisfied: six>=1.5 in /opt/anaconda3/lib/python3.8/site-packages (from python-dateutil>=2.7->matplotlib->wordcloud) (1.15.0)\n",
      "Note: you may need to restart the kernel to use updated packages.\n"
     ]
    }
   ],
   "source": [
    "pip install wordcloud"
   ]
  },
  {
   "cell_type": "code",
   "execution_count": 20,
   "metadata": {},
   "outputs": [
    {
     "data": {
      "image/png": "[encoded data removed]",
      "text/plain": [
       "<Figure size 720x720 with 4 Axes>"
      ]
     },
     "metadata": {
      "needs_background": "light"
     },
     "output_type": "display_data"
    }
   ],
   "source": [
    "# 1. Wordcloud of Top 10 words in each topic\n",
    "from matplotlib import pyplot as plt\n",
    "from wordcloud import WordCloud, STOPWORDS\n",
    "import matplotlib.colors as mcolors\n",
    "\n",
    "cols = [color for name, color in mcolors.TABLEAU_COLORS.items()] \n",
    "\n",
    "cloud = WordCloud(stopwords=stop_words,\n",
    "                  background_color='white',\n",
    "                  width=2500,\n",
    "                  height=1800,\n",
    "                  max_words=10,\n",
    "                  colormap='tab10',\n",
    "                  color_func=lambda *args, **kwargs: cols[i],\n",
    "                  prefer_horizontal=1.0)\n",
    "\n",
    "topics = lda_model.show_topics(formatted=False)\n",
    "\n",
    "fig, axes = plt.subplots(2, 2, figsize=(10,10), sharex=True, sharey=True)\n",
    "\n",
    "for i, ax in enumerate(axes.flatten()):\n",
    "    fig.add_subplot(ax)\n",
    "    topic_words = dict(topics[i][1])\n",
    "    cloud.generate_from_frequencies(topic_words, max_font_size=300)\n",
    "    plt.gca().imshow(cloud)\n",
    "    plt.gca().set_title('Topic ' + str(i), fontdict=dict(size=20))\n",
    "    plt.gca().axis('off')\n",
    "\n",
    "\n",
    "plt.subplots_adjust(wspace=0, hspace=0)\n",
    "plt.axis('off')\n",
    "plt.margins(x=0, y=0)\n",
    "plt.tight_layout()\n",
    "plt.show()"
   ]
  },
  {
   "cell_type": "code",
   "execution_count": 21,
   "metadata": {},
   "outputs": [],
   "source": [
    "# Sentence Coloring of N Sentences\n",
    "def topics_per_document(model, corpus, start=0, end=1):\n",
    "    corpus_sel = corpus[start:end]\n",
    "    dominant_topics = []\n",
    "    topic_percentages = []\n",
    "    for i, corp in enumerate(corpus_sel):\n",
    "        topic_percs, wordid_topics, wordid_phivalues = model[corp]\n",
    "        dominant_topic = sorted(topic_percs, key = lambda x: x[1], reverse=True)[0][0]\n",
    "        dominant_topics.append((i, dominant_topic))\n",
    "        topic_percentages.append(topic_percs)\n",
    "    return(dominant_topics, topic_percentages)\n",
    "\n",
    "dominant_topics, topic_percentages = topics_per_document(model=lda_model, corpus=corpus, end=-1)            \n",
    "\n",
    "# Distribution of Dominant Topics in Each Document\n",
    "df = pd.DataFrame(dominant_topics, columns=['Document_Id', 'Dominant_Topic'])\n",
    "dominant_topic_in_each_doc = df.groupby('Dominant_Topic').size()\n",
    "df_dominant_topic_in_each_doc = dominant_topic_in_each_doc.to_frame(name='count').reset_index()\n",
    "\n",
    "# Total Topic Distribution by actual weight\n",
    "topic_weightage_by_doc = pd.DataFrame([dict(t) for t in topic_percentages])\n",
    "df_topic_weightage_by_doc = topic_weightage_by_doc.sum().to_frame(name='count').reset_index()\n",
    "\n",
    "# Top 3 Keywords for each Topic\n",
    "topic_top3words = [(i, topic) for i, topics in lda_model.show_topics(formatted=False) \n",
    "                                 for j, (topic, wt) in enumerate(topics) if j < 3]\n",
    "\n",
    "df_top3words_stacked = pd.DataFrame(topic_top3words, columns=['topic_id', 'words'])\n",
    "df_top3words = df_top3words_stacked.groupby('topic_id').agg(', \\n'.join)\n",
    "df_top3words.reset_index(level=0,inplace=True)\n"
   ]
  },
  {
   "cell_type": "markdown",
   "metadata": {},
   "source": [
    "<h1>T-SNE Clustring for 4 topics</h1>"
   ]
  },
  {
   "cell_type": "code",
   "execution_count": 22,
   "metadata": {},
   "outputs": [
    {
     "name": "stdout",
     "output_type": "stream",
     "text": [
      "[t-SNE] Computing 91 nearest neighbors...\n",
      "[t-SNE] Indexed 719 samples in 0.004s...\n",
      "[t-SNE] Computed neighbors for 719 samples in 0.011s...\n",
      "[t-SNE] Computed conditional probabilities for sample 719 / 719\n",
      "[t-SNE] Mean sigma: 0.010731\n",
      "[t-SNE] KL divergence after 250 iterations with early exaggeration: 50.083969\n",
      "[t-SNE] KL divergence after 1000 iterations: 0.264827\n"
     ]
    },
    {
     "data": {
      "text/html": [
       "\n",
       "    <div class=\"bk-root\">\n",
       "        <a href=\"https://bokeh.org\" target=\"_blank\" class=\"bk-logo bk-logo-small bk-logo-notebook\"></a>\n",
       "        <span id=\"1001\">Loading BokehJS ...</span>\n",
       "    </div>"
      ]
     },
     "metadata": {},
     "output_type": "display_data"
    },
    {
     "data": {
      "application/javascript": [
       "\n",
       "(function(root) {\n",
       "  function now() {\n",
       "    return new Date();\n",
       "  }\n",
       "\n",
       "  var force = true;\n",
       "\n",
       "  if (typeof root._bokeh_onload_callbacks === \"undefined\" || force === true) {\n",
       "    root._bokeh_onload_callbacks = [];\n",
       "    root._bokeh_is_loading = undefined;\n",
       "  }\n",
       "\n",
       "  var JS_MIME_TYPE = 'application/javascript';\n",
       "  var HTML_MIME_TYPE = 'text/html';\n",
       "  var EXEC_MIME_TYPE = 'application/vnd.bokehjs_exec.v0+json';\n",
       "  var CLASS_NAME = 'output_bokeh rendered_html';\n",
       "\n",
       "  /**\n",
       "   * Render data to the DOM node\n",
       "   */\n",
       "  function render(props, node) {\n",
       "    var script = document.createElement(\"script\");\n",
       "    node.appendChild(script);\n",
       "  }\n",
       "\n",
       "  /**\n",
       "   * Handle when an output is cleared or removed\n",
       "   */\n",
       "  function handleClearOutput(event, handle) {\n",
       "    var cell = handle.cell;\n",
       "\n",
       "    var id = cell.output_area._bokeh_element_id;\n",
       "    var server_id = cell.output_area._bokeh_server_id;\n",
       "    // Clean up Bokeh references\n",
       "    if (id != null && id in Bokeh.index) {\n",
       "      Bokeh.index[id].model.document.clear();\n",
       "      delete Bokeh.index[id];\n",
       "    }\n",
       "\n",
       "    if (server_id !== undefined) {\n",
       "      // Clean up Bokeh references\n",
       "      var cmd = \"from bokeh.io.state import curstate; print(curstate().uuid_to_server['\" + server_id + \"'].get_sessions()[0].document.roots[0]._id)\";\n",
       "      cell.notebook.kernel.execute(cmd, {\n",
       "        iopub: {\n",
       "          output: function(msg) {\n",
       "            var id = msg.content.text.trim();\n",
       "            if (id in Bokeh.index) {\n",
       "              Bokeh.index[id].model.document.clear();\n",
       "              delete Bokeh.index[id];\n",
       "            }\n",
       "          }\n",
       "        }\n",
       "      });\n",
       "      // Destroy server and session\n",
       "      var cmd = \"import bokeh.io.notebook as ion; ion.destroy_server('\" + server_id + \"')\";\n",
       "      cell.notebook.kernel.execute(cmd);\n",
       "    }\n",
       "  }\n",
       "\n",
       "  /**\n",
       "   * Handle when a new output is added\n",
       "   */\n",
       "  function handleAddOutput(event, handle) {\n",
       "    var output_area = handle.output_area;\n",
       "    var output = handle.output;\n",
       "\n",
       "    // limit handleAddOutput to display_data with EXEC_MIME_TYPE content only\n",
       "    if ((output.output_type != \"display_data\") || (!output.data.hasOwnProperty(EXEC_MIME_TYPE))) {\n",
       "      return\n",
       "    }\n",
       "\n",
       "    var toinsert = output_area.element.find(\".\" + CLASS_NAME.split(' ')[0]);\n",
       "\n",
       "    if (output.metadata[EXEC_MIME_TYPE][\"id\"] !== undefined) {\n",
       "      toinsert[toinsert.length - 1].firstChild.textContent = output.data[JS_MIME_TYPE];\n",
       "      // store reference to embed id on output_area\n",
       "      output_area._bokeh_element_id = output.metadata[EXEC_MIME_TYPE][\"id\"];\n",
       "    }\n",
       "    if (output.metadata[EXEC_MIME_TYPE][\"server_id\"] !== undefined) {\n",
       "      var bk_div = document.createElement(\"div\");\n",
       "      bk_div.innerHTML = output.data[HTML_MIME_TYPE];\n",
       "      var script_attrs = bk_div.children[0].attributes;\n",
       "      for (var i = 0; i < script_attrs.length; i++) {\n",
       "        toinsert[toinsert.length - 1].firstChild.setAttribute(script_attrs[i].name, script_attrs[i].value);\n",
       "        toinsert[toinsert.length - 1].firstChild.textContent = bk_div.children[0].textContent\n",
       "      }\n",
       "      // store reference to server id on output_area\n",
       "      output_area._bokeh_server_id = output.metadata[EXEC_MIME_TYPE][\"server_id\"];\n",
       "    }\n",
       "  }\n",
       "\n",
       "  function register_renderer(events, OutputArea) {\n",
       "\n",
       "    function append_mime(data, metadata, element) {\n",
       "      // create a DOM node to render to\n",
       "      var toinsert = this.create_output_subarea(\n",
       "        metadata,\n",
       "        CLASS_NAME,\n",
       "        EXEC_MIME_TYPE\n",
       "      );\n",
       "      this.keyboard_manager.register_events(toinsert);\n",
       "      // Render to node\n",
       "      var props = {data: data, metadata: metadata[EXEC_MIME_TYPE]};\n",
       "      render(props, toinsert[toinsert.length - 1]);\n",
       "      element.append(toinsert);\n",
       "      return toinsert\n",
       "    }\n",
       "\n",
       "    /* Handle when an output is cleared or removed */\n",
       "    events.on('clear_output.CodeCell', handleClearOutput);\n",
       "    events.on('delete.Cell', handleClearOutput);\n",
       "\n",
       "    /* Handle when a new output is added */\n",
       "    events.on('output_added.OutputArea', handleAddOutput);\n",
       "\n",
       "    /**\n",
       "     * Register the mime type and append_mime function with output_area\n",
       "     */\n",
       "    OutputArea.prototype.register_mime_type(EXEC_MIME_TYPE, append_mime, {\n",
       "      /* Is output safe? */\n",
       "      safe: true,\n",
       "      /* Index of renderer in `output_area.display_order` */\n",
       "      index: 0\n",
       "    });\n",
       "  }\n",
       "\n",
       "  // register the mime type if in Jupyter Notebook environment and previously unregistered\n",
       "  if (root.Jupyter !== undefined) {\n",
       "    var events = require('base/js/events');\n",
       "    var OutputArea = require('notebook/js/outputarea').OutputArea;\n",
       "\n",
       "    if (OutputArea.prototype.mime_types().indexOf(EXEC_MIME_TYPE) == -1) {\n",
       "      register_renderer(events, OutputArea);\n",
       "    }\n",
       "  }\n",
       "\n",
       "  \n",
       "  if (typeof (root._bokeh_timeout) === \"undefined\" || force === true) {\n",
       "    root._bokeh_timeout = Date.now() + 5000;\n",
       "    root._bokeh_failed_load = false;\n",
       "  }\n",
       "\n",
       "  var NB_LOAD_WARNING = {'data': {'text/html':\n",
       "     \"<div style='background-color: #fdd'>\\n\"+\n",
       "     \"<p>\\n\"+\n",
       "     \"BokehJS does not appear to have successfully loaded. If loading BokehJS from CDN, this \\n\"+\n",
       "     \"may be due to a slow or bad network connection. Possible fixes:\\n\"+\n",
       "     \"</p>\\n\"+\n",
       "     \"<ul>\\n\"+\n",
       "     \"<li>re-rerun `output_notebook()` to attempt to load from CDN again, or</li>\\n\"+\n",
       "     \"<li>use INLINE resources instead, as so:</li>\\n\"+\n",
       "     \"</ul>\\n\"+\n",
       "     \"<code>\\n\"+\n",
       "     \"from bokeh.resources import INLINE\\n\"+\n",
       "     \"output_notebook(resources=INLINE)\\n\"+\n",
       "     \"</code>\\n\"+\n",
       "     \"</div>\"}};\n",
       "\n",
       "  function display_loaded() {\n",
       "    var el = document.getElementById(\"1001\");\n",
       "    if (el != null) {\n",
       "      el.textContent = \"BokehJS is loading...\";\n",
       "    }\n",
       "    if (root.Bokeh !== undefined) {\n",
       "      if (el != null) {\n",
       "        el.textContent = \"BokehJS \" + root.Bokeh.version + \" successfully loaded.\";\n",
       "      }\n",
       "    } else if (Date.now() < root._bokeh_timeout) {\n",
       "      setTimeout(display_loaded, 100)\n",
       "    }\n",
       "  }\n",
       "\n",
       "\n",
       "  function run_callbacks() {\n",
       "    try {\n",
       "      root._bokeh_onload_callbacks.forEach(function(callback) {\n",
       "        if (callback != null)\n",
       "          callback();\n",
       "      });\n",
       "    } finally {\n",
       "      delete root._bokeh_onload_callbacks\n",
       "    }\n",
       "    console.debug(\"Bokeh: all callbacks have finished\");\n",
       "  }\n",
       "\n",
       "  function load_libs(css_urls, js_urls, callback) {\n",
       "    if (css_urls == null) css_urls = [];\n",
       "    if (js_urls == null) js_urls = [];\n",
       "\n",
       "    root._bokeh_onload_callbacks.push(callback);\n",
       "    if (root._bokeh_is_loading > 0) {\n",
       "      console.debug(\"Bokeh: BokehJS is being loaded, scheduling callback at\", now());\n",
       "      return null;\n",
       "    }\n",
       "    if (js_urls == null || js_urls.length === 0) {\n",
       "      run_callbacks();\n",
       "      return null;\n",
       "    }\n",
       "    console.debug(\"Bokeh: BokehJS not loaded, scheduling load and callback at\", now());\n",
       "    root._bokeh_is_loading = css_urls.length + js_urls.length;\n",
       "\n",
       "    function on_load() {\n",
       "      root._bokeh_is_loading--;\n",
       "      if (root._bokeh_is_loading === 0) {\n",
       "        console.debug(\"Bokeh: all BokehJS libraries/stylesheets loaded\");\n",
       "        run_callbacks()\n",
       "      }\n",
       "    }\n",
       "\n",
       "    function on_error() {\n",
       "      console.error(\"failed to load \" + url);\n",
       "    }\n",
       "\n",
       "    for (var i = 0; i < css_urls.length; i++) {\n",
       "      var url = css_urls[i];\n",
       "      const element = document.createElement(\"link\");\n",
       "      element.onload = on_load;\n",
       "      element.onerror = on_error;\n",
       "      element.rel = \"stylesheet\";\n",
       "      element.type = \"text/css\";\n",
       "      element.href = url;\n",
       "      console.debug(\"Bokeh: injecting link tag for BokehJS stylesheet: \", url);\n",
       "      document.body.appendChild(element);\n",
       "    }\n",
       "\n",
       "    const hashes = {\"https://cdn.bokeh.org/bokeh/release/bokeh-2.2.3.min.js\": \"T2yuo9Oe71Cz/I4X9Ac5+gpEa5a8PpJCDlqKYO0CfAuEszu1JrXLl8YugMqYe3sM\", \"https://cdn.bokeh.org/bokeh/release/bokeh-widgets-2.2.3.min.js\": \"98GDGJ0kOMCUMUePhksaQ/GYgB3+NH9h996V88sh3aOiUNX3N+fLXAtry6xctSZ6\", \"https://cdn.bokeh.org/bokeh/release/bokeh-tables-2.2.3.min.js\": \"89bArO+nlbP3sgakeHjCo1JYxYR5wufVgA3IbUvDY+K7w4zyxJqssu7wVnfeKCq8\"};\n",
       "\n",
       "    for (var i = 0; i < js_urls.length; i++) {\n",
       "      var url = js_urls[i];\n",
       "      var element = document.createElement('script');\n",
       "      element.onload = on_load;\n",
       "      element.onerror = on_error;\n",
       "      element.async = false;\n",
       "      element.src = url;\n",
       "      if (url in hashes) {\n",
       "        element.crossOrigin = \"anonymous\";\n",
       "        element.integrity = \"sha384-\" + hashes[url];\n",
       "      }\n",
       "      console.debug(\"Bokeh: injecting script tag for BokehJS library: \", url);\n",
       "      document.head.appendChild(element);\n",
       "    }\n",
       "  };\n",
       "\n",
       "  function inject_raw_css(css) {\n",
       "    const element = document.createElement(\"style\");\n",
       "    element.appendChild(document.createTextNode(css));\n",
       "    document.body.appendChild(element);\n",
       "  }\n",
       "\n",
       "  \n",
       "  var js_urls = [\"https://cdn.bokeh.org/bokeh/release/bokeh-2.2.3.min.js\", \"https://cdn.bokeh.org/bokeh/release/bokeh-widgets-2.2.3.min.js\", \"https://cdn.bokeh.org/bokeh/release/bokeh-tables-2.2.3.min.js\"];\n",
       "  var css_urls = [];\n",
       "  \n",
       "\n",
       "  var inline_js = [\n",
       "    function(Bokeh) {\n",
       "      Bokeh.set_log_level(\"info\");\n",
       "    },\n",
       "    function(Bokeh) {\n",
       "    \n",
       "    \n",
       "    }\n",
       "  ];\n",
       "\n",
       "  function run_inline_js() {\n",
       "    \n",
       "    if (root.Bokeh !== undefined || force === true) {\n",
       "      \n",
       "    for (var i = 0; i < inline_js.length; i++) {\n",
       "      inline_js[i].call(root, root.Bokeh);\n",
       "    }\n",
       "    if (force === true) {\n",
       "        display_loaded();\n",
       "      }} else if (Date.now() < root._bokeh_timeout) {\n",
       "      setTimeout(run_inline_js, 100);\n",
       "    } else if (!root._bokeh_failed_load) {\n",
       "      console.log(\"Bokeh: BokehJS failed to load within specified timeout.\");\n",
       "      root._bokeh_failed_load = true;\n",
       "    } else if (force !== true) {\n",
       "      var cell = $(document.getElementById(\"1001\")).parents('.cell').data().cell;\n",
       "      cell.output_area.append_execute_result(NB_LOAD_WARNING)\n",
       "    }\n",
       "\n",
       "  }\n",
       "\n",
       "  if (root._bokeh_is_loading === 0) {\n",
       "    console.debug(\"Bokeh: BokehJS loaded, going straight to plotting\");\n",
       "    run_inline_js();\n",
       "  } else {\n",
       "    load_libs(css_urls, js_urls, function() {\n",
       "      console.debug(\"Bokeh: BokehJS plotting callback run at\", now());\n",
       "      run_inline_js();\n",
       "    });\n",
       "  }\n",
       "}(window));"
      ],
      "application/vnd.bokehjs_load.v0+json": "\n(function(root) {\n  function now() {\n    return new Date();\n  }\n\n  var force = true;\n\n  if (typeof root._bokeh_onload_callbacks === \"undefined\" || force === true) {\n    root._bokeh_onload_callbacks = [];\n    root._bokeh_is_loading = undefined;\n  }\n\n  \n\n  \n  if (typeof (root._bokeh_timeout) === \"undefined\" || force === true) {\n    root._bokeh_timeout = Date.now() + 5000;\n    root._bokeh_failed_load = false;\n  }\n\n  var NB_LOAD_WARNING = {'data': {'text/html':\n     \"<div style='background-color: #fdd'>\\n\"+\n     \"<p>\\n\"+\n     \"BokehJS does not appear to have successfully loaded. If loading BokehJS from CDN, this \\n\"+\n     \"may be due to a slow or bad network connection. Possible fixes:\\n\"+\n     \"</p>\\n\"+\n     \"<ul>\\n\"+\n     \"<li>re-rerun `output_notebook()` to attempt to load from CDN again, or</li>\\n\"+\n     \"<li>use INLINE resources instead, as so:</li>\\n\"+\n     \"</ul>\\n\"+\n     \"<code>\\n\"+\n     \"from bokeh.resources import INLINE\\n\"+\n     \"output_notebook(resources=INLINE)\\n\"+\n     \"</code>\\n\"+\n     \"</div>\"}};\n\n  function display_loaded() {\n    var el = document.getElementById(\"1001\");\n    if (el != null) {\n      el.textContent = \"BokehJS is loading...\";\n    }\n    if (root.Bokeh !== undefined) {\n      if (el != null) {\n        el.textContent = \"BokehJS \" + root.Bokeh.version + \" successfully loaded.\";\n      }\n    } else if (Date.now() < root._bokeh_timeout) {\n      setTimeout(display_loaded, 100)\n    }\n  }\n\n\n  function run_callbacks() {\n    try {\n      root._bokeh_onload_callbacks.forEach(function(callback) {\n        if (callback != null)\n          callback();\n      });\n    } finally {\n      delete root._bokeh_onload_callbacks\n    }\n    console.debug(\"Bokeh: all callbacks have finished\");\n  }\n\n  function load_libs(css_urls, js_urls, callback) {\n    if (css_urls == null) css_urls = [];\n    if (js_urls == null) js_urls = [];\n\n    root._bokeh_onload_callbacks.push(callback);\n    if (root._bokeh_is_loading > 0) {\n      console.debug(\"Bokeh: BokehJS is being loaded, scheduling callback at\", now());\n      return null;\n    }\n    if (js_urls == null || js_urls.length === 0) {\n      run_callbacks();\n      return null;\n    }\n    console.debug(\"Bokeh: BokehJS not loaded, scheduling load and callback at\", now());\n    root._bokeh_is_loading = css_urls.length + js_urls.length;\n\n    function on_load() {\n      root._bokeh_is_loading--;\n      if (root._bokeh_is_loading === 0) {\n        console.debug(\"Bokeh: all BokehJS libraries/stylesheets loaded\");\n        run_callbacks()\n      }\n    }\n\n    function on_error() {\n      console.error(\"failed to load \" + url);\n    }\n\n    for (var i = 0; i < css_urls.length; i++) {\n      var url = css_urls[i];\n      const element = document.createElement(\"link\");\n      element.onload = on_load;\n      element.onerror = on_error;\n      element.rel = \"stylesheet\";\n      element.type = \"text/css\";\n      element.href = url;\n      console.debug(\"Bokeh: injecting link tag for BokehJS stylesheet: \", url);\n      document.body.appendChild(element);\n    }\n\n    const hashes = {\"https://cdn.bokeh.org/bokeh/release/bokeh-2.2.3.min.js\": \"T2yuo9Oe71Cz/I4X9Ac5+gpEa5a8PpJCDlqKYO0CfAuEszu1JrXLl8YugMqYe3sM\", \"https://cdn.bokeh.org/bokeh/release/bokeh-widgets-2.2.3.min.js\": \"98GDGJ0kOMCUMUePhksaQ/GYgB3+NH9h996V88sh3aOiUNX3N+fLXAtry6xctSZ6\", \"https://cdn.bokeh.org/bokeh/release/bokeh-tables-2.2.3.min.js\": \"89bArO+nlbP3sgakeHjCo1JYxYR5wufVgA3IbUvDY+K7w4zyxJqssu7wVnfeKCq8\"};\n\n    for (var i = 0; i < js_urls.length; i++) {\n      var url = js_urls[i];\n      var element = document.createElement('script');\n      element.onload = on_load;\n      element.onerror = on_error;\n      element.async = false;\n      element.src = url;\n      if (url in hashes) {\n        element.crossOrigin = \"anonymous\";\n        element.integrity = \"sha384-\" + hashes[url];\n      }\n      console.debug(\"Bokeh: injecting script tag for BokehJS library: \", url);\n      document.head.appendChild(element);\n    }\n  };\n\n  function inject_raw_css(css) {\n    const element = document.createElement(\"style\");\n    element.appendChild(document.createTextNode(css));\n    document.body.appendChild(element);\n  }\n\n  \n  var js_urls = [\"https://cdn.bokeh.org/bokeh/release/bokeh-2.2.3.min.js\", \"https://cdn.bokeh.org/bokeh/release/bokeh-widgets-2.2.3.min.js\", \"https://cdn.bokeh.org/bokeh/release/bokeh-tables-2.2.3.min.js\"];\n  var css_urls = [];\n  \n\n  var inline_js = [\n    function(Bokeh) {\n      Bokeh.set_log_level(\"info\");\n    },\n    function(Bokeh) {\n    \n    \n    }\n  ];\n\n  function run_inline_js() {\n    \n    if (root.Bokeh !== undefined || force === true) {\n      \n    for (var i = 0; i < inline_js.length; i++) {\n      inline_js[i].call(root, root.Bokeh);\n    }\n    if (force === true) {\n        display_loaded();\n      }} else if (Date.now() < root._bokeh_timeout) {\n      setTimeout(run_inline_js, 100);\n    } else if (!root._bokeh_failed_load) {\n      console.log(\"Bokeh: BokehJS failed to load within specified timeout.\");\n      root._bokeh_failed_load = true;\n    } else if (force !== true) {\n      var cell = $(document.getElementById(\"1001\")).parents('.cell').data().cell;\n      cell.output_area.append_execute_result(NB_LOAD_WARNING)\n    }\n\n  }\n\n  if (root._bokeh_is_loading === 0) {\n    console.debug(\"Bokeh: BokehJS loaded, going straight to plotting\");\n    run_inline_js();\n  } else {\n    load_libs(css_urls, js_urls, function() {\n      console.debug(\"Bokeh: BokehJS plotting callback run at\", now());\n      run_inline_js();\n    });\n  }\n}(window));"
     },
     "metadata": {},
     "output_type": "display_data"
    },
    {
     "data": {
      "text/html": [
       "\n",
       "\n",
       "\n",
       "\n",
       "\n",
       "\n",
       "  <div class=\"bk-root\" id=\"8b2d7edb-df3f-4e60-b0b8-3e5c3f358213\" data-root-id=\"1002\"></div>\n"
      ]
     },
     "metadata": {},
     "output_type": "display_data"
    },
    {
     "data": {
      "application/javascript": [
       "(function(root) {\n",
       "  function embed_document(root) {\n",
       "    \n",
       "  var docs_json = {\"583b9745-9dc9-4a87-8b9c-e9e2eb6b0cd0\":{\"roots\":{\"references\":[{\"attributes\":{\"below\":[{\"id\":\"1013\"}],\"center\":[{\"id\":\"1016\"},{\"id\":\"1020\"}],\"left\":[{\"id\":\"1017\"}],\"plot_height\":700,\"plot_width\":900,\"renderers\":[{\"id\":\"1038\"}],\"title\":{\"id\":\"1003\"},\"toolbar\":{\"id\":\"1028\"},\"x_range\":{\"id\":\"1005\"},\"x_scale\":{\"id\":\"1009\"},\"y_range\":{\"id\":\"1007\"},\"y_scale\":{\"id\":\"1011\"}},\"id\":\"1002\",\"subtype\":\"Figure\",\"type\":\"Plot\"},{\"attributes\":{\"formatter\":{\"id\":\"1042\"},\"ticker\":{\"id\":\"1018\"}},\"id\":\"1017\",\"type\":\"LinearAxis\"},{\"attributes\":{\"overlay\":{\"id\":\"1027\"}},\"id\":\"1023\",\"type\":\"BoxZoomTool\"},{\"attributes\":{\"bottom_units\":\"screen\",\"fill_alpha\":0.5,\"fill_color\":\"lightgrey\",\"left_units\":\"screen\",\"level\":\"overlay\",\"line_alpha\":1.0,\"line_color\":\"black\",\"line_dash\":[4,4],\"line_width\":2,\"right_units\":\"screen\",\"top_units\":\"screen\"},\"id\":\"1027\",\"type\":\"BoxAnnotation\"},{\"attributes\":{\"active_drag\":\"auto\",\"active_inspect\":\"auto\",\"active_multi\":null,\"active_scroll\":\"auto\",\"active_tap\":\"auto\",\"tools\":[{\"id\":\"1021\"},{\"id\":\"1022\"},{\"id\":\"1023\"},{\"id\":\"1024\"},{\"id\":\"1025\"},{\"id\":\"1026\"}]},\"id\":\"1028\",\"type\":\"Toolbar\"},{\"attributes\":{},\"id\":\"1007\",\"type\":\"DataRange1d\"},{\"attributes\":{},\"id\":\"1014\",\"type\":\"BasicTicker\"},{\"attributes\":{\"data\":{\"fill_color\":[\"#1f77b4\",\"#1f77b4\",\"#1f77b4\",\"#1f77b4\",\"#1f77b4\",\"#1f77b4\",\"#1f77b4\",\"#1f77b4\",\"#1f77b4\",\"#1f77b4\",\"#1f77b4\",\"#1f77b4\",\"#1f77b4\",\"#1f77b4\",\"#1f77b4\",\"#1f77b4\",\"#1f77b4\",\"#1f77b4\",\"#1f77b4\",\"#1f77b4\",\"#1f77b4\",\"#1f77b4\",\"#1f77b4\",\"#1f77b4\",\"#1f77b4\",\"#1f77b4\",\"#1f77b4\",\"#1f77b4\",\"#1f77b4\",\"#1f77b4\",\"#1f77b4\",\"#1f77b4\",\"#1f77b4\",\"#1f77b4\",\"#1f77b4\",\"#1f77b4\",\"#1f77b4\",\"#1f77b4\",\"#1f77b4\",\"#1f77b4\",\"#1f77b4\",\"#ff7f0e\",\"#1f77b4\",\"#1f77b4\",\"#1f77b4\",\"#ff7f0e\",\"#1f77b4\",\"#ff7f0e\",\"#1f77b4\",\"#1f77b4\",\"#1f77b4\",\"#1f77b4\",\"#1f77b4\",\"#ff7f0e\",\"#1f77b4\",\"#1f77b4\",\"#1f77b4\",\"#1f77b4\",\"#1f77b4\",\"#1f77b4\",\"#1f77b4\",\"#1f77b4\",\"#1f77b4\",\"#1f77b4\",\"#ff7f0e\",\"#1f77b4\",\"#1f77b4\",\"#1f77b4\",\"#1f77b4\",\"#1f77b4\",\"#ff7f0e\",\"#1f77b4\",\"#1f77b4\",\"#1f77b4\",\"#1f77b4\",\"#1f77b4\",\"#ff7f0e\",\"#1f77b4\",\"#1f77b4\",\"#1f77b4\",\"#1f77b4\",\"#1f77b4\",\"#ff7f0e\",\"#ff7f0e\",\"#1f77b4\",\"#1f77b4\",\"#1f77b4\",\"#1f77b4\",\"#1f77b4\",\"#1f77b4\",\"#1f77b4\",\"#1f77b4\",\"#1f77b4\",\"#1f77b4\",\"#1f77b4\",\"#ff7f0e\",\"#1f77b4\",\"#1f77b4\",\"#1f77b4\",\"#1f77b4\",\"#1f77b4\",\"#1f77b4\",\"#1f77b4\",\"#1f77b4\",\"#1f77b4\",\"#1f77b4\",\"#1f77b4\",\"#1f77b4\",\"#1f77b4\",\"#1f77b4\",\"#1f77b4\",\"#1f77b4\",\"#1f77b4\",\"#1f77b4\",\"#1f77b4\",\"#1f77b4\",\"#1f77b4\",\"#1f77b4\",\"#1f77b4\",\"#1f77b4\",\"#1f77b4\",\"#1f77b4\",\"#1f77b4\",\"#1f77b4\",\"#1f77b4\",\"#ff7f0e\",\"#1f77b4\",\"#1f77b4\",\"#1f77b4\",\"#1f77b4\",\"#1f77b4\",\"#1f77b4\",\"#1f77b4\",\"#1f77b4\",\"#1f77b4\",\"#1f77b4\",\"#1f77b4\",\"#ff7f0e\",\"#1f77b4\",\"#1f77b4\",\"#1f77b4\",\"#1f77b4\",\"#ff7f0e\",\"#1f77b4\",\"#ff7f0e\",\"#1f77b4\",\"#1f77b4\",\"#1f77b4\",\"#1f77b4\",\"#1f77b4\",\"#ff7f0e\",\"#1f77b4\",\"#1f77b4\",\"#1f77b4\",\"#1f77b4\",\"#1f77b4\",\"#1f77b4\",\"#1f77b4\",\"#1f77b4\",\"#1f77b4\",\"#1f77b4\",\"#1f77b4\",\"#1f77b4\",\"#1f77b4\",\"#1f77b4\",\"#1f77b4\",\"#1f77b4\",\"#1f77b4\",\"#1f77b4\",\"#1f77b4\",\"#1f77b4\",\"#1f77b4\",\"#1f77b4\",\"#1f77b4\",\"#1f77b4\",\"#1f77b4\",\"#1f77b4\",\"#1f77b4\",\"#1f77b4\",\"#1f77b4\",\"#1f77b4\",\"#1f77b4\",\"#1f77b4\",\"#1f77b4\",\"#1f77b4\",\"#1f77b4\",\"#1f77b4\",\"#1f77b4\",\"#1f77b4\",\"#1f77b4\",\"#1f77b4\",\"#1f77b4\",\"#ff7f0e\",\"#1f77b4\",\"#1f77b4\",\"#1f77b4\",\"#1f77b4\",\"#1f77b4\",\"#1f77b4\",\"#1f77b4\",\"#1f77b4\",\"#1f77b4\",\"#1f77b4\",\"#1f77b4\",\"#ff7f0e\",\"#1f77b4\",\"#1f77b4\",\"#1f77b4\",\"#1f77b4\",\"#1f77b4\",\"#1f77b4\",\"#1f77b4\",\"#1f77b4\",\"#1f77b4\",\"#1f77b4\",\"#1f77b4\",\"#ff7f0e\",\"#1f77b4\",\"#1f77b4\",\"#1f77b4\",\"#1f77b4\",\"#1f77b4\",\"#ff7f0e\",\"#1f77b4\",\"#1f77b4\",\"#1f77b4\",\"#1f77b4\",\"#1f77b4\",\"#ff7f0e\",\"#1f77b4\",\"#1f77b4\",\"#1f77b4\",\"#1f77b4\",\"#1f77b4\",\"#ff7f0e\",\"#1f77b4\",\"#1f77b4\",\"#1f77b4\",\"#1f77b4\",\"#1f77b4\",\"#1f77b4\",\"#1f77b4\",\"#1f77b4\",\"#1f77b4\",\"#1f77b4\",\"#1f77b4\",\"#1f77b4\",\"#1f77b4\",\"#1f77b4\",\"#1f77b4\",\"#1f77b4\",\"#1f77b4\",\"#1f77b4\",\"#1f77b4\",\"#1f77b4\",\"#1f77b4\",\"#1f77b4\",\"#1f77b4\",\"#ff7f0e\",\"#1f77b4\",\"#1f77b4\",\"#1f77b4\",\"#1f77b4\",\"#1f77b4\",\"#ff7f0e\",\"#1f77b4\",\"#1f77b4\",\"#1f77b4\",\"#1f77b4\",\"#1f77b4\",\"#ff7f0e\",\"#1f77b4\",\"#1f77b4\",\"#1f77b4\",\"#1f77b4\",\"#1f77b4\",\"#ff7f0e\",\"#1f77b4\",\"#1f77b4\",\"#1f77b4\",\"#1f77b4\",\"#1f77b4\",\"#ff7f0e\",\"#1f77b4\",\"#1f77b4\",\"#1f77b4\",\"#1f77b4\",\"#ff7f0e\",\"#1f77b4\",\"#1f77b4\",\"#1f77b4\",\"#1f77b4\",\"#1f77b4\",\"#1f77b4\",\"#1f77b4\",\"#1f77b4\",\"#1f77b4\",\"#1f77b4\",\"#1f77b4\",\"#1f77b4\",\"#ff7f0e\",\"#1f77b4\",\"#1f77b4\",\"#1f77b4\",\"#1f77b4\",\"#1f77b4\",\"#1f77b4\",\"#1f77b4\",\"#1f77b4\",\"#1f77b4\",\"#1f77b4\",\"#1f77b4\",\"#ff7f0e\",\"#ff7f0e\",\"#1f77b4\",\"#1f77b4\",\"#1f77b4\",\"#1f77b4\",\"#1f77b4\",\"#1f77b4\",\"#1f77b4\",\"#1f77b4\",\"#1f77b4\",\"#1f77b4\",\"#ff7f0e\",\"#1f77b4\",\"#1f77b4\",\"#1f77b4\",\"#1f77b4\",\"#1f77b4\",\"#1f77b4\",\"#1f77b4\",\"#1f77b4\",\"#1f77b4\",\"#1f77b4\",\"#1f77b4\",\"#1f77b4\",\"#1f77b4\",\"#1f77b4\",\"#1f77b4\",\"#1f77b4\",\"#ff7f0e\",\"#1f77b4\",\"#1f77b4\",\"#1f77b4\",\"#1f77b4\",\"#1f77b4\",\"#ff7f0e\",\"#1f77b4\",\"#1f77b4\",\"#1f77b4\",\"#1f77b4\",\"#1f77b4\",\"#ff7f0e\",\"#1f77b4\",\"#1f77b4\",\"#1f77b4\",\"#1f77b4\",\"#1f77b4\",\"#1f77b4\",\"#1f77b4\",\"#1f77b4\",\"#1f77b4\",\"#1f77b4\",\"#1f77b4\",\"#1f77b4\",\"#1f77b4\",\"#1f77b4\",\"#1f77b4\",\"#1f77b4\",\"#1f77b4\",\"#ff7f0e\",\"#1f77b4\",\"#1f77b4\",\"#1f77b4\",\"#1f77b4\",\"#1f77b4\",\"#ff7f0e\",\"#1f77b4\",\"#1f77b4\",\"#1f77b4\",\"#1f77b4\",\"#1f77b4\",\"#1f77b4\",\"#1f77b4\",\"#1f77b4\",\"#1f77b4\",\"#1f77b4\",\"#1f77b4\",\"#1f77b4\",\"#1f77b4\",\"#1f77b4\",\"#1f77b4\",\"#1f77b4\",\"#1f77b4\",\"#1f77b4\",\"#1f77b4\",\"#1f77b4\",\"#1f77b4\",\"#1f77b4\",\"#1f77b4\",\"#ff7f0e\",\"#1f77b4\",\"#1f77b4\",\"#1f77b4\",\"#1f77b4\",\"#1f77b4\",\"#1f77b4\",\"#1f77b4\",\"#1f77b4\",\"#1f77b4\",\"#1f77b4\",\"#1f77b4\",\"#ff7f0e\",\"#1f77b4\",\"#1f77b4\",\"#1f77b4\",\"#1f77b4\",\"#1f77b4\",\"#1f77b4\",\"#1f77b4\",\"#1f77b4\",\"#1f77b4\",\"#1f77b4\",\"#1f77b4\",\"#ff7f0e\",\"#1f77b4\",\"#1f77b4\",\"#1f77b4\",\"#1f77b4\",\"#1f77b4\",\"#1f77b4\",\"#1f77b4\",\"#1f77b4\",\"#1f77b4\",\"#1f77b4\",\"#1f77b4\",\"#ff7f0e\",\"#1f77b4\",\"#1f77b4\",\"#1f77b4\",\"#1f77b4\",\"#1f77b4\",\"#ff7f0e\",\"#1f77b4\",\"#1f77b4\",\"#1f77b4\",\"#1f77b4\",\"#1f77b4\",\"#ff7f0e\",\"#1f77b4\",\"#1f77b4\",\"#1f77b4\",\"#1f77b4\",\"#1f77b4\",\"#ff7f0e\",\"#1f77b4\",\"#1f77b4\",\"#1f77b4\",\"#1f77b4\",\"#1f77b4\",\"#ff7f0e\",\"#1f77b4\",\"#1f77b4\",\"#1f77b4\",\"#1f77b4\",\"#1f77b4\",\"#ff7f0e\",\"#1f77b4\",\"#1f77b4\",\"#1f77b4\",\"#1f77b4\",\"#1f77b4\",\"#ff7f0e\",\"#1f77b4\",\"#1f77b4\",\"#1f77b4\",\"#1f77b4\",\"#1f77b4\",\"#ff7f0e\",\"#1f77b4\",\"#1f77b4\",\"#1f77b4\",\"#1f77b4\",\"#1f77b4\",\"#1f77b4\",\"#1f77b4\",\"#1f77b4\",\"#1f77b4\",\"#1f77b4\",\"#1f77b4\",\"#1f77b4\",\"#1f77b4\",\"#1f77b4\",\"#1f77b4\",\"#1f77b4\",\"#1f77b4\",\"#1f77b4\",\"#1f77b4\",\"#1f77b4\",\"#1f77b4\",\"#1f77b4\",\"#1f77b4\",\"#1f77b4\",\"#1f77b4\",\"#1f77b4\",\"#1f77b4\",\"#1f77b4\",\"#1f77b4\",\"#1f77b4\",\"#1f77b4\",\"#1f77b4\",\"#1f77b4\",\"#1f77b4\",\"#1f77b4\",\"#1f77b4\",\"#ff7f0e\",\"#1f77b4\",\"#1f77b4\",\"#1f77b4\",\"#1f77b4\",\"#1f77b4\",\"#ff7f0e\",\"#1f77b4\",\"#1f77b4\",\"#1f77b4\",\"#1f77b4\",\"#1f77b4\",\"#ff7f0e\",\"#1f77b4\",\"#1f77b4\",\"#1f77b4\",\"#1f77b4\",\"#1f77b4\",\"#ff7f0e\",\"#ff7f0e\",\"#ff7f0e\",\"#ff7f0e\",\"#ff7f0e\",\"#d62728\",\"#ff7f0e\",\"#ff7f0e\",\"#ff7f0e\",\"#ff7f0e\",\"#ff7f0e\",\"#ff7f0e\",\"#ff7f0e\",\"#ff7f0e\",\"#d62728\",\"#ff7f0e\",\"#ff7f0e\",\"#ff7f0e\",\"#ff7f0e\",\"#1f77b4\",\"#ff7f0e\",\"#2ca02c\",\"#ff7f0e\",\"#ff7f0e\",\"#ff7f0e\",\"#ff7f0e\",\"#ff7f0e\",\"#d62728\",\"#1f77b4\",\"#ff7f0e\",\"#1f77b4\",\"#1f77b4\",\"#2ca02c\",\"#ff7f0e\",\"#d62728\",\"#ff7f0e\",\"#ff7f0e\",\"#ff7f0e\",\"#ff7f0e\",\"#ff7f0e\",\"#ff7f0e\",\"#ff7f0e\",\"#ff7f0e\",\"#ff7f0e\",\"#ff7f0e\",\"#ff7f0e\",\"#ff7f0e\",\"#ff7f0e\",\"#1f77b4\",\"#ff7f0e\",\"#ff7f0e\",\"#ff7f0e\",\"#ff7f0e\",\"#ff7f0e\",\"#ff7f0e\",\"#d62728\",\"#d62728\",\"#ff7f0e\",\"#ff7f0e\",\"#ff7f0e\",\"#2ca02c\",\"#ff7f0e\",\"#ff7f0e\",\"#ff7f0e\",\"#ff7f0e\",\"#1f77b4\",\"#ff7f0e\",\"#ff7f0e\",\"#ff7f0e\",\"#ff7f0e\",\"#ff7f0e\",\"#ff7f0e\",\"#1f77b4\",\"#ff7f0e\",\"#ff7f0e\",\"#ff7f0e\",\"#ff7f0e\",\"#ff7f0e\",\"#d62728\",\"#1f77b4\",\"#1f77b4\",\"#ff7f0e\",\"#d62728\",\"#ff7f0e\",\"#d62728\",\"#ff7f0e\",\"#ff7f0e\",\"#ff7f0e\",\"#d62728\",\"#d62728\",\"#ff7f0e\",\"#2ca02c\",\"#2ca02c\",\"#2ca02c\",\"#2ca02c\",\"#2ca02c\",\"#d62728\",\"#ff7f0e\",\"#2ca02c\",\"#ff7f0e\",\"#d62728\",\"#2ca02c\",\"#ff7f0e\",\"#2ca02c\",\"#2ca02c\",\"#d62728\",\"#2ca02c\",\"#2ca02c\",\"#2ca02c\",\"#2ca02c\",\"#2ca02c\",\"#2ca02c\",\"#d62728\",\"#2ca02c\",\"#2ca02c\",\"#d62728\",\"#ff7f0e\",\"#ff7f0e\",\"#2ca02c\",\"#2ca02c\",\"#ff7f0e\",\"#ff7f0e\",\"#d62728\",\"#d62728\",\"#2ca02c\",\"#2ca02c\",\"#d62728\",\"#d62728\",\"#2ca02c\",\"#ff7f0e\",\"#2ca02c\",\"#d62728\",\"#2ca02c\",\"#2ca02c\",\"#2ca02c\",\"#ff7f0e\",\"#d62728\",\"#2ca02c\",\"#d62728\",\"#2ca02c\",\"#d62728\",\"#2ca02c\",\"#2ca02c\",\"#2ca02c\",\"#2ca02c\",\"#ff7f0e\",\"#d62728\",\"#ff7f0e\",\"#d62728\",\"#2ca02c\",\"#ff7f0e\",\"#d62728\",\"#2ca02c\",\"#2ca02c\",\"#d62728\",\"#ff7f0e\",\"#ff7f0e\",\"#2ca02c\",\"#2ca02c\",\"#ff7f0e\",\"#ff7f0e\",\"#ff7f0e\",\"#ff7f0e\",\"#2ca02c\",\"#2ca02c\",\"#2ca02c\",\"#ff7f0e\",\"#d62728\",\"#2ca02c\",\"#2ca02c\",\"#2ca02c\",\"#2ca02c\",\"#2ca02c\",\"#d62728\",\"#d62728\",\"#d62728\",\"#d62728\",\"#d62728\",\"#2ca02c\",\"#ff7f0e\",\"#2ca02c\",\"#2ca02c\",\"#d62728\",\"#d62728\",\"#d62728\"],\"line_color\":[\"#1f77b4\",\"#1f77b4\",\"#1f77b4\",\"#1f77b4\",\"#1f77b4\",\"#1f77b4\",\"#1f77b4\",\"#1f77b4\",\"#1f77b4\",\"#1f77b4\",\"#1f77b4\",\"#1f77b4\",\"#1f77b4\",\"#1f77b4\",\"#1f77b4\",\"#1f77b4\",\"#1f77b4\",\"#1f77b4\",\"#1f77b4\",\"#1f77b4\",\"#1f77b4\",\"#1f77b4\",\"#1f77b4\",\"#1f77b4\",\"#1f77b4\",\"#1f77b4\",\"#1f77b4\",\"#1f77b4\",\"#1f77b4\",\"#1f77b4\",\"#1f77b4\",\"#1f77b4\",\"#1f77b4\",\"#1f77b4\",\"#1f77b4\",\"#1f77b4\",\"#1f77b4\",\"#1f77b4\",\"#1f77b4\",\"#1f77b4\",\"#1f77b4\",\"#ff7f0e\",\"#1f77b4\",\"#1f77b4\",\"#1f77b4\",\"#ff7f0e\",\"#1f77b4\",\"#ff7f0e\",\"#1f77b4\",\"#1f77b4\",\"#1f77b4\",\"#1f77b4\",\"#1f77b4\",\"#ff7f0e\",\"#1f77b4\",\"#1f77b4\",\"#1f77b4\",\"#1f77b4\",\"#1f77b4\",\"#1f77b4\",\"#1f77b4\",\"#1f77b4\",\"#1f77b4\",\"#1f77b4\",\"#ff7f0e\",\"#1f77b4\",\"#1f77b4\",\"#1f77b4\",\"#1f77b4\",\"#1f77b4\",\"#ff7f0e\",\"#1f77b4\",\"#1f77b4\",\"#1f77b4\",\"#1f77b4\",\"#1f77b4\",\"#ff7f0e\",\"#1f77b4\",\"#1f77b4\",\"#1f77b4\",\"#1f77b4\",\"#1f77b4\",\"#ff7f0e\",\"#ff7f0e\",\"#1f77b4\",\"#1f77b4\",\"#1f77b4\",\"#1f77b4\",\"#1f77b4\",\"#1f77b4\",\"#1f77b4\",\"#1f77b4\",\"#1f77b4\",\"#1f77b4\",\"#1f77b4\",\"#ff7f0e\",\"#1f77b4\",\"#1f77b4\",\"#1f77b4\",\"#1f77b4\",\"#1f77b4\",\"#1f77b4\",\"#1f77b4\",\"#1f77b4\",\"#1f77b4\",\"#1f77b4\",\"#1f77b4\",\"#1f77b4\",\"#1f77b4\",\"#1f77b4\",\"#1f77b4\",\"#1f77b4\",\"#1f77b4\",\"#1f77b4\",\"#1f77b4\",\"#1f77b4\",\"#1f77b4\",\"#1f77b4\",\"#1f77b4\",\"#1f77b4\",\"#1f77b4\",\"#1f77b4\",\"#1f77b4\",\"#1f77b4\",\"#1f77b4\",\"#ff7f0e\",\"#1f77b4\",\"#1f77b4\",\"#1f77b4\",\"#1f77b4\",\"#1f77b4\",\"#1f77b4\",\"#1f77b4\",\"#1f77b4\",\"#1f77b4\",\"#1f77b4\",\"#1f77b4\",\"#ff7f0e\",\"#1f77b4\",\"#1f77b4\",\"#1f77b4\",\"#1f77b4\",\"#ff7f0e\",\"#1f77b4\",\"#ff7f0e\",\"#1f77b4\",\"#1f77b4\",\"#1f77b4\",\"#1f77b4\",\"#1f77b4\",\"#ff7f0e\",\"#1f77b4\",\"#1f77b4\",\"#1f77b4\",\"#1f77b4\",\"#1f77b4\",\"#1f77b4\",\"#1f77b4\",\"#1f77b4\",\"#1f77b4\",\"#1f77b4\",\"#1f77b4\",\"#1f77b4\",\"#1f77b4\",\"#1f77b4\",\"#1f77b4\",\"#1f77b4\",\"#1f77b4\",\"#1f77b4\",\"#1f77b4\",\"#1f77b4\",\"#1f77b4\",\"#1f77b4\",\"#1f77b4\",\"#1f77b4\",\"#1f77b4\",\"#1f77b4\",\"#1f77b4\",\"#1f77b4\",\"#1f77b4\",\"#1f77b4\",\"#1f77b4\",\"#1f77b4\",\"#1f77b4\",\"#1f77b4\",\"#1f77b4\",\"#1f77b4\",\"#1f77b4\",\"#1f77b4\",\"#1f77b4\",\"#1f77b4\",\"#1f77b4\",\"#ff7f0e\",\"#1f77b4\",\"#1f77b4\",\"#1f77b4\",\"#1f77b4\",\"#1f77b4\",\"#1f77b4\",\"#1f77b4\",\"#1f77b4\",\"#1f77b4\",\"#1f77b4\",\"#1f77b4\",\"#ff7f0e\",\"#1f77b4\",\"#1f77b4\",\"#1f77b4\",\"#1f77b4\",\"#1f77b4\",\"#1f77b4\",\"#1f77b4\",\"#1f77b4\",\"#1f77b4\",\"#1f77b4\",\"#1f77b4\",\"#ff7f0e\",\"#1f77b4\",\"#1f77b4\",\"#1f77b4\",\"#1f77b4\",\"#1f77b4\",\"#ff7f0e\",\"#1f77b4\",\"#1f77b4\",\"#1f77b4\",\"#1f77b4\",\"#1f77b4\",\"#ff7f0e\",\"#1f77b4\",\"#1f77b4\",\"#1f77b4\",\"#1f77b4\",\"#1f77b4\",\"#ff7f0e\",\"#1f77b4\",\"#1f77b4\",\"#1f77b4\",\"#1f77b4\",\"#1f77b4\",\"#1f77b4\",\"#1f77b4\",\"#1f77b4\",\"#1f77b4\",\"#1f77b4\",\"#1f77b4\",\"#1f77b4\",\"#1f77b4\",\"#1f77b4\",\"#1f77b4\",\"#1f77b4\",\"#1f77b4\",\"#1f77b4\",\"#1f77b4\",\"#1f77b4\",\"#1f77b4\",\"#1f77b4\",\"#1f77b4\",\"#ff7f0e\",\"#1f77b4\",\"#1f77b4\",\"#1f77b4\",\"#1f77b4\",\"#1f77b4\",\"#ff7f0e\",\"#1f77b4\",\"#1f77b4\",\"#1f77b4\",\"#1f77b4\",\"#1f77b4\",\"#ff7f0e\",\"#1f77b4\",\"#1f77b4\",\"#1f77b4\",\"#1f77b4\",\"#1f77b4\",\"#ff7f0e\",\"#1f77b4\",\"#1f77b4\",\"#1f77b4\",\"#1f77b4\",\"#1f77b4\",\"#ff7f0e\",\"#1f77b4\",\"#1f77b4\",\"#1f77b4\",\"#1f77b4\",\"#ff7f0e\",\"#1f77b4\",\"#1f77b4\",\"#1f77b4\",\"#1f77b4\",\"#1f77b4\",\"#1f77b4\",\"#1f77b4\",\"#1f77b4\",\"#1f77b4\",\"#1f77b4\",\"#1f77b4\",\"#1f77b4\",\"#ff7f0e\",\"#1f77b4\",\"#1f77b4\",\"#1f77b4\",\"#1f77b4\",\"#1f77b4\",\"#1f77b4\",\"#1f77b4\",\"#1f77b4\",\"#1f77b4\",\"#1f77b4\",\"#1f77b4\",\"#ff7f0e\",\"#ff7f0e\",\"#1f77b4\",\"#1f77b4\",\"#1f77b4\",\"#1f77b4\",\"#1f77b4\",\"#1f77b4\",\"#1f77b4\",\"#1f77b4\",\"#1f77b4\",\"#1f77b4\",\"#ff7f0e\",\"#1f77b4\",\"#1f77b4\",\"#1f77b4\",\"#1f77b4\",\"#1f77b4\",\"#1f77b4\",\"#1f77b4\",\"#1f77b4\",\"#1f77b4\",\"#1f77b4\",\"#1f77b4\",\"#1f77b4\",\"#1f77b4\",\"#1f77b4\",\"#1f77b4\",\"#1f77b4\",\"#ff7f0e\",\"#1f77b4\",\"#1f77b4\",\"#1f77b4\",\"#1f77b4\",\"#1f77b4\",\"#ff7f0e\",\"#1f77b4\",\"#1f77b4\",\"#1f77b4\",\"#1f77b4\",\"#1f77b4\",\"#ff7f0e\",\"#1f77b4\",\"#1f77b4\",\"#1f77b4\",\"#1f77b4\",\"#1f77b4\",\"#1f77b4\",\"#1f77b4\",\"#1f77b4\",\"#1f77b4\",\"#1f77b4\",\"#1f77b4\",\"#1f77b4\",\"#1f77b4\",\"#1f77b4\",\"#1f77b4\",\"#1f77b4\",\"#1f77b4\",\"#ff7f0e\",\"#1f77b4\",\"#1f77b4\",\"#1f77b4\",\"#1f77b4\",\"#1f77b4\",\"#ff7f0e\",\"#1f77b4\",\"#1f77b4\",\"#1f77b4\",\"#1f77b4\",\"#1f77b4\",\"#1f77b4\",\"#1f77b4\",\"#1f77b4\",\"#1f77b4\",\"#1f77b4\",\"#1f77b4\",\"#1f77b4\",\"#1f77b4\",\"#1f77b4\",\"#1f77b4\",\"#1f77b4\",\"#1f77b4\",\"#1f77b4\",\"#1f77b4\",\"#1f77b4\",\"#1f77b4\",\"#1f77b4\",\"#1f77b4\",\"#ff7f0e\",\"#1f77b4\",\"#1f77b4\",\"#1f77b4\",\"#1f77b4\",\"#1f77b4\",\"#1f77b4\",\"#1f77b4\",\"#1f77b4\",\"#1f77b4\",\"#1f77b4\",\"#1f77b4\",\"#ff7f0e\",\"#1f77b4\",\"#1f77b4\",\"#1f77b4\",\"#1f77b4\",\"#1f77b4\",\"#1f77b4\",\"#1f77b4\",\"#1f77b4\",\"#1f77b4\",\"#1f77b4\",\"#1f77b4\",\"#ff7f0e\",\"#1f77b4\",\"#1f77b4\",\"#1f77b4\",\"#1f77b4\",\"#1f77b4\",\"#1f77b4\",\"#1f77b4\",\"#1f77b4\",\"#1f77b4\",\"#1f77b4\",\"#1f77b4\",\"#ff7f0e\",\"#1f77b4\",\"#1f77b4\",\"#1f77b4\",\"#1f77b4\",\"#1f77b4\",\"#ff7f0e\",\"#1f77b4\",\"#1f77b4\",\"#1f77b4\",\"#1f77b4\",\"#1f77b4\",\"#ff7f0e\",\"#1f77b4\",\"#1f77b4\",\"#1f77b4\",\"#1f77b4\",\"#1f77b4\",\"#ff7f0e\",\"#1f77b4\",\"#1f77b4\",\"#1f77b4\",\"#1f77b4\",\"#1f77b4\",\"#ff7f0e\",\"#1f77b4\",\"#1f77b4\",\"#1f77b4\",\"#1f77b4\",\"#1f77b4\",\"#ff7f0e\",\"#1f77b4\",\"#1f77b4\",\"#1f77b4\",\"#1f77b4\",\"#1f77b4\",\"#ff7f0e\",\"#1f77b4\",\"#1f77b4\",\"#1f77b4\",\"#1f77b4\",\"#1f77b4\",\"#ff7f0e\",\"#1f77b4\",\"#1f77b4\",\"#1f77b4\",\"#1f77b4\",\"#1f77b4\",\"#1f77b4\",\"#1f77b4\",\"#1f77b4\",\"#1f77b4\",\"#1f77b4\",\"#1f77b4\",\"#1f77b4\",\"#1f77b4\",\"#1f77b4\",\"#1f77b4\",\"#1f77b4\",\"#1f77b4\",\"#1f77b4\",\"#1f77b4\",\"#1f77b4\",\"#1f77b4\",\"#1f77b4\",\"#1f77b4\",\"#1f77b4\",\"#1f77b4\",\"#1f77b4\",\"#1f77b4\",\"#1f77b4\",\"#1f77b4\",\"#1f77b4\",\"#1f77b4\",\"#1f77b4\",\"#1f77b4\",\"#1f77b4\",\"#1f77b4\",\"#1f77b4\",\"#ff7f0e\",\"#1f77b4\",\"#1f77b4\",\"#1f77b4\",\"#1f77b4\",\"#1f77b4\",\"#ff7f0e\",\"#1f77b4\",\"#1f77b4\",\"#1f77b4\",\"#1f77b4\",\"#1f77b4\",\"#ff7f0e\",\"#1f77b4\",\"#1f77b4\",\"#1f77b4\",\"#1f77b4\",\"#1f77b4\",\"#ff7f0e\",\"#ff7f0e\",\"#ff7f0e\",\"#ff7f0e\",\"#ff7f0e\",\"#d62728\",\"#ff7f0e\",\"#ff7f0e\",\"#ff7f0e\",\"#ff7f0e\",\"#ff7f0e\",\"#ff7f0e\",\"#ff7f0e\",\"#ff7f0e\",\"#d62728\",\"#ff7f0e\",\"#ff7f0e\",\"#ff7f0e\",\"#ff7f0e\",\"#1f77b4\",\"#ff7f0e\",\"#2ca02c\",\"#ff7f0e\",\"#ff7f0e\",\"#ff7f0e\",\"#ff7f0e\",\"#ff7f0e\",\"#d62728\",\"#1f77b4\",\"#ff7f0e\",\"#1f77b4\",\"#1f77b4\",\"#2ca02c\",\"#ff7f0e\",\"#d62728\",\"#ff7f0e\",\"#ff7f0e\",\"#ff7f0e\",\"#ff7f0e\",\"#ff7f0e\",\"#ff7f0e\",\"#ff7f0e\",\"#ff7f0e\",\"#ff7f0e\",\"#ff7f0e\",\"#ff7f0e\",\"#ff7f0e\",\"#ff7f0e\",\"#1f77b4\",\"#ff7f0e\",\"#ff7f0e\",\"#ff7f0e\",\"#ff7f0e\",\"#ff7f0e\",\"#ff7f0e\",\"#d62728\",\"#d62728\",\"#ff7f0e\",\"#ff7f0e\",\"#ff7f0e\",\"#2ca02c\",\"#ff7f0e\",\"#ff7f0e\",\"#ff7f0e\",\"#ff7f0e\",\"#1f77b4\",\"#ff7f0e\",\"#ff7f0e\",\"#ff7f0e\",\"#ff7f0e\",\"#ff7f0e\",\"#ff7f0e\",\"#1f77b4\",\"#ff7f0e\",\"#ff7f0e\",\"#ff7f0e\",\"#ff7f0e\",\"#ff7f0e\",\"#d62728\",\"#1f77b4\",\"#1f77b4\",\"#ff7f0e\",\"#d62728\",\"#ff7f0e\",\"#d62728\",\"#ff7f0e\",\"#ff7f0e\",\"#ff7f0e\",\"#d62728\",\"#d62728\",\"#ff7f0e\",\"#2ca02c\",\"#2ca02c\",\"#2ca02c\",\"#2ca02c\",\"#2ca02c\",\"#d62728\",\"#ff7f0e\",\"#2ca02c\",\"#ff7f0e\",\"#d62728\",\"#2ca02c\",\"#ff7f0e\",\"#2ca02c\",\"#2ca02c\",\"#d62728\",\"#2ca02c\",\"#2ca02c\",\"#2ca02c\",\"#2ca02c\",\"#2ca02c\",\"#2ca02c\",\"#d62728\",\"#2ca02c\",\"#2ca02c\",\"#d62728\",\"#ff7f0e\",\"#ff7f0e\",\"#2ca02c\",\"#2ca02c\",\"#ff7f0e\",\"#ff7f0e\",\"#d62728\",\"#d62728\",\"#2ca02c\",\"#2ca02c\",\"#d62728\",\"#d62728\",\"#2ca02c\",\"#ff7f0e\",\"#2ca02c\",\"#d62728\",\"#2ca02c\",\"#2ca02c\",\"#2ca02c\",\"#ff7f0e\",\"#d62728\",\"#2ca02c\",\"#d62728\",\"#2ca02c\",\"#d62728\",\"#2ca02c\",\"#2ca02c\",\"#2ca02c\",\"#2ca02c\",\"#ff7f0e\",\"#d62728\",\"#ff7f0e\",\"#d62728\",\"#2ca02c\",\"#ff7f0e\",\"#d62728\",\"#2ca02c\",\"#2ca02c\",\"#d62728\",\"#ff7f0e\",\"#ff7f0e\",\"#2ca02c\",\"#2ca02c\",\"#ff7f0e\",\"#ff7f0e\",\"#ff7f0e\",\"#ff7f0e\",\"#2ca02c\",\"#2ca02c\",\"#2ca02c\",\"#ff7f0e\",\"#d62728\",\"#2ca02c\",\"#2ca02c\",\"#2ca02c\",\"#2ca02c\",\"#2ca02c\",\"#d62728\",\"#d62728\",\"#d62728\",\"#d62728\",\"#d62728\",\"#2ca02c\",\"#ff7f0e\",\"#2ca02c\",\"#2ca02c\",\"#d62728\",\"#d62728\",\"#d62728\"],\"x\":{\"__ndarray__\":\"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\",\"dtype\":\"float32\",\"order\":\"little\",\"shape\":[719]},\"y\":{\"__ndarray__\":\"x1Y1QS224sAN3b7BmUbswEaJ7ECTypBBOdR2wLAIlUES5BTCvJtcwTQPyj9i1I5B2jV0QC6sDcLcgqzBwMOfQR3vHsHV3WZBvoEwQUCA7EAZS4vBO6hVQcIzccC8UYlBVwlGQTa+tsHLkgvCcyUXwas4IEHDU4ZBvdz4wIkCusHGHRDC1Kv+wEuds0Cymm9BvCIwQVc4mEFXfQ3C9YozQe6u1UB9BBpBnZ6XQSEruMEi08nB6ZFKQTe2nUE1fFxB6NjTwLldPkE5vRXCahOdQcIzcEC3Y0dBz9a3wVcNokE8qRLCzyXTvIV5E8HUjYRB3BYbQUdVWUGwJhTCR5NBwTvA+EA4usXAugwKQeg0tMEFgxRAuOkJPyH+MEHNx4PBM5YLwd3WD8LLrCHBz1YwQUn9IEHOno3AEZyEQdpJXsEo2TXBr+0LQBy7HEG9je5ApdaJQTT+PcGrDgzCHiWTQUm3l8FbrY5BwDI+QTXMj8E2S4zBUKjzv1Z+AUG7wrlAXtYKwheOSUGDZBHC13krQWeVX8C7kUlBgZuUQa9+O8BWxR1BDih+QVN3hsDlJIFBD2twPywkWMGiTMLBxUo6wWg1qL8zr55BzxtgQSVlg8CYKg7CTOoYwWrUoUFImZJBFPSAP/azXkDjMhbCml2MwU446sDSkBxAczWfQXqeuUD9PMXBAzuawNM/WkE6dp9BulEoQQ3/lkEKOhfCWtyIwXIfTEA6s/tAxvBEQK/Xc8HLGBnCbOSMQRVh90DMGw/BX2PpQEYqj0GggaFBKJORwfzrk0HfSTTB4GG5QJg5AUHRZ0nBZDuXwTLwnEEHlUtB8a6fQU/TAEGnDpxBPguHwRdjkUHsiay7+56nQfCJOEEFOVDBTiZ5wA0miUF8QqJBOTuSQTc1WkEEqkVBs79TwXsHlUHtWSJBZTGfQSJFB0Dx7C9BeTtnwQzJk0Ei9YZBGECFQRs7asD0SjdBsrJTwd0Yx0ALMdZAD22hQeILi0HOk51Bz5e3wbzwZEHA50hBAtpPQTj2U8EEg7bBiLRhwR8eE8CrR5/BeI+TQaqkvsC+l1HB9CTAwWbqpEGaYoPAW3AYQX/SB8FlvefAmQUQwgTsokE9Jp9B40SQQW226cA/WgxBQK8TwhDXs0DVGppBk08JQZLkmkFVNo1Bab7Awd5FEUECi5xAWKyzQMiFbEGxk5xBDNe/wQtHm0Ct46JBVyuwQDooGEHahQRBKUGFwR8uokFIt0bBn+S/QKvlYsBnFZJBZyLHwSfxnEGPZmxBdf9iQfYwCUFKE4PBIBQQwpBzl0ECLUXA0D+LQQZv5j+mhwtAbQ8SwqE+g0FEwpdB85WmQYmml0HNrYTBZUmrwSbOoUG38KFBrD/XQLx0ysBK7Z9BLU1WwQ7hiUHox0VBzPcWQTb/LUAqt8XBsfmFwa2mP0F/f45BmwbDQNwtLEGZsodBTpgWwi1CdkGSpZ1BFYxGQRaflEE0uYNBKgtbQE3IqUF05otBCKUOQHawVEEOeIVBlGlBwcgaU0Et1xdBY2VxQcDYS0DKxzvAnoQTwhu2qUBqCDNAoF5XQXySkcAdj6tAQk+PwZcpnkFsbwRBxVM7QSxvUEAgGZpBenSZwcqCf0GDNgFBVpeVQUqOmUDrATXBIF0XwrYkFMG3bYlBHiwrQR8bQkEAXIhBE/1NwQYoj0FcTK3AS/qDQZmIuMBw+ZpBb5gRwpqggcHDrAdBazHvQDx8SkF2eUpBwayxwYQt9L+bIZNB9KmTQZqQF8AMzotB7MCPwYuRhUExpe3AulHRwOaKFkDSlQfCUNqiQc0XrUFrqDxBO7naQKk0lkEnRjTBM9SbQf7cTMEnyy9BGwrvQJ4GXkH8ZZLBZwNkwUnyjkE0+LtAUWvGP+YIWUH6exnCWcpIQToyPMHU1GVB/maFQcA0lMGXbL7B4hyPQRbshkD+3I9BrqjVwKI5l7+y8xLCpkykQSoooUEgy7hAmgijQXUcIkGHNhHCpDsDQQUkPkGHn9pAS3uzQDtTs8HU4Q7Cvp1fQTVzmUEfVZpBF7pcQfMNaEGVRa3B1RCgQWGsrr+J3n1BFgqiQYZzD8DSnRXCuy+FQZeAXsFXDEJB2ZN7QaAgHsGVXsHBZPy4wL1adsBKsR1BblSRQdv1IL9mqhfC0WaiQU5g8cCt04tBug78QLJzhEGSZqnBBtKVQc7dYEG2HBNBpuHcwFFzJ0GezsXAK6xBwebIU0EzfKBBZcSXQS1eC8LRVq/Bj5SHQJKbq8BWF0RBI9hcQfWWlkH1ORfCC6dAQbHZXUGr4n1BtLJuQZxeCcEr4hjCQdVnQefLT0HDR9dAjLpLQUq+4L/Edg7COMRdQZN7nUGsgB9BuxdJQYBdlEFneBDCXzShwFSG/UCYHytBkYbWQHAin0GuwwfCfWh6QRaDf0HPPT5BoAMNwRRLoUGxwRPCRcxhwdI9UkEeRy5BkGqewFw8o0EAE6jBc4KjwcKEi8G9XwRBhSmGQHYVlEHc7QrCl9u0v9pROkBSJDBB+3OWQSYEH8HmCJPBpamcQS4akMFDgjhBrb3ywJ/3E8JlWsLBba48wboecMG5lo9B7UmgwIxD28BARBPC2gVhQW3HJUHTr3NBYvFPQX0sDr8Sn3FABEEPwipv/j6mi6JBhdhTQbrnhUGSWFW+JpAXws34X0GV3p1Bs8T0P7dXhMDTYItBh/INwtZNl0EPd8jA04dYQWdZJkCxMC/BlsoZwt7Aj0GSHjLBCaczQXtUU0GWPwFAg1TIwbtlmUFk4TNBc+M1QXpEfUFg7EpBhwhHwbmjOEEph/5AozTHQPtgs7+2FrbA34UYwrof/8AiTSjBmL1KQLo9/kC6zt7AJbvIQGjO3sBJwULBFtQYQNCCAMHD0ZXAh52vwGdIA8HxZRHBM5SNwP1vv8ACymzB/EsLwNMRR8C1wMhA+n/OQIsKSUFumQ3AH34+wSL68MCWmvjAW5v4wHIMzcBXYQnBVBBRwXhShUECtbdAcpI4Qcc2P0EFxiVBKfvowFmHScH2GdXA2fovwIS75MCIgNq/v0xJwKrGi8DAKJvAF0f7wKIo48DbFW/Aob//wMLcZ8DjE7nAq5OBQStJ5MAJ0SfA4L4xwD9ANMF7nMHAc8g0wBO3UMFLnWnBAycNwUSQu8C2HcbAqGgKwfk7kcAD6VPANIr7wBdQOsHGD09BR2cuwPxlTsCDb+nAHXU3wSPxG0AQuBbBJZI0QRXU68BNSMzAM+N3wJtYL8C7RALA6gZWwdJ8SEGlEExBaqrkwNYaf8GRkvnA8ndcwaUawcCB36/Al10DwfkXVcHdNWDBEp/TwIEMScGstWzBT367wBZVKMFZWkzBXnpIwRs308CIt0/BAB4ZQIq9fMEuvDTBHEvSwMzdJMG06yrBY+dywaIXKcFdnEDBKeZYwaYwNcH+iEfBYvVRwej1b8EVbTHB+OhHwatxUsHtn+/Aox8jwYybIMFw/CzBOWIBweEyAcFBjX7BUVxywVQ0R8Eonj3ByKtrwdTYX8Fc+nXBYLfywB2HZMHFZFTBhEs0wb89YcE72BbBLdoUwWUvgcG7MCZBAKZrwVPBLcFeun3BVoglwdEfesFyamLBQzRGwfuPGsGpY4DBqv30P4DVXMFS2S7BgiYtwRUEcsFNgCdBlvhOwf5idsFEeBZA5PJBwaC6B8GnWT7B0pb4QKzh8MAp3w5BJ0opwYOVTsG1nVjBa45mwRHDzcAQeG3BODg5wdDEcsHg2BPBHNRpwa8jNsGdT3fBpVNhwYWod8Gnu2HBy4FuwSnPbcFR4PPAfq40wQQNH8EGz3XBzzB1wRkpe8E=\",\"dtype\":\"float32\",\"order\":\"little\",\"shape\":[719]}},\"selected\":{\"id\":\"1046\"},\"selection_policy\":{\"id\":\"1045\"}},\"id\":\"1035\",\"type\":\"ColumnDataSource\"},{\"attributes\":{},\"id\":\"1021\",\"type\":\"PanTool\"},{\"attributes\":{},\"id\":\"1045\",\"type\":\"UnionRenderers\"},{\"attributes\":{\"formatter\":{\"id\":\"1044\"},\"ticker\":{\"id\":\"1014\"}},\"id\":\"1013\",\"type\":\"LinearAxis\"},{\"attributes\":{},\"id\":\"1046\",\"type\":\"Selection\"},{\"attributes\":{},\"id\":\"1011\",\"type\":\"LinearScale\"},{\"attributes\":{\"text\":\"t-SNE Clustering of 4 LDA Topics\"},\"id\":\"1003\",\"type\":\"Title\"},{\"attributes\":{},\"id\":\"1009\",\"type\":\"LinearScale\"},{\"attributes\":{\"axis\":{\"id\":\"1013\"},\"ticker\":null},\"id\":\"1016\",\"type\":\"Grid\"},{\"attributes\":{},\"id\":\"1026\",\"type\":\"HelpTool\"},{\"attributes\":{\"axis\":{\"id\":\"1017\"},\"dimension\":1,\"ticker\":null},\"id\":\"1020\",\"type\":\"Grid\"},{\"attributes\":{},\"id\":\"1018\",\"type\":\"BasicTicker\"},{\"attributes\":{},\"id\":\"1042\",\"type\":\"BasicTickFormatter\"},{\"attributes\":{\"source\":{\"id\":\"1035\"}},\"id\":\"1039\",\"type\":\"CDSView\"},{\"attributes\":{},\"id\":\"1024\",\"type\":\"SaveTool\"},{\"attributes\":{},\"id\":\"1022\",\"type\":\"WheelZoomTool\"},{\"attributes\":{\"fill_alpha\":{\"value\":0.1},\"fill_color\":{\"field\":\"fill_color\"},\"line_alpha\":{\"value\":0.1},\"line_color\":{\"field\":\"line_color\"},\"x\":{\"field\":\"x\"},\"y\":{\"field\":\"y\"}},\"id\":\"1037\",\"type\":\"Scatter\"},{\"attributes\":{\"data_source\":{\"id\":\"1035\"},\"glyph\":{\"id\":\"1036\"},\"hover_glyph\":null,\"muted_glyph\":null,\"nonselection_glyph\":{\"id\":\"1037\"},\"selection_glyph\":null,\"view\":{\"id\":\"1039\"}},\"id\":\"1038\",\"type\":\"GlyphRenderer\"},{\"attributes\":{},\"id\":\"1025\",\"type\":\"ResetTool\"},{\"attributes\":{\"fill_color\":{\"field\":\"fill_color\"},\"line_color\":{\"field\":\"line_color\"},\"x\":{\"field\":\"x\"},\"y\":{\"field\":\"y\"}},\"id\":\"1036\",\"type\":\"Scatter\"},{\"attributes\":{},\"id\":\"1005\",\"type\":\"DataRange1d\"},{\"attributes\":{},\"id\":\"1044\",\"type\":\"BasicTickFormatter\"}],\"root_ids\":[\"1002\"]},\"title\":\"Bokeh Application\",\"version\":\"2.2.3\"}};\n",
       "  var render_items = [{\"docid\":\"583b9745-9dc9-4a87-8b9c-e9e2eb6b0cd0\",\"root_ids\":[\"1002\"],\"roots\":{\"1002\":\"8b2d7edb-df3f-4e60-b0b8-3e5c3f358213\"}}];\n",
       "  root.Bokeh.embed.embed_items_notebook(docs_json, render_items);\n",
       "\n",
       "  }\n",
       "  if (root.Bokeh !== undefined) {\n",
       "    embed_document(root);\n",
       "  } else {\n",
       "    var attempts = 0;\n",
       "    var timer = setInterval(function(root) {\n",
       "      if (root.Bokeh !== undefined) {\n",
       "        clearInterval(timer);\n",
       "        embed_document(root);\n",
       "      } else {\n",
       "        attempts++;\n",
       "        if (attempts > 100) {\n",
       "          clearInterval(timer);\n",
       "          console.log(\"Bokeh: ERROR: Unable to run BokehJS code because BokehJS library is missing\");\n",
       "        }\n",
       "      }\n",
       "    }, 10, root)\n",
       "  }\n",
       "})(window);"
      ],
      "application/vnd.bokehjs_exec.v0+json": ""
     },
     "metadata": {
      "application/vnd.bokehjs_exec.v0+json": {
       "id": "1002"
      }
     },
     "output_type": "display_data"
    }
   ],
   "source": [
    "# Get topic weights and dominant topics ------------\n",
    "from sklearn.manifold import TSNE\n",
    "from bokeh.plotting import figure, output_file, show\n",
    "from bokeh.models import Label\n",
    "from bokeh.io import output_notebook\n",
    "\n",
    "# Get topic weights\n",
    "topic_weights = []\n",
    "for i, row_list in enumerate(lda_model[corpus]):\n",
    "    topic_weights.append([w for i, w in row_list[0]])\n",
    "\n",
    "# Array of topic weights    \n",
    "arr = pd.DataFrame(topic_weights).fillna(0).values\n",
    "\n",
    "# Keep the well separated points (optional)\n",
    "arr = arr[np.amax(arr, axis=1) > 0.35]\n",
    "\n",
    "# Dominant topic number in each doc\n",
    "topic_num = np.argmax(arr, axis=1)\n",
    "\n",
    "# tSNE Dimension Reduction\n",
    "tsne_model = TSNE(n_components=2, verbose=1, random_state=0, angle=.99, init='pca')\n",
    "tsne_lda = tsne_model.fit_transform(arr)\n",
    "\n",
    "# Plot the Topic Clusters using Bokeh\n",
    "output_notebook()\n",
    "n_topics = 4\n",
    "mycolors = np.array([color for name, color in mcolors.TABLEAU_COLORS.items()])\n",
    "plot = figure(title=\"t-SNE Clustering of {} LDA Topics\".format(n_topics), \n",
    "              plot_width=900, plot_height=700)\n",
    "plot.scatter(x=tsne_lda[:,0], y=tsne_lda[:,1], color=mycolors[topic_num])\n",
    "show(plot)"
   ]
  },
  {
   "cell_type": "code",
   "execution_count": 23,
   "metadata": {},
   "outputs": [
    {
     "name": "stdout",
     "output_type": "stream",
     "text": [
      "Requirement already satisfied: pyLDAvis in /opt/anaconda3/lib/python3.8/site-packages (3.3.1)\n",
      "Requirement already satisfied: funcy in /opt/anaconda3/lib/python3.8/site-packages (from pyLDAvis) (1.15)\n",
      "Requirement already satisfied: setuptools in /opt/anaconda3/lib/python3.8/site-packages (from pyLDAvis) (50.3.1.post20201107)\n",
      "Requirement already satisfied: scipy in /opt/anaconda3/lib/python3.8/site-packages (from pyLDAvis) (1.6.3)\n",
      "Requirement already satisfied: pandas>=1.2.0 in /opt/anaconda3/lib/python3.8/site-packages (from pyLDAvis) (1.2.4)\n",
      "Requirement already satisfied: numexpr in /opt/anaconda3/lib/python3.8/site-packages (from pyLDAvis) (2.7.1)\n",
      "Requirement already satisfied: jinja2 in /opt/anaconda3/lib/python3.8/site-packages (from pyLDAvis) (2.11.2)\n",
      "Requirement already satisfied: future in /opt/anaconda3/lib/python3.8/site-packages (from pyLDAvis) (0.18.2)\n",
      "Requirement already satisfied: gensim in /opt/anaconda3/lib/python3.8/site-packages (from pyLDAvis) (3.8.3)\n",
      "Requirement already satisfied: numpy>=1.20.0 in /opt/anaconda3/lib/python3.8/site-packages (from pyLDAvis) (1.20.2)\n",
      "Requirement already satisfied: scikit-learn in /opt/anaconda3/lib/python3.8/site-packages (from pyLDAvis) (0.24.1)\n",
      "Requirement already satisfied: joblib in /opt/anaconda3/lib/python3.8/site-packages (from pyLDAvis) (0.17.0)\n",
      "Requirement already satisfied: sklearn in /opt/anaconda3/lib/python3.8/site-packages (from pyLDAvis) (0.0)\n",
      "Requirement already satisfied: python-dateutil>=2.7.3 in /opt/anaconda3/lib/python3.8/site-packages (from pandas>=1.2.0->pyLDAvis) (2.8.1)\n",
      "Requirement already satisfied: pytz>=2017.3 in /opt/anaconda3/lib/python3.8/site-packages (from pandas>=1.2.0->pyLDAvis) (2020.1)\n",
      "Requirement already satisfied: MarkupSafe>=0.23 in /opt/anaconda3/lib/python3.8/site-packages (from jinja2->pyLDAvis) (1.1.1)\n",
      "Requirement already satisfied: smart-open>=1.8.1 in /opt/anaconda3/lib/python3.8/site-packages (from gensim->pyLDAvis) (5.0.0)\n",
      "Requirement already satisfied: six>=1.5.0 in /opt/anaconda3/lib/python3.8/site-packages (from gensim->pyLDAvis) (1.15.0)\n",
      "Requirement already satisfied: threadpoolctl>=2.0.0 in /opt/anaconda3/lib/python3.8/site-packages (from scikit-learn->pyLDAvis) (2.1.0)\n",
      "Note: you may need to restart the kernel to use updated packages.\n"
     ]
    }
   ],
   "source": [
    "pip install pyLDAvis"
   ]
  },
  {
   "cell_type": "code",
   "execution_count": 24,
   "metadata": {},
   "outputs": [
    {
     "data": {
      "text/html": [
       "\n",
       "<link rel=\"stylesheet\" type=\"text/css\" href=\"https://cdn.jsdelivr.net/gh/bmabey/pyLDAvis@3.3.1/pyLDAvis/js/ldavis.v1.0.0.css\">\n",
       "\n",
       "\n",
       "<div id=\"ldavis_el110856294607681071412524\"></div>\n",
       "<script type=\"text/javascript\">\n",
       "\n",
       "var ldavis_el110856294607681071412524_data = {\"mdsDat\": {\"x\": [0.25037967132504435, 0.18544470221453602, -0.2629535116320794, -0.17287086190750095], \"y\": [-0.008264134597994854, -0.04137059262636144, -0.20338574260749848, 0.2530204698318548], \"topics\": [1, 2, 3, 4], \"cluster\": [1, 1, 1, 1], \"Freq\": [45.67816715518607, 34.84705307089939, 11.076066446618277, 8.398713327296264]}, \"tinfo\": {\"Term\": [\"feel\", \"people\", \"today\", \"government\", \"day\", \"really\", \"little\", \"price\", \"economic\", \"moment\", \"let\", \"practice\", \"market\", \"body\", \"week\", \"energy\", \"maybe\", \"cost\", \"high\", \"increase\", \"year\", \"example\", \"bit\", \"heart\", \"space\", \"percent\", \"economist\", \"state\", \"money\", \"control\", \"today\", \"moment\", \"practice\", \"week\", \"body\", \"bit\", \"heart\", \"space\", \"breath\", \"beautiful\", \"gratitude\", \"release\", \"eye\", \"intention\", \"deep\", \"notice\", \"hope\", \"yoga_girl_daily\", \"fill\", \"grateful\", \"welcome\", \"ahead\", \"tune\", \"mouth\", \"earth\", \"weekend\", \"somewhere\", \"anchor\", \"every_single\", \"meditation\", \"maybe\", \"energy\", \"foot\", \"feel\", \"journal\", \"peace\", \"let\", \"day\", \"sit\", \"little\", \"feeling\", \"bring\", \"episode\", \"really\", \"present\", \"actually\", \"perhaps\", \"place\", \"thing\", \"drop\", \"life\", \"move\", \"way\", \"time\", \"give\", \"find\", \"much\", \"book\", \"control\", \"child\", \"charge\", \"loss\", \"response\", \"people\", \"read\", \"teach\", \"reality\", \"rachel\", \"story\", \"parent\", \"fail\", \"offer\", \"belief\", \"bear\", \"similar\", \"late\", \"hurt\", \"stop\", \"job\", \"structure\", \"tool\", \"early\", \"major\", \"conversation\", \"post\", \"manage\", \"news\", \"death\", \"event\", \"crisis\", \"reason\", \"man\", \"still\", \"self\", \"choice\", \"never\", \"year\", \"call\", \"world\", \"show\", \"well\", \"bad\", \"first\", \"work\", \"true\", \"mean\", \"share\", \"study\", \"different\", \"change\", \"time\", \"great\", \"much\", \"real\", \"far\", \"way\", \"write\", \"point\", \"find\", \"thing\", \"give\", \"put\", \"life\", \"government\", \"worker\", \"american\", \"public\", \"policy\", \"political\", \"minimum_wage\", \"rule\", \"competition\", \"labor\", \"claim\", \"economy\", \"thus\", \"law\", \"employment\", \"industry\", \"wealth\", \"indeed\", \"capital\", \"datum\", \"profit\", \"estimate\", \"average\", \"report\", \"citizen\", \"evidence\", \"knowledge\", \"seek\", \"incentive\", \"united_state\", \"theory\", \"inflation\", \"economist\", \"analysis\", \"rate\", \"argue\", \"individual\", \"regulation\", \"private\", \"tariff\", \"result\", \"argument\", \"state\", \"country\", \"benefit\", \"power\", \"case\", \"system\", \"view\", \"firm\", \"society\", \"level\", \"real\", \"war\", \"price\", \"cost\", \"consumer\", \"trade\", \"reduce\", \"measure\", \"supply\", \"production\", \"financial\", \"debt\", \"target\", \"output\", \"revenue\", \"accord\", \"purchase\", \"bank\", \"tax\", \"producer\", \"variable\", \"asset\", \"cash\", \"determine\", \"earn\", \"investment\", \"failure\", \"typically\", \"operate\", \"generate\", \"efficient\", \"budget\", \"conclusion\", \"consequence\", \"interest\", \"increase\", \"interest_rate\", \"economic\", \"gas\", \"money\", \"market\", \"pay\", \"value\", \"product\", \"effect\", \"buy\", \"income\", \"produce\", \"sell\", \"company\", \"resource\", \"percent\", \"high\", \"low\", \"example\", \"however\", \"less\", \"water\", \"demand\", \"large\", \"new\", \"free\"], \"Freq\": [5187.0, 3188.0, 3120.0, 1088.0, 3963.0, 4895.0, 3641.0, 743.0, 863.0, 2275.0, 2817.0, 2207.0, 825.0, 2082.0, 2076.0, 2269.0, 1859.0, 536.0, 739.0, 518.0, 2140.0, 677.0, 1413.0, 1355.0, 1350.0, 572.0, 497.0, 650.0, 451.0, 960.0, 3119.866334254337, 2274.7336357159643, 2206.6333660839996, 2076.439839981405, 2081.6854404366795, 1412.876713283976, 1354.6617330511597, 1350.5104747678706, 1188.9812451172506, 756.0186452142027, 629.4400189728277, 932.7292573451949, 651.3313383524862, 644.9849081268724, 668.6659496974521, 850.2527715092134, 788.7647224695423, 397.74726224778595, 477.4642053760922, 359.10938956622346, 336.93354625099477, 347.29660452118407, 301.4465089824904, 322.59763865225545, 318.5092446941036, 288.205144721577, 294.1794432881097, 317.83833147051115, 241.36669626307898, 228.59216248063316, 1853.1594363718204, 2239.057678577558, 657.5226194236619, 5060.458278690102, 435.89097104231126, 367.36681983881294, 2728.9498089930203, 3809.114617207714, 1084.1179181451505, 3481.8628559625336, 751.4817017233331, 1356.582766244427, 1018.6897343717308, 4394.906728242859, 1343.0647235157205, 2051.3285092853075, 1112.0618650404626, 1629.067127430226, 2512.254971501871, 1076.7772760446294, 1916.189522161373, 1235.0227750988515, 2266.631279160623, 2584.4377006996942, 1272.5341693654186, 1206.5335681930312, 1230.288940541653, 728.0720909525002, 958.7480779095382, 436.66327754805945, 378.02460711652986, 418.3092659699952, 345.28198690960863, 3176.306331677475, 285.9509938628613, 276.66537264996214, 288.7946576897395, 259.90842216041887, 256.3876671995223, 247.46445548639295, 244.70650231190587, 414.25692464195265, 231.49764287987003, 227.04583006002102, 226.64106399792365, 278.0974963639849, 223.88690910212352, 200.51508363017317, 659.897899426984, 200.5621400827952, 190.0084884684411, 525.378752045021, 291.2078115656418, 176.74246302384364, 179.47060546560564, 180.48938821564676, 180.93959933940806, 246.3985971005041, 331.4086397228339, 228.08341237124012, 715.688397973598, 596.3626339047149, 732.1862022672703, 425.97200547259223, 438.415358283396, 437.8360248675031, 1714.4928159844173, 607.6658892462026, 934.9064744236209, 805.8837048668777, 1463.6862589179957, 508.7573694114418, 1063.6297554608634, 1438.7555853431024, 602.1206325619199, 1137.582701893783, 833.7120430489715, 391.60049920572726, 820.0693166014638, 1006.8659767755494, 1962.0139770859553, 779.5674652667158, 1204.3285104342863, 623.8916370331137, 579.0757084389838, 1346.5401313186687, 649.4555488880939, 583.7111047287035, 848.8233605225421, 1019.3392170519811, 764.3003800005276, 603.2435418610162, 665.393586656079, 1086.9838697696953, 336.214908497549, 325.7423926436948, 282.7742689523225, 288.5920433527035, 280.2048700108344, 232.57020039620107, 185.9594465886618, 184.51304539334453, 172.67399143574397, 156.95184006884986, 319.90927731046963, 184.3531484844, 159.3008076096301, 173.57683825931142, 131.36084709180813, 128.66517202981055, 142.53065590275864, 224.7247156369521, 133.8201522799442, 135.89216598461718, 131.1011731458758, 114.75756766239218, 108.99470599698499, 100.63095257683858, 99.28293822268698, 94.65722625302581, 95.32578239911486, 116.78716819979019, 89.57846897645511, 198.67081184054385, 180.9866551594274, 480.2083186885851, 130.07297699901363, 408.3888513656875, 195.06327807153542, 286.8787611436392, 136.84535253058567, 198.4233447895058, 159.2942346662255, 284.41811453848175, 197.45996347417503, 421.14065424341305, 222.33840792417766, 231.17383405578002, 276.19730129666004, 275.97101643985906, 203.14968132781826, 175.5883906404222, 192.85230575815118, 195.2435889086048, 204.81801387196722, 204.99578821139622, 185.33030981095004, 742.2875874886704, 535.2026701766055, 210.11062908691108, 193.63510454089928, 158.44514783615713, 140.2074419911078, 153.38722543801558, 153.90222486220625, 107.77953888291708, 107.14125917138287, 101.97636809907465, 100.41178479435484, 91.78863754267987, 101.49656255229391, 90.430214904501, 92.81267211073296, 257.98791386931657, 77.13811342502363, 84.76407461706899, 81.50803990514264, 75.217961919803, 69.23276962259321, 72.53229734618475, 66.4818216084825, 62.94105492776814, 57.613144816626836, 57.22121300001603, 60.85816641557492, 56.90519398860674, 57.68219176424116, 108.3839007956232, 68.72340158866596, 240.87115058897203, 475.4159104346988, 179.11455087619512, 730.5771807879398, 79.40905708300933, 387.40107186506333, 654.3316704605105, 295.3327789270841, 358.4136338116632, 126.4841045500036, 278.2468634594142, 162.71470333825556, 247.55987367389662, 196.51253228575442, 152.98730425984874, 225.12998152598402, 209.05971364612265, 331.5222195575979, 388.7649964362582, 281.3623076006257, 345.3316090804617, 213.40574139367044, 225.11185751134306, 260.1413981926202, 170.1315124766496, 173.88220333102677, 200.2924989719445, 167.0198041017213], \"Total\": [5187.0, 3188.0, 3120.0, 1088.0, 3963.0, 4895.0, 3641.0, 743.0, 863.0, 2275.0, 2817.0, 2207.0, 825.0, 2082.0, 2076.0, 2269.0, 1859.0, 536.0, 739.0, 518.0, 2140.0, 677.0, 1413.0, 1355.0, 1350.0, 572.0, 497.0, 650.0, 451.0, 960.0, 3120.299864849823, 2275.086886111536, 2207.0114393689164, 2076.798294489173, 2082.0588334612294, 1413.238199859087, 1355.014737019194, 1350.868701087205, 1189.3200476296, 756.3609405616039, 629.7803951177684, 933.2350252898201, 651.7002721760479, 645.3586188459925, 669.0627629005879, 850.7608535717884, 789.4044272659706, 398.0843510823457, 477.868975568784, 359.44780537237835, 337.27542788043746, 347.6858953647735, 301.7929140653382, 322.97429288921575, 318.8950682328718, 288.5617006200595, 294.5690529410863, 318.2794925172266, 241.71482466731223, 228.930682079307, 1859.8164683809568, 2269.9931501316128, 658.9970383025368, 5187.56379172289, 436.5766097317838, 368.21853329304145, 2817.0376470353817, 3963.040329625861, 1100.4467155401182, 3641.3922173037813, 763.4602904184335, 1401.390136031681, 1048.9040196179144, 4895.994498079777, 1456.436156508518, 2330.742579409129, 1188.4538333294704, 1981.3836032068675, 3531.7282097598954, 1221.4599472239508, 2581.7195673632573, 1463.7004848908603, 3613.327302595727, 4549.099135848525, 2162.540807513543, 2055.521752857144, 2460.694864522266, 729.144354461923, 960.3080879745455, 437.73354877700535, 379.22953307666234, 419.71344564963795, 346.5127862484325, 3188.1304188379136, 287.0212048949621, 277.7291111590138, 289.9094836186287, 260.9436463207338, 257.4555801960334, 248.52661250499412, 245.8282124747479, 416.1910822280379, 232.61291421618952, 228.17448163456967, 227.78556449972106, 279.52385169484603, 225.0673779687463, 201.58876536009458, 663.5612594467633, 201.70008868771367, 191.0907986122089, 528.3720472927586, 292.936760012617, 177.80748940045464, 180.58762402032025, 181.62906364019793, 182.086270061387, 248.00890497618653, 334.99055572497156, 229.71839301439303, 741.7112338639554, 617.553635711912, 792.0602513796179, 448.41764990014553, 464.2994573956199, 469.23390090405064, 2140.8269198976936, 683.0818076240057, 1151.2685593676572, 977.0188114124117, 2063.9599626819822, 589.2228632287412, 1432.8399608128389, 2131.410122393744, 744.851737625171, 1755.5902287703907, 1194.5590062760582, 436.5842322695425, 1186.0220183149777, 1659.5360501335442, 4549.099135848525, 1190.0237735401074, 2460.694864522266, 868.6146543348145, 764.3605118064249, 3613.327302595727, 1013.4238176252197, 862.9070279842446, 2055.521752857144, 3531.7282097598954, 2162.540807513543, 1046.3759865748864, 2581.7195673632573, 1088.3422071209027, 337.49897231290026, 327.02846798853045, 284.01969599644343, 289.8665364906097, 281.4836807631404, 233.95320428262545, 187.28415787142387, 185.92107748411385, 174.02496733111298, 158.18724396540424, 322.52996173258595, 185.87999511787234, 160.65036738322974, 175.20473038199248, 132.61274601379998, 129.94964981562467, 143.9554487520611, 227.0859388645118, 135.30832216865673, 137.47296430924987, 132.65449430594705, 116.15143755907232, 110.35103763424414, 101.89155193428488, 100.5521205155366, 95.89122581804835, 96.58764825094174, 118.4216172020463, 90.89377598257119, 202.42332013970818, 184.35491310370517, 497.2450506990803, 132.41328278699618, 428.5406093780285, 200.8331678470391, 301.8093926322835, 139.94085962885248, 209.38353307859853, 165.10787220472358, 329.15837958653754, 221.5022519854868, 650.0851033680719, 286.36478561324685, 305.8571297503316, 422.92030505699876, 525.7083401027994, 299.8326717666212, 210.16291350861155, 307.89247744182734, 346.527919032996, 639.4719944290395, 868.6146543348145, 336.1283080304959, 743.8345586368215, 536.538088488941, 211.44504722481327, 195.02233556788084, 159.69230847514132, 141.44928874571326, 154.84564913555354, 155.46927025556477, 109.04914327675638, 108.41854496379146, 103.23823213883716, 101.6989207802982, 93.05616335913206, 102.90540602148364, 91.69208829646881, 94.28732402737765, 262.1477349770128, 78.43127875478416, 86.19390328141908, 82.88616318197374, 76.56058340873926, 70.48100568342758, 73.8558362909988, 67.720352264587, 64.20890385709158, 58.86163040333795, 58.47483629625774, 62.22658315946793, 58.18949148409517, 58.991178804851046, 111.74922998464206, 70.45980262435354, 254.09319884663708, 518.2461127164673, 189.51135225288002, 863.6126310473849, 82.15525789257408, 451.6654822111376, 825.6170216594373, 345.2858525322744, 432.2710519195167, 139.1560604604567, 352.5636127772493, 188.3241932603109, 316.54404717980424, 244.5960509184345, 179.76800148435308, 309.1726054214498, 286.7515256342253, 572.7666534628614, 739.0749557920062, 462.784130189596, 677.486986180739, 345.05265473149063, 519.0467150471904, 730.1836453427584, 274.03653694756184, 312.64740799943206, 1022.0017111061562, 506.3909251519965], \"Category\": [\"Default\", \"Default\", \"Default\", \"Default\", \"Default\", \"Default\", \"Default\", \"Default\", \"Default\", \"Default\", \"Default\", \"Default\", \"Default\", \"Default\", \"Default\", \"Default\", \"Default\", \"Default\", \"Default\", \"Default\", \"Default\", \"Default\", \"Default\", \"Default\", \"Default\", \"Default\", \"Default\", \"Default\", \"Default\", \"Default\", \"Topic1\", \"Topic1\", \"Topic1\", \"Topic1\", \"Topic1\", \"Topic1\", \"Topic1\", \"Topic1\", \"Topic1\", \"Topic1\", \"Topic1\", \"Topic1\", \"Topic1\", \"Topic1\", \"Topic1\", \"Topic1\", \"Topic1\", \"Topic1\", \"Topic1\", \"Topic1\", \"Topic1\", \"Topic1\", \"Topic1\", \"Topic1\", \"Topic1\", \"Topic1\", \"Topic1\", \"Topic1\", \"Topic1\", \"Topic1\", \"Topic1\", \"Topic1\", \"Topic1\", \"Topic1\", \"Topic1\", \"Topic1\", \"Topic1\", \"Topic1\", \"Topic1\", \"Topic1\", \"Topic1\", \"Topic1\", \"Topic1\", \"Topic1\", \"Topic1\", \"Topic1\", \"Topic1\", \"Topic1\", \"Topic1\", \"Topic1\", \"Topic1\", \"Topic1\", \"Topic1\", \"Topic1\", \"Topic1\", \"Topic1\", \"Topic1\", \"Topic2\", \"Topic2\", \"Topic2\", \"Topic2\", \"Topic2\", \"Topic2\", \"Topic2\", \"Topic2\", \"Topic2\", \"Topic2\", \"Topic2\", \"Topic2\", \"Topic2\", \"Topic2\", \"Topic2\", \"Topic2\", \"Topic2\", \"Topic2\", \"Topic2\", \"Topic2\", \"Topic2\", \"Topic2\", \"Topic2\", \"Topic2\", \"Topic2\", \"Topic2\", \"Topic2\", \"Topic2\", \"Topic2\", \"Topic2\", \"Topic2\", \"Topic2\", \"Topic2\", \"Topic2\", \"Topic2\", \"Topic2\", \"Topic2\", \"Topic2\", \"Topic2\", \"Topic2\", \"Topic2\", \"Topic2\", \"Topic2\", \"Topic2\", \"Topic2\", \"Topic2\", \"Topic2\", \"Topic2\", \"Topic2\", \"Topic2\", \"Topic2\", \"Topic2\", \"Topic2\", \"Topic2\", \"Topic2\", \"Topic2\", \"Topic2\", \"Topic2\", \"Topic2\", \"Topic2\", \"Topic2\", \"Topic2\", \"Topic2\", \"Topic2\", \"Topic2\", \"Topic2\", \"Topic3\", \"Topic3\", \"Topic3\", \"Topic3\", \"Topic3\", \"Topic3\", \"Topic3\", \"Topic3\", \"Topic3\", \"Topic3\", \"Topic3\", \"Topic3\", \"Topic3\", \"Topic3\", \"Topic3\", \"Topic3\", \"Topic3\", \"Topic3\", \"Topic3\", \"Topic3\", \"Topic3\", \"Topic3\", \"Topic3\", \"Topic3\", \"Topic3\", \"Topic3\", \"Topic3\", \"Topic3\", \"Topic3\", \"Topic3\", \"Topic3\", \"Topic3\", \"Topic3\", \"Topic3\", \"Topic3\", \"Topic3\", \"Topic3\", \"Topic3\", \"Topic3\", \"Topic3\", \"Topic3\", \"Topic3\", \"Topic3\", \"Topic3\", \"Topic3\", \"Topic3\", \"Topic3\", \"Topic3\", \"Topic3\", \"Topic3\", \"Topic3\", \"Topic3\", \"Topic3\", \"Topic3\", \"Topic4\", \"Topic4\", \"Topic4\", \"Topic4\", \"Topic4\", \"Topic4\", \"Topic4\", \"Topic4\", \"Topic4\", \"Topic4\", \"Topic4\", \"Topic4\", \"Topic4\", \"Topic4\", \"Topic4\", \"Topic4\", \"Topic4\", \"Topic4\", \"Topic4\", \"Topic4\", \"Topic4\", \"Topic4\", \"Topic4\", \"Topic4\", \"Topic4\", \"Topic4\", \"Topic4\", \"Topic4\", \"Topic4\", \"Topic4\", \"Topic4\", \"Topic4\", \"Topic4\", \"Topic4\", \"Topic4\", \"Topic4\", \"Topic4\", \"Topic4\", \"Topic4\", \"Topic4\", \"Topic4\", \"Topic4\", \"Topic4\", \"Topic4\", \"Topic4\", \"Topic4\", \"Topic4\", \"Topic4\", \"Topic4\", \"Topic4\", \"Topic4\", \"Topic4\", \"Topic4\", \"Topic4\", \"Topic4\", \"Topic4\", \"Topic4\", \"Topic4\", \"Topic4\", \"Topic4\"], \"logprob\": [30.0, 29.0, 28.0, 27.0, 26.0, 25.0, 24.0, 23.0, 22.0, 21.0, 20.0, 19.0, 18.0, 17.0, 16.0, 15.0, 14.0, 13.0, 12.0, 11.0, 10.0, 9.0, 8.0, 7.0, 6.0, 5.0, 4.0, 3.0, 2.0, 1.0, -4.2375, -4.5534, -4.5838, -4.6446, -4.6421, -5.0297, -5.0717, -5.0748, -5.2022, -5.655, -5.8382, -5.4449, -5.804, -5.8138, -5.7777, -5.5375, -5.6126, -6.2972, -6.1145, -6.3994, -6.4631, -6.4329, -6.5744, -6.5066, -6.5194, -6.6194, -6.5988, -6.5215, -6.7967, -6.8511, -4.7584, -4.5692, -5.7946, -3.7538, -6.2056, -6.3767, -4.3714, -4.0379, -5.2945, -4.1277, -5.661, -5.0703, -5.3568, -3.8948, -5.0803, -4.6568, -5.2691, -4.8873, -4.4541, -5.3013, -4.7249, -5.1642, -4.557, -4.4258, -5.1343, -5.1875, -5.168, -5.422, -5.1468, -5.9332, -6.0774, -5.9762, -6.168, -3.9489, -6.3566, -6.3896, -6.3467, -6.4521, -6.4657, -6.5011, -6.5123, -5.9859, -6.5678, -6.5872, -6.589, -6.3844, -6.6012, -6.7115, -5.5203, -6.7113, -6.7653, -5.7483, -6.3383, -6.8377, -6.8224, -6.8167, -6.8142, -6.5054, -6.209, -6.5827, -5.4391, -5.6215, -5.4163, -5.958, -5.9292, -5.9305, -4.5655, -5.6028, -5.1719, -5.3204, -4.7237, -5.7804, -5.0429, -4.7408, -5.6119, -4.9757, -5.2865, -6.0421, -5.303, -5.0978, -4.4307, -5.3536, -4.9187, -5.5764, -5.6509, -4.8071, -5.5362, -5.643, -5.2685, -5.0855, -5.3734, -5.6101, -5.512, -3.875, -5.0485, -5.0801, -5.2216, -5.2012, -5.2307, -5.417, -5.6407, -5.6485, -5.7148, -5.8103, -5.0982, -5.6493, -5.7954, -5.7096, -5.9883, -6.009, -5.9066, -5.4513, -5.9697, -5.9543, -5.9902, -6.1234, -6.1749, -6.2547, -6.2682, -6.3159, -6.3089, -6.1058, -6.3711, -5.5746, -5.6678, -4.692, -5.9981, -4.854, -5.5929, -5.2071, -5.9473, -5.5758, -5.7954, -5.2158, -5.5807, -4.8232, -5.462, -5.423, -5.2451, -5.2459, -5.5523, -5.6981, -5.6043, -5.592, -5.5441, -5.5432, -5.6441, -3.9798, -4.3068, -5.2419, -5.3235, -5.5241, -5.6464, -5.5565, -5.5532, -5.9094, -5.9153, -5.9648, -5.9802, -6.07, -5.9695, -6.0849, -6.0589, -5.0366, -6.2439, -6.1496, -6.1888, -6.2691, -6.352, -6.3055, -6.3926, -6.4473, -6.5357, -6.5426, -6.4809, -6.5481, -6.5345, -5.9038, -6.3594, -5.1052, -4.4253, -5.4015, -3.9957, -6.2149, -4.63, -4.1059, -4.9014, -4.7078, -5.7494, -4.961, -5.4975, -5.0778, -5.3088, -5.5591, -5.1728, -5.2469, -4.7858, -4.6265, -4.9498, -4.745, -5.2263, -5.1729, -5.0283, -5.4529, -5.4311, -5.2897, -5.4714], \"loglift\": [30.0, 29.0, 28.0, 27.0, 26.0, 25.0, 24.0, 23.0, 22.0, 21.0, 20.0, 19.0, 18.0, 17.0, 16.0, 15.0, 14.0, 13.0, 12.0, 11.0, 10.0, 9.0, 8.0, 7.0, 6.0, 5.0, 4.0, 3.0, 2.0, 1.0, 0.7834, 0.7834, 0.7834, 0.7834, 0.7834, 0.7833, 0.7833, 0.7833, 0.7833, 0.7831, 0.783, 0.783, 0.783, 0.783, 0.783, 0.783, 0.7827, 0.7827, 0.7827, 0.7826, 0.7825, 0.7824, 0.7824, 0.7824, 0.7823, 0.7823, 0.7822, 0.7822, 0.7821, 0.7821, 0.78, 0.7698, 0.7813, 0.7587, 0.782, 0.7812, 0.7518, 0.7439, 0.7686, 0.7388, 0.7677, 0.7511, 0.7543, 0.6756, 0.7025, 0.6559, 0.7171, 0.5878, 0.4429, 0.6575, 0.4854, 0.6137, 0.3172, 0.2181, 0.2533, 0.2508, 0.0904, 1.0527, 1.0526, 1.0518, 1.051, 1.0509, 1.0506, 1.0505, 1.0505, 1.0504, 1.0503, 1.0502, 1.05, 1.0499, 1.0496, 1.0495, 1.0494, 1.0492, 1.0492, 1.0491, 1.0489, 1.0489, 1.0487, 1.0485, 1.0485, 1.0485, 1.0483, 1.0482, 1.048, 1.0479, 1.0479, 1.0477, 1.0435, 1.0471, 1.0185, 1.0193, 0.9756, 1.0029, 0.9968, 0.9849, 0.8321, 0.9372, 0.846, 0.8616, 0.7105, 0.9074, 0.7562, 0.6612, 0.8415, 0.6203, 0.6946, 0.9455, 0.6852, 0.5545, 0.2132, 0.6312, 0.3397, 0.7233, 0.7766, 0.0671, 0.6092, 0.6633, 0.1698, -0.1884, 0.0141, 0.5034, -0.3016, 2.1991, 2.1966, 2.1964, 2.196, 2.196, 2.1958, 2.1945, 2.1933, 2.1928, 2.1926, 2.1925, 2.1922, 2.1921, 2.1919, 2.191, 2.1909, 2.1904, 2.1904, 2.1899, 2.1893, 2.1888, 2.1886, 2.1883, 2.188, 2.1879, 2.1877, 2.1874, 2.1872, 2.1865, 2.1858, 2.1817, 2.1819, 2.1655, 2.1826, 2.1522, 2.1712, 2.1496, 2.178, 2.1466, 2.1645, 2.0543, 2.0855, 1.7662, 1.9473, 1.9204, 1.7743, 1.5559, 1.8111, 2.0206, 1.7326, 1.6267, 1.0619, 0.7565, 1.605, 2.475, 2.4746, 2.4708, 2.47, 2.4693, 2.4683, 2.4676, 2.467, 2.4654, 2.4652, 2.4648, 2.4644, 2.4634, 2.4633, 2.4632, 2.4613, 2.4611, 2.4605, 2.4604, 2.4603, 2.4594, 2.4592, 2.459, 2.4586, 2.4571, 2.4557, 2.4554, 2.4549, 2.4548, 2.4547, 2.4465, 2.4521, 2.4237, 2.3908, 2.4207, 2.3098, 2.4431, 2.3236, 2.2446, 2.3208, 2.2897, 2.3816, 2.2404, 2.3309, 2.2313, 2.2582, 2.3158, 2.1599, 2.1611, 1.9303, 1.8347, 1.9795, 1.8032, 1.9966, 1.6417, 1.445, 2.0004, 1.8904, 0.8474, 1.3679]}, \"token.table\": {\"Topic\": [1, 4, 1, 2, 1, 1, 3, 1, 3, 4, 1, 1, 2, 3, 1, 2, 3, 1, 4, 1, 3, 1, 2, 1, 4, 1, 2, 1, 1, 2, 1, 3, 4, 1, 1, 1, 2, 1, 1, 2, 4, 1, 4, 1, 3, 4, 1, 2, 3, 1, 3, 4, 1, 2, 3, 1, 4, 1, 2, 4, 1, 2, 1, 2, 1, 2, 4, 1, 3, 1, 3, 1, 2, 4, 1, 3, 1, 2, 4, 1, 3, 4, 1, 4, 1, 2, 1, 2, 1, 4, 1, 2, 3, 1, 2, 3, 1, 3, 1, 2, 1, 2, 1, 4, 1, 1, 2, 3, 4, 1, 4, 1, 2, 1, 2, 1, 2, 4, 1, 4, 1, 1, 3, 4, 1, 2, 3, 4, 1, 3, 4, 1, 2, 3, 4, 1, 4, 1, 3, 1, 4, 1, 2, 1, 3, 1, 2, 3, 1, 1, 3, 1, 2, 3, 4, 1, 1, 2, 1, 4, 1, 2, 3, 1, 2, 1, 2, 1, 1, 4, 1, 2, 1, 2, 3, 4, 1, 2, 4, 1, 3, 1, 2, 3, 4, 1, 2, 4, 1, 4, 1, 2, 4, 1, 3, 1, 1, 1, 2, 1, 1, 2, 4, 1, 1, 2, 3, 4, 1, 2, 1, 3, 1, 3, 4, 1, 4, 1, 3, 1, 2, 3, 1, 3, 1, 3, 4, 1, 1, 2, 4, 1, 2, 3, 4, 1, 4, 1, 2, 3, 1, 1, 3, 1, 3, 1, 3, 4, 1, 2, 1, 3, 1, 2, 4, 1, 2, 1, 2, 3, 1, 2, 1, 2, 1, 2, 1, 4, 1, 2, 1, 2, 1, 2, 1, 3, 4, 1, 2, 1, 2, 3, 1, 4, 1, 1, 3, 1, 1, 2, 3, 4, 1, 1, 2, 4, 1, 2, 4, 1, 2, 1, 2, 4, 1, 2, 1, 1, 2, 3, 1, 4, 1, 4, 1, 2, 1, 3, 4, 1, 2, 1, 2, 3, 1, 2, 3, 4, 1, 4, 1, 2, 1, 2, 3, 1, 3, 1, 3, 1, 2, 1, 2, 3, 1, 1, 2, 1, 4, 1, 2, 3, 1, 2, 4, 1, 4, 1, 3, 4, 1, 4, 1, 3, 1, 3, 1, 4, 1, 2, 1, 2, 1, 3, 4, 1, 2, 1, 2, 3, 1, 2, 1, 2, 1, 2, 1, 4, 1, 3, 4, 1, 1, 3, 1, 2, 4, 1, 2, 1, 2, 3, 1, 4, 1, 3, 1, 3, 1, 2, 1, 3, 4, 1, 2, 1, 2, 1, 2, 1, 2, 1, 2, 3, 4, 1, 1, 1, 2, 3, 1, 2, 1, 2, 1, 2, 1, 2, 1, 2, 3, 1, 4, 1, 2, 3, 1, 4, 1, 2, 3, 4, 1, 3, 4, 1, 2, 1, 3, 4, 1, 2, 1, 3, 1, 2, 4, 1, 1, 2, 1, 4, 1, 2, 1, 1, 4, 1, 3, 1, 2, 3, 4, 1, 4, 1, 2, 3, 1, 2, 3, 1, 2, 4, 1, 2, 1, 3, 1, 1, 1, 1, 2, 1, 2, 1, 3, 1, 2, 3, 1, 2, 4, 1, 2, 4, 1], \"Freq\": [0.00971766245002939, 0.9814839074529685, 0.8799770588650562, 0.11970433906550496, 0.9980272557100601, 0.003057837766084242, 0.9968551117434629, 0.007552112438814985, 0.981774617045948, 0.007552112438814985, 0.9991218645128026, 0.004979257214931906, 0.024896286074659532, 0.9709551569117217, 0.004514626786121893, 0.10383641608080355, 0.889381476866013, 0.012064739898799925, 0.9893086717015939, 0.008609450050856407, 0.9900867558484868, 0.1357720567080971, 0.863849710805268, 0.010605879531692255, 0.9863467964473798, 0.004382611030104317, 0.99485270383368, 0.9995227932297298, 0.004298987454628611, 0.9930661020192091, 0.03269500373642723, 0.7552545863114691, 0.212517524286777, 0.9998314510185822, 0.9999717426518964, 0.0013714705378716904, 0.9984305515705907, 0.999730898650672, 0.9683242125869526, 0.00784934881242187, 0.024261623602031237, 0.016951687019310192, 0.9831978471199911, 0.005309992214424363, 0.12743981314618472, 0.8655287309511712, 0.0380627908836234, 0.890083725278578, 0.07173372128067487, 0.004403619198089752, 0.9908143195701943, 0.004403619198089752, 0.03043512681741227, 0.4451137297046544, 0.5250059376003616, 0.013061551459988635, 0.9796163594991476, 0.39167573367730935, 0.6067960981739239, 0.0018077341554337356, 0.002636925431115744, 0.9967578129617511, 0.0022844947635243516, 0.9983242116601416, 0.019384041606430927, 0.9433566915129717, 0.0366143008121473, 0.009814356352575252, 0.9912499916101004, 0.006321622242933199, 0.9924946921405123, 0.003234439217655931, 0.26845845506544225, 0.7277488239725844, 0.005378626315703477, 0.9950458684051433, 0.008948607521836457, 0.017897215043672914, 0.9664496123583373, 0.014192489373428398, 0.014192489373428398, 0.9792817667665594, 0.004729361189230301, 0.9931658497383632, 0.0010413324770690742, 0.9986378455092423, 0.005624060062778453, 0.9954586311117861, 0.0018638005790349622, 0.9971333097837048, 0.0034920494775868187, 0.21999911708796957, 0.7752349840242737, 0.004353155996252093, 0.9925195671454773, 0.004353155996252093, 0.0073905284166744575, 0.9903308078343773, 0.9611307691031236, 0.03885905446098215, 0.004032113282771111, 0.9918998675616933, 0.009223514301303066, 0.986916030239428, 0.9999061928057155, 0.00364914843523714, 0.36126569508847683, 0.01459659374094856, 0.6203552339903138, 0.014188219794870678, 0.9789871658460768, 0.3085946081506891, 0.6913868270042762, 0.8817317362290353, 0.11789170846516349, 0.001892605797607464, 0.9936180437439186, 0.003785211595214928, 0.013539891364304751, 0.9884120695942468, 1.0003290479458014, 0.0011579265564784587, 0.15284630545515654, 0.8464443127857533, 0.002011080851572264, 0.004022161703144528, 0.9653188087546867, 0.028155131922011696, 0.0031004871442892917, 0.9921558861725734, 0.0031004871442892917, 0.022690940613472845, 0.13898201125752116, 0.04821824880362979, 0.7885101863181814, 0.017185233527488863, 0.9795583110668652, 0.005707608452236059, 0.9931238706890742, 0.9863465886979369, 0.013656428874334992, 0.9714902230722621, 0.028601282327937058, 0.0075383800996116634, 0.987527793049128, 0.002985158784061374, 0.9880875575243148, 0.00895547635218412, 0.9970426941405183, 0.009945091111683587, 0.9845640200566752, 0.0014760431128535677, 0.4708577530002881, 0.017712517354242813, 0.5092348739344809, 0.9989254689526067, 0.004067881346624211, 0.9966309299229316, 0.015574164016655371, 0.9811723330492883, 0.24072410486662893, 0.7574959604227074, 0.0013082831786229833, 0.975409691939321, 0.024481626655394027, 0.9836791899004933, 0.015717909825307484, 0.9981815610277908, 0.009170177499350864, 0.9903791699298934, 0.5871988454134763, 0.41303381918478993, 0.003247887081583337, 0.13316337034491682, 0.626842206745584, 0.2370957569555836, 0.24147846895875022, 0.7425811877806654, 0.016052036953905363, 0.9984870367473806, 0.0015174575026555936, 0.32583522295640305, 0.21722348197093538, 0.12835933025555274, 0.3297847408104201, 0.024344150956414654, 0.012172075478207327, 0.9615939627783788, 0.016070302260326623, 0.980288437879924, 0.5886594119181855, 0.35328813095482614, 0.05826479646637185, 0.0009188286491666964, 0.9987667416441991, 0.99875418526505, 0.998760845647438, 0.3445309321681226, 0.6554490904661844, 0.9999891240893612, 0.16236512827228167, 0.3125528719241422, 0.5263336241493131, 0.9994876805196402, 0.22315434744276647, 0.15359974564242368, 0.0028981084083476165, 0.6172970909780423, 0.004443113920040707, 0.9952575180891184, 0.00844440418588305, 0.9879952897483169, 0.003159118008723687, 0.21482002459321073, 0.7834612661634743, 0.08104257604528954, 0.916552943369346, 0.006946593607042487, 0.9933628858070757, 0.0033133494994251993, 0.04638689299195279, 0.9509313063350322, 0.007540753283971194, 0.9878386802002264, 0.005424319770840444, 0.9818018785221203, 0.010848639541680888, 0.999444310751387, 0.0039355638188630524, 0.04722676582635663, 0.9484708803459957, 0.0052767287453345845, 0.0052767287453345845, 0.042213829962676676, 0.9445344454148906, 0.014766609542917718, 0.9745962298325694, 0.0015070198655565557, 0.9946331112673268, 0.004521059596669667, 0.9986792473097952, 0.010428482809235117, 0.9907058668773362, 0.00574630189757384, 0.9941102282802743, 0.0031984912537698588, 0.4413917930202405, 0.5565374781559554, 0.003577512237101298, 0.9945484019141608, 0.006224697872084604, 0.989726961661452, 0.07706435440278878, 0.4893586504577087, 0.4334869935156868, 0.9687481467888682, 0.031238489159919534, 0.3111942379551424, 0.3674906830123541, 0.320576978798011, 0.7421410226815746, 0.2575802610037824, 0.956227671233449, 0.04366461795695531, 0.002382577947800045, 0.9959175821804187, 0.3911110779141171, 0.6071945463749553, 0.00341370608440173, 0.9933884705609033, 0.03400514349784587, 0.9650983583198162, 0.005505726781595769, 0.9910308206872384, 0.0012112153380632392, 0.20590660747075065, 0.7921348310933584, 0.9963348704042335, 0.0037638122465351513, 0.35030953688477967, 0.6482150454876086, 0.0017088270091940472, 0.007069671462242018, 0.9897540047138824, 1.0003027899976684, 0.004274359067089149, 0.9959256626317717, 0.9999618097611717, 0.0022140279463121236, 0.1328416767787274, 0.006642083838936371, 0.8568288152227919, 1.0000795949131254, 0.8437518554843458, 0.1277583781178726, 0.028011195202314314, 0.4998588072555674, 0.48929268612658794, 0.010566121128979474, 0.06606513284797576, 0.9334363931423673, 0.26810131237788054, 0.5362026247557611, 0.1956943885969931, 0.005491902270626272, 0.9940343109833554, 0.9991056786773932, 0.002402742496659464, 0.994735393617018, 0.002402742496659464, 0.01710137322888064, 0.9747782740461964, 0.009832946036470887, 0.9832946036470889, 0.004023713959324598, 0.9938573479531757, 0.002896151095291483, 0.14191140366928265, 0.8543645731109875, 0.9966907334018635, 0.0027157785651276936, 0.0003136634543214528, 0.9961951309249341, 0.0034502979975359806, 0.0017459116971181017, 0.41028924882275386, 0.01047547018270861, 0.5796426834432098, 0.9356694966305221, 0.06394863466179827, 0.8221527610117824, 0.1776536352830862, 0.1749898831543148, 0.6767820646498003, 0.14833579499173705, 0.003449863554817047, 0.9970105673421266, 0.0035526038216100644, 0.9947290700508181, 0.00553747802721784, 0.9912085668719933, 0.34285419325151045, 0.004729023355193248, 0.6526052230166681, 0.9999948168057888, 0.9221138832611406, 0.07758664840544222, 0.0013443849689272797, 0.9975336469440415, 0.004775924760160673, 0.04775924760160673, 0.9456331025118132, 0.13082795032807396, 0.06541397516403698, 0.8054095692072053, 0.012750015247443635, 0.9817511740531598, 0.007186176417261864, 0.0790479405898805, 0.9054582285749948, 0.006432139279718569, 0.9905494490766598, 0.007274157540899952, 0.9892854255623935, 0.003520882579962068, 0.9964097701292652, 0.01090606636383601, 0.9815459727452409, 0.4233659847738637, 0.5762746925928665, 0.003832245061720604, 0.996383716047357, 0.016334507971507296, 0.9520684646249966, 0.030335514804227835, 0.0034840631387007054, 0.9964420576684018, 0.04605033981453147, 0.718385301106691, 0.23600799154947377, 0.003449352492778346, 0.996862870412942, 0.8976725773943846, 0.10232854636509367, 0.035054073354872387, 0.9653352508495626, 0.006262042358512627, 0.9894026926449951, 0.007145875783900243, 0.9789849823943332, 0.014291751567800486, 0.9997481606632294, 0.009061990004248769, 0.9877569104631158, 0.003487339771909638, 0.26852516243704216, 0.7288540123291144, 0.0028858963931075532, 0.9956342556221058, 0.018228307016022866, 0.11848399560414863, 0.862806532091749, 0.010746198466625962, 0.9886502589295886, 0.005339479918459145, 0.993143264833401, 0.010353290696155343, 0.9835626161347576, 0.04906140515409909, 0.9500072088930096, 0.005562725244442569, 0.1446308563555068, 0.851096962399713, 0.30220357312058493, 0.6981655955195785, 0.1750222186129626, 0.8249585274973559, 0.004390093824410126, 0.9965512981410988, 0.9850545098568939, 0.014539549960987365, 0.0028857703667587633, 0.42420824391353823, 0.5627252215179589, 0.00865731110027629, 0.9980681849114676, 1.0000971959100757, 0.07998952711051141, 0.2707337840663463, 0.6476075175677942, 0.0757518129403558, 0.9241721178723407, 0.004960593901221217, 0.9970793741454645, 0.003884165180022798, 0.9943462860858363, 0.004957856025280537, 0.9965290610813881, 0.0022905087405506908, 0.8978794262958708, 0.10078238458423039, 0.006458043901024234, 0.9880807168567078, 0.10672619435185379, 0.21678758227720302, 0.6770442954195725, 0.009686334018730357, 0.9880060699104963, 0.006056646401208912, 0.006056646401208912, 0.963006777792217, 0.02422658560483565, 0.003814642915330502, 0.011443928745991505, 0.9841778721552695, 0.0036006308299004705, 0.9973747398824303, 0.004940142268735745, 0.9830883114784132, 0.014820426806207236, 0.7112665105593667, 0.2885272986703801, 0.005379815075666795, 0.9898859739226904, 0.5680245522980929, 0.4312941840591557, 0.0006594712294482503, 0.9999038987075567, 0.005233114348061076, 0.9942917261316044, 0.005127617803817825, 0.994757853940658, 0.19198451554389923, 0.8082145339680233, 0.9973726551274609, 0.016988995940949873, 0.9853617645750926, 0.01100185341834351, 0.9901668076509159, 0.0023133633296966347, 0.10178798650665193, 0.06708753656120241, 0.8281840720313952, 0.011601748638010353, 0.9861486342308801, 0.004758213441683298, 0.16177925701723214, 0.8374455657362606, 0.0029750543947321246, 0.44625815920981865, 0.550385063025443, 0.20679729128843813, 0.4368763968278925, 0.35607480619201265, 0.6273995711297568, 0.3727866000493085, 0.00769528814751576, 0.992692171029533, 0.9996156128925514, 0.9980534470830587, 0.9991833740092827, 0.29070331345979156, 0.7093160848418915, 0.32513686254886764, 0.6751398920747772, 0.002962971985209144, 0.9955585870302723, 0.172852805178057, 0.812147602218509, 0.014766320040336527, 0.3414168820413063, 0.6404033423260341, 0.01776157189810264, 0.1952516553836942, 0.8006252089178274, 0.003736873787247736, 0.9997881075151125], \"Term\": [\"accord\", \"accord\", \"actually\", \"actually\", \"ahead\", \"american\", \"american\", \"analysis\", \"analysis\", \"analysis\", \"anchor\", \"argue\", \"argue\", \"argue\", \"argument\", \"argument\", \"argument\", \"asset\", \"asset\", \"average\", \"average\", \"bad\", \"bad\", \"bank\", \"bank\", \"bear\", \"bear\", \"beautiful\", \"belief\", \"belief\", \"benefit\", \"benefit\", \"benefit\", \"bit\", \"body\", \"book\", \"book\", \"breath\", \"bring\", \"bring\", \"bring\", \"budget\", \"budget\", \"buy\", \"buy\", \"buy\", \"call\", \"call\", \"call\", \"capital\", \"capital\", \"capital\", \"case\", \"case\", \"case\", \"cash\", \"cash\", \"change\", \"change\", \"change\", \"charge\", \"charge\", \"child\", \"child\", \"choice\", \"choice\", \"choice\", \"citizen\", \"citizen\", \"claim\", \"claim\", \"company\", \"company\", \"company\", \"competition\", \"competition\", \"conclusion\", \"conclusion\", \"conclusion\", \"consequence\", \"consequence\", \"consequence\", \"consumer\", \"consumer\", \"control\", \"control\", \"conversation\", \"conversation\", \"cost\", \"cost\", \"country\", \"country\", \"country\", \"crisis\", \"crisis\", \"crisis\", \"datum\", \"datum\", \"day\", \"day\", \"death\", \"death\", \"debt\", \"debt\", \"deep\", \"demand\", \"demand\", \"demand\", \"demand\", \"determine\", \"determine\", \"different\", \"different\", \"drop\", \"drop\", \"early\", \"early\", \"early\", \"earn\", \"earn\", \"earth\", \"economic\", \"economic\", \"economic\", \"economist\", \"economist\", \"economist\", \"economist\", \"economy\", \"economy\", \"economy\", \"effect\", \"effect\", \"effect\", \"effect\", \"efficient\", \"efficient\", \"employment\", \"employment\", \"energy\", \"energy\", \"episode\", \"episode\", \"estimate\", \"estimate\", \"event\", \"event\", \"event\", \"every_single\", \"evidence\", \"evidence\", \"example\", \"example\", \"example\", \"example\", \"eye\", \"fail\", \"fail\", \"failure\", \"failure\", \"far\", \"far\", \"far\", \"feel\", \"feel\", \"feeling\", \"feeling\", \"fill\", \"financial\", \"financial\", \"find\", \"find\", \"firm\", \"firm\", \"firm\", \"firm\", \"first\", \"first\", \"first\", \"foot\", \"foot\", \"free\", \"free\", \"free\", \"free\", \"gas\", \"gas\", \"gas\", \"generate\", \"generate\", \"give\", \"give\", \"give\", \"government\", \"government\", \"grateful\", \"gratitude\", \"great\", \"great\", \"heart\", \"high\", \"high\", \"high\", \"hope\", \"however\", \"however\", \"however\", \"however\", \"hurt\", \"hurt\", \"incentive\", \"incentive\", \"income\", \"income\", \"income\", \"increase\", \"increase\", \"indeed\", \"indeed\", \"individual\", \"individual\", \"individual\", \"industry\", \"industry\", \"inflation\", \"inflation\", \"inflation\", \"intention\", \"interest\", \"interest\", \"interest\", \"interest_rate\", \"interest_rate\", \"interest_rate\", \"interest_rate\", \"investment\", \"investment\", \"job\", \"job\", \"job\", \"journal\", \"knowledge\", \"knowledge\", \"labor\", \"labor\", \"large\", \"large\", \"large\", \"late\", \"late\", \"law\", \"law\", \"less\", \"less\", \"less\", \"let\", \"let\", \"level\", \"level\", \"level\", \"life\", \"life\", \"little\", \"little\", \"loss\", \"loss\", \"low\", \"low\", \"major\", \"major\", \"man\", \"man\", \"manage\", \"manage\", \"market\", \"market\", \"market\", \"maybe\", \"maybe\", \"mean\", \"mean\", \"mean\", \"measure\", \"measure\", \"meditation\", \"minimum_wage\", \"minimum_wage\", \"moment\", \"money\", \"money\", \"money\", \"money\", \"mouth\", \"move\", \"move\", \"move\", \"much\", \"much\", \"much\", \"never\", \"never\", \"new\", \"new\", \"new\", \"news\", \"news\", \"notice\", \"offer\", \"offer\", \"offer\", \"operate\", \"operate\", \"output\", \"output\", \"parent\", \"parent\", \"pay\", \"pay\", \"pay\", \"peace\", \"peace\", \"people\", \"people\", \"people\", \"percent\", \"percent\", \"percent\", \"percent\", \"perhaps\", \"perhaps\", \"place\", \"place\", \"point\", \"point\", \"point\", \"policy\", \"policy\", \"political\", \"political\", \"post\", \"post\", \"power\", \"power\", \"power\", \"practice\", \"present\", \"present\", \"price\", \"price\", \"private\", \"private\", \"private\", \"produce\", \"produce\", \"produce\", \"producer\", \"producer\", \"product\", \"product\", \"product\", \"production\", \"production\", \"profit\", \"profit\", \"public\", \"public\", \"purchase\", \"purchase\", \"put\", \"put\", \"rachel\", \"rachel\", \"rate\", \"rate\", \"rate\", \"read\", \"read\", \"real\", \"real\", \"real\", \"reality\", \"reality\", \"really\", \"really\", \"reason\", \"reason\", \"reduce\", \"reduce\", \"regulation\", \"regulation\", \"regulation\", \"release\", \"report\", \"report\", \"resource\", \"resource\", \"resource\", \"response\", \"response\", \"result\", \"result\", \"result\", \"revenue\", \"revenue\", \"rule\", \"rule\", \"seek\", \"seek\", \"self\", \"self\", \"sell\", \"sell\", \"sell\", \"share\", \"share\", \"show\", \"show\", \"similar\", \"similar\", \"sit\", \"sit\", \"society\", \"society\", \"society\", \"society\", \"somewhere\", \"space\", \"state\", \"state\", \"state\", \"still\", \"still\", \"stop\", \"stop\", \"story\", \"story\", \"structure\", \"structure\", \"study\", \"study\", \"study\", \"supply\", \"supply\", \"system\", \"system\", \"system\", \"target\", \"target\", \"tariff\", \"tariff\", \"tariff\", \"tariff\", \"tax\", \"tax\", \"tax\", \"teach\", \"teach\", \"theory\", \"theory\", \"theory\", \"thing\", \"thing\", \"thus\", \"thus\", \"time\", \"time\", \"time\", \"today\", \"tool\", \"tool\", \"trade\", \"trade\", \"true\", \"true\", \"tune\", \"typically\", \"typically\", \"united_state\", \"united_state\", \"value\", \"value\", \"value\", \"value\", \"variable\", \"variable\", \"view\", \"view\", \"view\", \"war\", \"war\", \"war\", \"water\", \"water\", \"water\", \"way\", \"way\", \"wealth\", \"wealth\", \"week\", \"weekend\", \"welcome\", \"well\", \"well\", \"work\", \"work\", \"worker\", \"worker\", \"world\", \"world\", \"world\", \"write\", \"write\", \"write\", \"year\", \"year\", \"year\", \"yoga_girl_daily\"]}, \"R\": 30, \"lambda.step\": 0.01, \"plot.opts\": {\"xlab\": \"PC1\", \"ylab\": \"PC2\"}, \"topic.order\": [1, 2, 3, 4]};\n",
       "\n",
       "function LDAvis_load_lib(url, callback){\n",
       "  var s = document.createElement('script');\n",
       "  s.src = url;\n",
       "  s.async = true;\n",
       "  s.onreadystatechange = s.onload = callback;\n",
       "  s.onerror = function(){console.warn(\"failed to load library \" + url);};\n",
       "  document.getElementsByTagName(\"head\")[0].appendChild(s);\n",
       "}\n",
       "\n",
       "if(typeof(LDAvis) !== \"undefined\"){\n",
       "   // already loaded: just create the visualization\n",
       "   !function(LDAvis){\n",
       "       new LDAvis(\"#\" + \"ldavis_el110856294607681071412524\", ldavis_el110856294607681071412524_data);\n",
       "   }(LDAvis);\n",
       "}else if(typeof define === \"function\" && define.amd){\n",
       "   // require.js is available: use it to load d3/LDAvis\n",
       "   require.config({paths: {d3: \"https://d3js.org/d3.v5\"}});\n",
       "   require([\"d3\"], function(d3){\n",
       "      window.d3 = d3;\n",
       "      LDAvis_load_lib(\"https://cdn.jsdelivr.net/gh/bmabey/pyLDAvis@3.3.1/pyLDAvis/js/ldavis.v3.0.0.js\", function(){\n",
       "        new LDAvis(\"#\" + \"ldavis_el110856294607681071412524\", ldavis_el110856294607681071412524_data);\n",
       "      });\n",
       "    });\n",
       "}else{\n",
       "    // require.js not available: dynamically load d3 & LDAvis\n",
       "    LDAvis_load_lib(\"https://d3js.org/d3.v5.js\", function(){\n",
       "         LDAvis_load_lib(\"https://cdn.jsdelivr.net/gh/bmabey/pyLDAvis@3.3.1/pyLDAvis/js/ldavis.v3.0.0.js\", function(){\n",
       "                 new LDAvis(\"#\" + \"ldavis_el110856294607681071412524\", ldavis_el110856294607681071412524_data);\n",
       "            })\n",
       "         });\n",
       "}\n",
       "</script>"
      ],
      "text/plain": [
       "PreparedData(topic_coordinates=              x         y  topics  cluster       Freq\n",
       "topic                                                \n",
       "0      0.250380 -0.008264       1        1  45.678167\n",
       "1      0.185445 -0.041371       2        1  34.847053\n",
       "2     -0.262954 -0.203386       3        1  11.076066\n",
       "3     -0.172871  0.253020       4        1   8.398713, topic_info=            Term         Freq        Total Category  logprob  loglift\n",
       "40          feel  5187.000000  5187.000000  Default  30.0000  30.0000\n",
       "96        people  3188.000000  3188.000000  Default  29.0000  29.0000\n",
       "125        today  3120.000000  3120.000000  Default  28.0000  28.0000\n",
       "4315  government  1088.000000  1088.000000  Default  27.0000  27.0000\n",
       "29           day  3963.000000  3963.000000  Default  26.0000  26.0000\n",
       "...          ...          ...          ...      ...      ...      ...\n",
       "952        water   260.141398   730.183645   Topic4  -5.0283   1.4450\n",
       "2165      demand   170.131512   274.036537   Topic4  -5.4529   2.0004\n",
       "718        large   173.882203   312.647408   Topic4  -5.4311   1.8904\n",
       "467          new   200.292499  1022.001711   Topic4  -5.2897   0.8474\n",
       "46          free   167.019804   506.390925   Topic4  -5.4714   1.3679\n",
       "\n",
       "[267 rows x 6 columns], token_table=      Topic      Freq             Term\n",
       "term                                  \n",
       "2959      1  0.009718           accord\n",
       "2959      4  0.981484           accord\n",
       "2         1  0.879977         actually\n",
       "2         2  0.119704         actually\n",
       "3         1  0.998027            ahead\n",
       "...     ...       ...              ...\n",
       "1108      4  0.017762            write\n",
       "273       1  0.195252             year\n",
       "273       2  0.800625             year\n",
       "273       4  0.003737             year\n",
       "139       1  0.999788  yoga_girl_daily\n",
       "\n",
       "[517 rows x 3 columns], R=30, lambda_step=0.01, plot_opts={'xlab': 'PC1', 'ylab': 'PC2'}, topic_order=[1, 2, 3, 4])"
      ]
     },
     "execution_count": 24,
     "metadata": {},
     "output_type": "execute_result"
    }
   ],
   "source": [
    "import pyLDAvis.gensim_models as gensimvis\n",
    "import pyLDAvis.gensim_models\n",
    "pyLDAvis.enable_notebook()\n",
    "\n",
    "vis = gensimvis.prepare(lda_model, corpus, dictionary=lda_model.id2word)\n",
    "vis"
   ]
  },
  {
   "cell_type": "markdown",
   "metadata": {},
   "source": [
    "<h1>LSA Latent Semantic Analysis</h1>"
   ]
  },
  {
   "cell_type": "code",
   "execution_count": 25,
   "metadata": {},
   "outputs": [
    {
     "name": "stderr",
     "output_type": "stream",
     "text": [
      "/opt/anaconda3/lib/python3.8/site-packages/ipykernel/ipkernel.py:287: DeprecationWarning: `should_run_async` will not call `transform_cell` automatically in the future. Please pass the result to `transformed_cell` argument and any exception that happen during thetransform in `preprocessing_exc_tuple` in IPython 7.17 and above.\n",
      "  and should_run_async(code)\n"
     ]
    },
    {
     "name": "stdout",
     "output_type": "stream",
     "text": [
      "Requirement already satisfied: textblob in /opt/anaconda3/lib/python3.8/site-packages (0.15.3)\n",
      "Requirement already satisfied: nltk>=3.1 in /opt/anaconda3/lib/python3.8/site-packages (from textblob) (3.5)\n",
      "Requirement already satisfied: click in /opt/anaconda3/lib/python3.8/site-packages (from nltk>=3.1->textblob) (7.1.2)\n",
      "Requirement already satisfied: regex in /opt/anaconda3/lib/python3.8/site-packages (from nltk>=3.1->textblob) (2020.10.15)\n",
      "Requirement already satisfied: joblib in /opt/anaconda3/lib/python3.8/site-packages (from nltk>=3.1->textblob) (0.17.0)\n",
      "Requirement already satisfied: tqdm in /opt/anaconda3/lib/python3.8/site-packages (from nltk>=3.1->textblob) (4.50.2)\n",
      "Note: you may need to restart the kernel to use updated packages.\n"
     ]
    }
   ],
   "source": [
    "pip install textblob"
   ]
  },
  {
   "cell_type": "code",
   "execution_count": 26,
   "metadata": {},
   "outputs": [
    {
     "name": "stderr",
     "output_type": "stream",
     "text": [
      "/opt/anaconda3/lib/python3.8/site-packages/ipykernel/ipkernel.py:287: DeprecationWarning: `should_run_async` will not call `transform_cell` automatically in the future. Please pass the result to `transformed_cell` argument and any exception that happen during thetransform in `preprocessing_exc_tuple` in IPython 7.17 and above.\n",
      "  and should_run_async(code)\n"
     ]
    },
    {
     "name": "stdout",
     "output_type": "stream",
     "text": [
      "\u001b[31mERROR: Could not find a version that satisfies the requirement sys (from versions: none)\u001b[0m\n",
      "\u001b[31mERROR: No matching distribution found for sys\u001b[0m\n",
      "Note: you may need to restart the kernel to use updated packages.\n"
     ]
    }
   ],
   "source": [
    "pip install sys"
   ]
  },
  {
   "cell_type": "code",
   "execution_count": 71,
   "metadata": {},
   "outputs": [
    {
     "name": "stderr",
     "output_type": "stream",
     "text": [
      "/opt/anaconda3/lib/python3.8/site-packages/ipykernel/ipkernel.py:287: DeprecationWarning: `should_run_async` will not call `transform_cell` automatically in the future. Please pass the result to `transformed_cell` argument and any exception that happen during thetransform in `preprocessing_exc_tuple` in IPython 7.17 and above.\n",
      "  and should_run_async(code)\n"
     ]
    },
    {
     "data": {
      "text/html": [
       "\n",
       "    <div class=\"bk-root\">\n",
       "        <a href=\"https://bokeh.org\" target=\"_blank\" class=\"bk-logo bk-logo-small bk-logo-notebook\"></a>\n",
       "        <span id=\"1092\">Loading BokehJS ...</span>\n",
       "    </div>"
      ]
     },
     "metadata": {},
     "output_type": "display_data"
    },
    {
     "data": {
      "application/javascript": [
       "\n",
       "(function(root) {\n",
       "  function now() {\n",
       "    return new Date();\n",
       "  }\n",
       "\n",
       "  var force = true;\n",
       "\n",
       "  if (typeof root._bokeh_onload_callbacks === \"undefined\" || force === true) {\n",
       "    root._bokeh_onload_callbacks = [];\n",
       "    root._bokeh_is_loading = undefined;\n",
       "  }\n",
       "\n",
       "  var JS_MIME_TYPE = 'application/javascript';\n",
       "  var HTML_MIME_TYPE = 'text/html';\n",
       "  var EXEC_MIME_TYPE = 'application/vnd.bokehjs_exec.v0+json';\n",
       "  var CLASS_NAME = 'output_bokeh rendered_html';\n",
       "\n",
       "  /**\n",
       "   * Render data to the DOM node\n",
       "   */\n",
       "  function render(props, node) {\n",
       "    var script = document.createElement(\"script\");\n",
       "    node.appendChild(script);\n",
       "  }\n",
       "\n",
       "  /**\n",
       "   * Handle when an output is cleared or removed\n",
       "   */\n",
       "  function handleClearOutput(event, handle) {\n",
       "    var cell = handle.cell;\n",
       "\n",
       "    var id = cell.output_area._bokeh_element_id;\n",
       "    var server_id = cell.output_area._bokeh_server_id;\n",
       "    // Clean up Bokeh references\n",
       "    if (id != null && id in Bokeh.index) {\n",
       "      Bokeh.index[id].model.document.clear();\n",
       "      delete Bokeh.index[id];\n",
       "    }\n",
       "\n",
       "    if (server_id !== undefined) {\n",
       "      // Clean up Bokeh references\n",
       "      var cmd = \"from bokeh.io.state import curstate; print(curstate().uuid_to_server['\" + server_id + \"'].get_sessions()[0].document.roots[0]._id)\";\n",
       "      cell.notebook.kernel.execute(cmd, {\n",
       "        iopub: {\n",
       "          output: function(msg) {\n",
       "            var id = msg.content.text.trim();\n",
       "            if (id in Bokeh.index) {\n",
       "              Bokeh.index[id].model.document.clear();\n",
       "              delete Bokeh.index[id];\n",
       "            }\n",
       "          }\n",
       "        }\n",
       "      });\n",
       "      // Destroy server and session\n",
       "      var cmd = \"import bokeh.io.notebook as ion; ion.destroy_server('\" + server_id + \"')\";\n",
       "      cell.notebook.kernel.execute(cmd);\n",
       "    }\n",
       "  }\n",
       "\n",
       "  /**\n",
       "   * Handle when a new output is added\n",
       "   */\n",
       "  function handleAddOutput(event, handle) {\n",
       "    var output_area = handle.output_area;\n",
       "    var output = handle.output;\n",
       "\n",
       "    // limit handleAddOutput to display_data with EXEC_MIME_TYPE content only\n",
       "    if ((output.output_type != \"display_data\") || (!output.data.hasOwnProperty(EXEC_MIME_TYPE))) {\n",
       "      return\n",
       "    }\n",
       "\n",
       "    var toinsert = output_area.element.find(\".\" + CLASS_NAME.split(' ')[0]);\n",
       "\n",
       "    if (output.metadata[EXEC_MIME_TYPE][\"id\"] !== undefined) {\n",
       "      toinsert[toinsert.length - 1].firstChild.textContent = output.data[JS_MIME_TYPE];\n",
       "      // store reference to embed id on output_area\n",
       "      output_area._bokeh_element_id = output.metadata[EXEC_MIME_TYPE][\"id\"];\n",
       "    }\n",
       "    if (output.metadata[EXEC_MIME_TYPE][\"server_id\"] !== undefined) {\n",
       "      var bk_div = document.createElement(\"div\");\n",
       "      bk_div.innerHTML = output.data[HTML_MIME_TYPE];\n",
       "      var script_attrs = bk_div.children[0].attributes;\n",
       "      for (var i = 0; i < script_attrs.length; i++) {\n",
       "        toinsert[toinsert.length - 1].firstChild.setAttribute(script_attrs[i].name, script_attrs[i].value);\n",
       "        toinsert[toinsert.length - 1].firstChild.textContent = bk_div.children[0].textContent\n",
       "      }\n",
       "      // store reference to server id on output_area\n",
       "      output_area._bokeh_server_id = output.metadata[EXEC_MIME_TYPE][\"server_id\"];\n",
       "    }\n",
       "  }\n",
       "\n",
       "  function register_renderer(events, OutputArea) {\n",
       "\n",
       "    function append_mime(data, metadata, element) {\n",
       "      // create a DOM node to render to\n",
       "      var toinsert = this.create_output_subarea(\n",
       "        metadata,\n",
       "        CLASS_NAME,\n",
       "        EXEC_MIME_TYPE\n",
       "      );\n",
       "      this.keyboard_manager.register_events(toinsert);\n",
       "      // Render to node\n",
       "      var props = {data: data, metadata: metadata[EXEC_MIME_TYPE]};\n",
       "      render(props, toinsert[toinsert.length - 1]);\n",
       "      element.append(toinsert);\n",
       "      return toinsert\n",
       "    }\n",
       "\n",
       "    /* Handle when an output is cleared or removed */\n",
       "    events.on('clear_output.CodeCell', handleClearOutput);\n",
       "    events.on('delete.Cell', handleClearOutput);\n",
       "\n",
       "    /* Handle when a new output is added */\n",
       "    events.on('output_added.OutputArea', handleAddOutput);\n",
       "\n",
       "    /**\n",
       "     * Register the mime type and append_mime function with output_area\n",
       "     */\n",
       "    OutputArea.prototype.register_mime_type(EXEC_MIME_TYPE, append_mime, {\n",
       "      /* Is output safe? */\n",
       "      safe: true,\n",
       "      /* Index of renderer in `output_area.display_order` */\n",
       "      index: 0\n",
       "    });\n",
       "  }\n",
       "\n",
       "  // register the mime type if in Jupyter Notebook environment and previously unregistered\n",
       "  if (root.Jupyter !== undefined) {\n",
       "    var events = require('base/js/events');\n",
       "    var OutputArea = require('notebook/js/outputarea').OutputArea;\n",
       "\n",
       "    if (OutputArea.prototype.mime_types().indexOf(EXEC_MIME_TYPE) == -1) {\n",
       "      register_renderer(events, OutputArea);\n",
       "    }\n",
       "  }\n",
       "\n",
       "  \n",
       "  if (typeof (root._bokeh_timeout) === \"undefined\" || force === true) {\n",
       "    root._bokeh_timeout = Date.now() + 5000;\n",
       "    root._bokeh_failed_load = false;\n",
       "  }\n",
       "\n",
       "  var NB_LOAD_WARNING = {'data': {'text/html':\n",
       "     \"<div style='background-color: #fdd'>\\n\"+\n",
       "     \"<p>\\n\"+\n",
       "     \"BokehJS does not appear to have successfully loaded. If loading BokehJS from CDN, this \\n\"+\n",
       "     \"may be due to a slow or bad network connection. Possible fixes:\\n\"+\n",
       "     \"</p>\\n\"+\n",
       "     \"<ul>\\n\"+\n",
       "     \"<li>re-rerun `output_notebook()` to attempt to load from CDN again, or</li>\\n\"+\n",
       "     \"<li>use INLINE resources instead, as so:</li>\\n\"+\n",
       "     \"</ul>\\n\"+\n",
       "     \"<code>\\n\"+\n",
       "     \"from bokeh.resources import INLINE\\n\"+\n",
       "     \"output_notebook(resources=INLINE)\\n\"+\n",
       "     \"</code>\\n\"+\n",
       "     \"</div>\"}};\n",
       "\n",
       "  function display_loaded() {\n",
       "    var el = document.getElementById(\"1092\");\n",
       "    if (el != null) {\n",
       "      el.textContent = \"BokehJS is loading...\";\n",
       "    }\n",
       "    if (root.Bokeh !== undefined) {\n",
       "      if (el != null) {\n",
       "        el.textContent = \"BokehJS \" + root.Bokeh.version + \" successfully loaded.\";\n",
       "      }\n",
       "    } else if (Date.now() < root._bokeh_timeout) {\n",
       "      setTimeout(display_loaded, 100)\n",
       "    }\n",
       "  }\n",
       "\n",
       "\n",
       "  function run_callbacks() {\n",
       "    try {\n",
       "      root._bokeh_onload_callbacks.forEach(function(callback) {\n",
       "        if (callback != null)\n",
       "          callback();\n",
       "      });\n",
       "    } finally {\n",
       "      delete root._bokeh_onload_callbacks\n",
       "    }\n",
       "    console.debug(\"Bokeh: all callbacks have finished\");\n",
       "  }\n",
       "\n",
       "  function load_libs(css_urls, js_urls, callback) {\n",
       "    if (css_urls == null) css_urls = [];\n",
       "    if (js_urls == null) js_urls = [];\n",
       "\n",
       "    root._bokeh_onload_callbacks.push(callback);\n",
       "    if (root._bokeh_is_loading > 0) {\n",
       "      console.debug(\"Bokeh: BokehJS is being loaded, scheduling callback at\", now());\n",
       "      return null;\n",
       "    }\n",
       "    if (js_urls == null || js_urls.length === 0) {\n",
       "      run_callbacks();\n",
       "      return null;\n",
       "    }\n",
       "    console.debug(\"Bokeh: BokehJS not loaded, scheduling load and callback at\", now());\n",
       "    root._bokeh_is_loading = css_urls.length + js_urls.length;\n",
       "\n",
       "    function on_load() {\n",
       "      root._bokeh_is_loading--;\n",
       "      if (root._bokeh_is_loading === 0) {\n",
       "        console.debug(\"Bokeh: all BokehJS libraries/stylesheets loaded\");\n",
       "        run_callbacks()\n",
       "      }\n",
       "    }\n",
       "\n",
       "    function on_error() {\n",
       "      console.error(\"failed to load \" + url);\n",
       "    }\n",
       "\n",
       "    for (var i = 0; i < css_urls.length; i++) {\n",
       "      var url = css_urls[i];\n",
       "      const element = document.createElement(\"link\");\n",
       "      element.onload = on_load;\n",
       "      element.onerror = on_error;\n",
       "      element.rel = \"stylesheet\";\n",
       "      element.type = \"text/css\";\n",
       "      element.href = url;\n",
       "      console.debug(\"Bokeh: injecting link tag for BokehJS stylesheet: \", url);\n",
       "      document.body.appendChild(element);\n",
       "    }\n",
       "\n",
       "    const hashes = {\"https://cdn.bokeh.org/bokeh/release/bokeh-2.2.3.min.js\": \"T2yuo9Oe71Cz/I4X9Ac5+gpEa5a8PpJCDlqKYO0CfAuEszu1JrXLl8YugMqYe3sM\", \"https://cdn.bokeh.org/bokeh/release/bokeh-widgets-2.2.3.min.js\": \"98GDGJ0kOMCUMUePhksaQ/GYgB3+NH9h996V88sh3aOiUNX3N+fLXAtry6xctSZ6\", \"https://cdn.bokeh.org/bokeh/release/bokeh-tables-2.2.3.min.js\": \"89bArO+nlbP3sgakeHjCo1JYxYR5wufVgA3IbUvDY+K7w4zyxJqssu7wVnfeKCq8\"};\n",
       "\n",
       "    for (var i = 0; i < js_urls.length; i++) {\n",
       "      var url = js_urls[i];\n",
       "      var element = document.createElement('script');\n",
       "      element.onload = on_load;\n",
       "      element.onerror = on_error;\n",
       "      element.async = false;\n",
       "      element.src = url;\n",
       "      if (url in hashes) {\n",
       "        element.crossOrigin = \"anonymous\";\n",
       "        element.integrity = \"sha384-\" + hashes[url];\n",
       "      }\n",
       "      console.debug(\"Bokeh: injecting script tag for BokehJS library: \", url);\n",
       "      document.head.appendChild(element);\n",
       "    }\n",
       "  };\n",
       "\n",
       "  function inject_raw_css(css) {\n",
       "    const element = document.createElement(\"style\");\n",
       "    element.appendChild(document.createTextNode(css));\n",
       "    document.body.appendChild(element);\n",
       "  }\n",
       "\n",
       "  \n",
       "  var js_urls = [\"https://cdn.bokeh.org/bokeh/release/bokeh-2.2.3.min.js\", \"https://cdn.bokeh.org/bokeh/release/bokeh-widgets-2.2.3.min.js\", \"https://cdn.bokeh.org/bokeh/release/bokeh-tables-2.2.3.min.js\"];\n",
       "  var css_urls = [];\n",
       "  \n",
       "\n",
       "  var inline_js = [\n",
       "    function(Bokeh) {\n",
       "      Bokeh.set_log_level(\"info\");\n",
       "    },\n",
       "    function(Bokeh) {\n",
       "    \n",
       "    \n",
       "    }\n",
       "  ];\n",
       "\n",
       "  function run_inline_js() {\n",
       "    \n",
       "    if (root.Bokeh !== undefined || force === true) {\n",
       "      \n",
       "    for (var i = 0; i < inline_js.length; i++) {\n",
       "      inline_js[i].call(root, root.Bokeh);\n",
       "    }\n",
       "    if (force === true) {\n",
       "        display_loaded();\n",
       "      }} else if (Date.now() < root._bokeh_timeout) {\n",
       "      setTimeout(run_inline_js, 100);\n",
       "    } else if (!root._bokeh_failed_load) {\n",
       "      console.log(\"Bokeh: BokehJS failed to load within specified timeout.\");\n",
       "      root._bokeh_failed_load = true;\n",
       "    } else if (force !== true) {\n",
       "      var cell = $(document.getElementById(\"1092\")).parents('.cell').data().cell;\n",
       "      cell.output_area.append_execute_result(NB_LOAD_WARNING)\n",
       "    }\n",
       "\n",
       "  }\n",
       "\n",
       "  if (root._bokeh_is_loading === 0) {\n",
       "    console.debug(\"Bokeh: BokehJS loaded, going straight to plotting\");\n",
       "    run_inline_js();\n",
       "  } else {\n",
       "    load_libs(css_urls, js_urls, function() {\n",
       "      console.debug(\"Bokeh: BokehJS plotting callback run at\", now());\n",
       "      run_inline_js();\n",
       "    });\n",
       "  }\n",
       "}(window));"
      ],
      "application/vnd.bokehjs_load.v0+json": "\n(function(root) {\n  function now() {\n    return new Date();\n  }\n\n  var force = true;\n\n  if (typeof root._bokeh_onload_callbacks === \"undefined\" || force === true) {\n    root._bokeh_onload_callbacks = [];\n    root._bokeh_is_loading = undefined;\n  }\n\n  \n\n  \n  if (typeof (root._bokeh_timeout) === \"undefined\" || force === true) {\n    root._bokeh_timeout = Date.now() + 5000;\n    root._bokeh_failed_load = false;\n  }\n\n  var NB_LOAD_WARNING = {'data': {'text/html':\n     \"<div style='background-color: #fdd'>\\n\"+\n     \"<p>\\n\"+\n     \"BokehJS does not appear to have successfully loaded. If loading BokehJS from CDN, this \\n\"+\n     \"may be due to a slow or bad network connection. Possible fixes:\\n\"+\n     \"</p>\\n\"+\n     \"<ul>\\n\"+\n     \"<li>re-rerun `output_notebook()` to attempt to load from CDN again, or</li>\\n\"+\n     \"<li>use INLINE resources instead, as so:</li>\\n\"+\n     \"</ul>\\n\"+\n     \"<code>\\n\"+\n     \"from bokeh.resources import INLINE\\n\"+\n     \"output_notebook(resources=INLINE)\\n\"+\n     \"</code>\\n\"+\n     \"</div>\"}};\n\n  function display_loaded() {\n    var el = document.getElementById(\"1092\");\n    if (el != null) {\n      el.textContent = \"BokehJS is loading...\";\n    }\n    if (root.Bokeh !== undefined) {\n      if (el != null) {\n        el.textContent = \"BokehJS \" + root.Bokeh.version + \" successfully loaded.\";\n      }\n    } else if (Date.now() < root._bokeh_timeout) {\n      setTimeout(display_loaded, 100)\n    }\n  }\n\n\n  function run_callbacks() {\n    try {\n      root._bokeh_onload_callbacks.forEach(function(callback) {\n        if (callback != null)\n          callback();\n      });\n    } finally {\n      delete root._bokeh_onload_callbacks\n    }\n    console.debug(\"Bokeh: all callbacks have finished\");\n  }\n\n  function load_libs(css_urls, js_urls, callback) {\n    if (css_urls == null) css_urls = [];\n    if (js_urls == null) js_urls = [];\n\n    root._bokeh_onload_callbacks.push(callback);\n    if (root._bokeh_is_loading > 0) {\n      console.debug(\"Bokeh: BokehJS is being loaded, scheduling callback at\", now());\n      return null;\n    }\n    if (js_urls == null || js_urls.length === 0) {\n      run_callbacks();\n      return null;\n    }\n    console.debug(\"Bokeh: BokehJS not loaded, scheduling load and callback at\", now());\n    root._bokeh_is_loading = css_urls.length + js_urls.length;\n\n    function on_load() {\n      root._bokeh_is_loading--;\n      if (root._bokeh_is_loading === 0) {\n        console.debug(\"Bokeh: all BokehJS libraries/stylesheets loaded\");\n        run_callbacks()\n      }\n    }\n\n    function on_error() {\n      console.error(\"failed to load \" + url);\n    }\n\n    for (var i = 0; i < css_urls.length; i++) {\n      var url = css_urls[i];\n      const element = document.createElement(\"link\");\n      element.onload = on_load;\n      element.onerror = on_error;\n      element.rel = \"stylesheet\";\n      element.type = \"text/css\";\n      element.href = url;\n      console.debug(\"Bokeh: injecting link tag for BokehJS stylesheet: \", url);\n      document.body.appendChild(element);\n    }\n\n    const hashes = {\"https://cdn.bokeh.org/bokeh/release/bokeh-2.2.3.min.js\": \"T2yuo9Oe71Cz/I4X9Ac5+gpEa5a8PpJCDlqKYO0CfAuEszu1JrXLl8YugMqYe3sM\", \"https://cdn.bokeh.org/bokeh/release/bokeh-widgets-2.2.3.min.js\": \"98GDGJ0kOMCUMUePhksaQ/GYgB3+NH9h996V88sh3aOiUNX3N+fLXAtry6xctSZ6\", \"https://cdn.bokeh.org/bokeh/release/bokeh-tables-2.2.3.min.js\": \"89bArO+nlbP3sgakeHjCo1JYxYR5wufVgA3IbUvDY+K7w4zyxJqssu7wVnfeKCq8\"};\n\n    for (var i = 0; i < js_urls.length; i++) {\n      var url = js_urls[i];\n      var element = document.createElement('script');\n      element.onload = on_load;\n      element.onerror = on_error;\n      element.async = false;\n      element.src = url;\n      if (url in hashes) {\n        element.crossOrigin = \"anonymous\";\n        element.integrity = \"sha384-\" + hashes[url];\n      }\n      console.debug(\"Bokeh: injecting script tag for BokehJS library: \", url);\n      document.head.appendChild(element);\n    }\n  };\n\n  function inject_raw_css(css) {\n    const element = document.createElement(\"style\");\n    element.appendChild(document.createTextNode(css));\n    document.body.appendChild(element);\n  }\n\n  \n  var js_urls = [\"https://cdn.bokeh.org/bokeh/release/bokeh-2.2.3.min.js\", \"https://cdn.bokeh.org/bokeh/release/bokeh-widgets-2.2.3.min.js\", \"https://cdn.bokeh.org/bokeh/release/bokeh-tables-2.2.3.min.js\"];\n  var css_urls = [];\n  \n\n  var inline_js = [\n    function(Bokeh) {\n      Bokeh.set_log_level(\"info\");\n    },\n    function(Bokeh) {\n    \n    \n    }\n  ];\n\n  function run_inline_js() {\n    \n    if (root.Bokeh !== undefined || force === true) {\n      \n    for (var i = 0; i < inline_js.length; i++) {\n      inline_js[i].call(root, root.Bokeh);\n    }\n    if (force === true) {\n        display_loaded();\n      }} else if (Date.now() < root._bokeh_timeout) {\n      setTimeout(run_inline_js, 100);\n    } else if (!root._bokeh_failed_load) {\n      console.log(\"Bokeh: BokehJS failed to load within specified timeout.\");\n      root._bokeh_failed_load = true;\n    } else if (force !== true) {\n      var cell = $(document.getElementById(\"1092\")).parents('.cell').data().cell;\n      cell.output_area.append_execute_result(NB_LOAD_WARNING)\n    }\n\n  }\n\n  if (root._bokeh_is_loading === 0) {\n    console.debug(\"Bokeh: BokehJS loaded, going straight to plotting\");\n    run_inline_js();\n  } else {\n    load_libs(css_urls, js_urls, function() {\n      console.debug(\"Bokeh: BokehJS plotting callback run at\", now());\n      run_inline_js();\n    });\n  }\n}(window));"
     },
     "metadata": {},
     "output_type": "display_data"
    },
    {
     "name": "stderr",
     "output_type": "stream",
     "text": [
      "[nltk_data] Downloading package stopwords to\n",
      "[nltk_data]     /Users/ashishsolanki/nltk_data...\n",
      "[nltk_data]   Package stopwords is already up-to-date!\n"
     ]
    }
   ],
   "source": [
    "import numpy as np\n",
    "import pandas as pd\n",
    "from IPython.display import display\n",
    "from tqdm import tqdm\n",
    "from collections import Counter\n",
    "import ast\n",
    "\n",
    "import matplotlib.pyplot as plt\n",
    "import matplotlib.mlab as mlab\n",
    "import seaborn as sb\n",
    "\n",
    "from sklearn.feature_extraction.text import CountVectorizer\n",
    "from textblob import TextBlob\n",
    "import scipy.stats as stats\n",
    "\n",
    "from sklearn.decomposition import TruncatedSVD\n",
    "from sklearn.decomposition import LatentDirichletAllocation\n",
    "from sklearn.manifold import TSNE\n",
    "\n",
    "from bokeh.plotting import figure, output_file, show\n",
    "from bokeh.models import Label\n",
    "from bokeh.io import output_notebook\n",
    "output_notebook()\n",
    "nltk.download('stopwords')\n",
    "\n",
    "#import modules\n",
    "import os.path\n",
    "from gensim import corpora\n",
    "from gensim.models import LsiModel\n",
    "from nltk.tokenize import RegexpTokenizer\n",
    "from nltk.corpus import stopwords\n",
    "from nltk.stem.porter import PorterStemmer\n",
    "from gensim.models.coherencemodel import CoherenceModel\n",
    "import matplotlib.pyplot as plt\n",
    "\n",
    "%matplotlib inline"
   ]
  },
  {
   "cell_type": "code",
   "execution_count": 72,
   "metadata": {},
   "outputs": [
    {
     "name": "stderr",
     "output_type": "stream",
     "text": [
      "/opt/anaconda3/lib/python3.8/site-packages/ipykernel/ipkernel.py:287: DeprecationWarning: `should_run_async` will not call `transform_cell` automatically in the future. Please pass the result to `transformed_cell` argument and any exception that happen during thetransform in `preprocessing_exc_tuple` in IPython 7.17 and above.\n",
      "  and should_run_async(code)\n"
     ]
    },
    {
     "data": {
      "text/plain": [
       "0      [01:21] Happy Friday, everyone, and welcome ba...\n",
       "1      [01:21] Happy Thursday, everyone, and welcome ...\n",
       "2      [01:21] Happy Wednesday and welcome back to Yo...\n",
       "3      [01:20] Happy Tuesday, everyone, and welcome b...\n",
       "4      [01:21] Welcome back to Yoga Girl Daily and ha...\n",
       "                             ...                        \n",
       "720    Economists famously argue about everything. Ev...\n",
       "721    Why does the National Security Agency (NSA) sp...\n",
       "722    People often lament the waste, corruption, and...\n",
       "723    Which is more polluting—driving a mile to work...\n",
       "724    It is almost an article of faith among economi...\n",
       "Name: 0, Length: 725, dtype: object"
      ]
     },
     "execution_count": 72,
     "metadata": {},
     "output_type": "execute_result"
    }
   ],
   "source": [
    "# Import Dataset\n",
    "import re\n",
    "import numpy as np\n",
    "import pandas as pd\n",
    "from pprint import pprint\n",
    "df = pd.read_csv('tm_data.txt', delimiter = \"\\n\", header=None)\n",
    "raw_data = df[0]\n",
    "raw_data"
   ]
  },
  {
   "cell_type": "code",
   "execution_count": 73,
   "metadata": {},
   "outputs": [
    {
     "name": "stderr",
     "output_type": "stream",
     "text": [
      "/opt/anaconda3/lib/python3.8/site-packages/ipykernel/ipkernel.py:287: DeprecationWarning: `should_run_async` will not call `transform_cell` automatically in the future. Please pass the result to `transformed_cell` argument and any exception that happen during thetransform in `preprocessing_exc_tuple` in IPython 7.17 and above.\n",
      "  and should_run_async(code)\n"
     ]
    },
    {
     "data": {
      "image/png": "[encoded data removed]",
      "text/plain": [
       "<PIL.Image.Image image mode=RGB size=400x200 at 0x151428370>"
      ]
     },
     "execution_count": 73,
     "metadata": {},
     "output_type": "execute_result"
    }
   ],
   "source": [
    "#Import the wordcloud library\n",
    "from wordcloud import WordCloud\n",
    "\n",
    "# Create a WordCloud object\n",
    "wordcloud = WordCloud(background_color=\"white\", max_words=5000, contour_width=5, contour_color='grey')\n",
    "# Generate a word cloud\n",
    "wordcloud.generate(str(raw_data))\n",
    "# Visualize the word cloud\n",
    "wordcloud.to_image()"
   ]
  },
  {
   "cell_type": "code",
   "execution_count": 74,
   "metadata": {},
   "outputs": [
    {
     "name": "stderr",
     "output_type": "stream",
     "text": [
      "/opt/anaconda3/lib/python3.8/site-packages/ipykernel/ipkernel.py:287: DeprecationWarning: `should_run_async` will not call `transform_cell` automatically in the future. Please pass the result to `transformed_cell` argument and any exception that happen during thetransform in `preprocessing_exc_tuple` in IPython 7.17 and above.\n",
      "  and should_run_async(code)\n"
     ]
    }
   ],
   "source": [
    "# Define helper functions\n",
    "def get_top_n_words(n_top_words, count_vectorizer, text_data):\n",
    "    '''\n",
    "    returns a tuple of the top n words in a sample and their \n",
    "    accompanying counts, given a CountVectorizer object and text sample\n",
    "    '''\n",
    "    vectorized_headlines = count_vectorizer.fit_transform(text_data.values)\n",
    "    vectorized_total = np.sum(vectorized_headlines, axis=0)\n",
    "    word_indices = np.flip(np.argsort(vectorized_total)[0,:], 1)\n",
    "    word_values = np.flip(np.sort(vectorized_total)[0,:],1)\n",
    "    \n",
    "    word_vectors = np.zeros((n_top_words, vectorized_headlines.shape[1]))\n",
    "    for i in range(n_top_words):\n",
    "        word_vectors[i,word_indices[0,i]] = 1\n",
    "\n",
    "    words = [word[0].encode('ascii').decode('utf-8') for \n",
    "             word in count_vectorizer.inverse_transform(word_vectors)]\n",
    "\n",
    "    return (words, word_values[0,:n_top_words].tolist()[0])"
   ]
  },
  {
   "cell_type": "code",
   "execution_count": 75,
   "metadata": {},
   "outputs": [
    {
     "name": "stderr",
     "output_type": "stream",
     "text": [
      "/opt/anaconda3/lib/python3.8/site-packages/ipykernel/ipkernel.py:287: DeprecationWarning: `should_run_async` will not call `transform_cell` automatically in the future. Please pass the result to `transformed_cell` argument and any exception that happen during thetransform in `preprocessing_exc_tuple` in IPython 7.17 and above.\n",
      "  and should_run_async(code)\n"
     ]
    },
    {
     "data": {
      "image/png": "[encoded data removed]",
      "text/plain": [
       "<Figure size 1152x576 with 1 Axes>"
      ]
     },
     "metadata": {
      "needs_background": "light"
     },
     "output_type": "display_data"
    }
   ],
   "source": [
    "count_vectorizer = CountVectorizer(stop_words='english')\n",
    "words, word_values = get_top_n_words(n_top_words=15,\n",
    "                                     count_vectorizer=count_vectorizer, \n",
    "                                     text_data=raw_data)\n",
    "\n",
    "fig, ax = plt.subplots(figsize=(16,8))\n",
    "ax.bar(range(len(words)), word_values);\n",
    "ax.set_xticks(range(len(words)));\n",
    "ax.set_xticklabels(words, rotation='vertical');\n",
    "ax.set_title('Top words in headlines dataset (excluding stop words)');\n",
    "ax.set_xlabel('Word');\n",
    "ax.set_ylabel('Number of occurences');\n",
    "plt.show()"
   ]
  },
  {
   "cell_type": "code",
   "execution_count": 76,
   "metadata": {},
   "outputs": [
    {
     "name": "stderr",
     "output_type": "stream",
     "text": [
      "/opt/anaconda3/lib/python3.8/site-packages/ipykernel/ipkernel.py:287: DeprecationWarning: `should_run_async` will not call `transform_cell` automatically in the future. Please pass the result to `transformed_cell` argument and any exception that happen during thetransform in `preprocessing_exc_tuple` in IPython 7.17 and above.\n",
      "  and should_run_async(code)\n"
     ]
    }
   ],
   "source": [
    "tagged_headlines = [TextBlob(raw_data[i]).pos_tags for i in range(raw_data.shape[0])]"
   ]
  },
  {
   "cell_type": "code",
   "execution_count": 77,
   "metadata": {},
   "outputs": [
    {
     "name": "stderr",
     "output_type": "stream",
     "text": [
      "/opt/anaconda3/lib/python3.8/site-packages/ipykernel/ipkernel.py:287: DeprecationWarning: `should_run_async` will not call `transform_cell` automatically in the future. Please pass the result to `transformed_cell` argument and any exception that happen during thetransform in `preprocessing_exc_tuple` in IPython 7.17 and above.\n",
      "  and should_run_async(code)\n"
     ]
    },
    {
     "name": "stdout",
     "output_type": "stream",
     "text": [
      "Total number of words:  1465631\n",
      "Mean number of words per headline:  2021.56\n"
     ]
    }
   ],
   "source": [
    "tagged_headlines_df = pd.DataFrame({'tags':tagged_headlines})\n",
    "\n",
    "word_counts = [] \n",
    "pos_counts = {}\n",
    "\n",
    "for headline in tagged_headlines_df[u'tags']:\n",
    "    word_counts.append(len(headline))\n",
    "    for tag in headline:\n",
    "        if tag[1] in pos_counts:\n",
    "            pos_counts[tag[1]] += 1\n",
    "        else:\n",
    "            pos_counts[tag[1]] = 1\n",
    "            \n",
    "print('Total number of words: ', np.sum(word_counts))\n",
    "print('Mean number of words per headline: ', np.mean(word_counts))"
   ]
  },
  {
   "cell_type": "code",
   "execution_count": 79,
   "metadata": {},
   "outputs": [
    {
     "name": "stderr",
     "output_type": "stream",
     "text": [
      "/opt/anaconda3/lib/python3.8/site-packages/ipykernel/ipkernel.py:287: DeprecationWarning: `should_run_async` will not call `transform_cell` automatically in the future. Please pass the result to `transformed_cell` argument and any exception that happen during thetransform in `preprocessing_exc_tuple` in IPython 7.17 and above.\n",
      "  and should_run_async(code)\n"
     ]
    },
    {
     "data": {
      "image/png": "[encoded data removed]",
      "text/plain": [
       "<Figure size 1296x576 with 1 Axes>"
      ]
     },
     "metadata": {
      "needs_background": "light"
     },
     "output_type": "display_data"
    }
   ],
   "source": [
    "pos_sorted_types = sorted(pos_counts, key=pos_counts.__getitem__, reverse=True)\n",
    "pos_sorted_counts = sorted(pos_counts.values(), reverse=True)\n",
    "\n",
    "fig, ax = plt.subplots(figsize=(18,8))\n",
    "ax.bar(range(len(pos_counts)), pos_sorted_counts);\n",
    "ax.set_xticks(range(len(pos_counts)));\n",
    "ax.set_xticklabels(pos_sorted_types);\n",
    "ax.set_title('Part-of-Speech Tagging for Headlines Corpus');\n",
    "ax.set_xlabel('Type of Word');"
   ]
  },
  {
   "cell_type": "code",
   "execution_count": 80,
   "metadata": {},
   "outputs": [
    {
     "name": "stderr",
     "output_type": "stream",
     "text": [
      "/opt/anaconda3/lib/python3.8/site-packages/ipykernel/ipkernel.py:287: DeprecationWarning: `should_run_async` will not call `transform_cell` automatically in the future. Please pass the result to `transformed_cell` argument and any exception that happen during thetransform in `preprocessing_exc_tuple` in IPython 7.17 and above.\n",
      "  and should_run_async(code)\n"
     ]
    },
    {
     "data": {
      "text/html": [
       "<div>\n",
       "<style scoped>\n",
       "    .dataframe tbody tr th:only-of-type {\n",
       "        vertical-align: middle;\n",
       "    }\n",
       "\n",
       "    .dataframe tbody tr th {\n",
       "        vertical-align: top;\n",
       "    }\n",
       "\n",
       "    .dataframe thead th {\n",
       "        text-align: right;\n",
       "    }\n",
       "</style>\n",
       "<table border=\"1\" class=\"dataframe\">\n",
       "  <thead>\n",
       "    <tr style=\"text-align: right;\">\n",
       "      <th></th>\n",
       "      <th>0</th>\n",
       "    </tr>\n",
       "  </thead>\n",
       "  <tbody>\n",
       "    <tr>\n",
       "      <th>443</th>\n",
       "      <td>[001:14] Hi and welcome to a brand new episode...</td>\n",
       "    </tr>\n",
       "    <tr>\n",
       "      <th>365</th>\n",
       "      <td>[0:57] Rachel:  Hi, and welcome to a brand new...</td>\n",
       "    </tr>\n",
       "    <tr>\n",
       "      <th>635</th>\n",
       "      <td>At their presidential campaign stops, U.S. Sen...</td>\n",
       "    </tr>\n",
       "    <tr>\n",
       "      <th>632</th>\n",
       "      <td>OOn September 4, Disney released Mulan on its ...</td>\n",
       "    </tr>\n",
       "    <tr>\n",
       "      <th>604</th>\n",
       "      <td>Defining what it means to be weird is difficul...</td>\n",
       "    </tr>\n",
       "    <tr>\n",
       "      <th>113</th>\n",
       "      <td>[1:06]  Welcome to a brand new episode of the ...</td>\n",
       "    </tr>\n",
       "    <tr>\n",
       "      <th>631</th>\n",
       "      <td>In a speech last November at Catholic Universi...</td>\n",
       "    </tr>\n",
       "    <tr>\n",
       "      <th>683</th>\n",
       "      <td>Economists use the term deadweight loss (DWL) ...</td>\n",
       "    </tr>\n",
       "    <tr>\n",
       "      <th>372</th>\n",
       "      <td>[00:04] Welcome to Yoga Girl Daily, happy Frid...</td>\n",
       "    </tr>\n",
       "    <tr>\n",
       "      <th>155</th>\n",
       "      <td>[00:04] Welcome back to Yoga Girl Daily, happy...</td>\n",
       "    </tr>\n",
       "  </tbody>\n",
       "</table>\n",
       "</div>"
      ],
      "text/plain": [
       "                                                     0\n",
       "443  [001:14] Hi and welcome to a brand new episode...\n",
       "365  [0:57] Rachel:  Hi, and welcome to a brand new...\n",
       "635  At their presidential campaign stops, U.S. Sen...\n",
       "632  OOn September 4, Disney released Mulan on its ...\n",
       "604  Defining what it means to be weird is difficul...\n",
       "113  [1:06]  Welcome to a brand new episode of the ...\n",
       "631  In a speech last November at Catholic Universi...\n",
       "683  Economists use the term deadweight loss (DWL) ...\n",
       "372  [00:04] Welcome to Yoga Girl Daily, happy Frid...\n",
       "155  [00:04] Welcome back to Yoga Girl Daily, happy..."
      ]
     },
     "execution_count": 80,
     "metadata": {},
     "output_type": "execute_result"
    }
   ],
   "source": [
    "df.sample(10)"
   ]
  },
  {
   "cell_type": "code",
   "execution_count": 81,
   "metadata": {},
   "outputs": [
    {
     "name": "stderr",
     "output_type": "stream",
     "text": [
      "/opt/anaconda3/lib/python3.8/site-packages/ipykernel/ipkernel.py:287: DeprecationWarning: `should_run_async` will not call `transform_cell` automatically in the future. Please pass the result to `transformed_cell` argument and any exception that happen during thetransform in `preprocessing_exc_tuple` in IPython 7.17 and above.\n",
      "  and should_run_async(code)\n"
     ]
    },
    {
     "name": "stdout",
     "output_type": "stream",
     "text": [
      "Headline before vectorization: [01:21] Welcome back to Yoga Girl Daily and a very happy Friday to you! We've made it through an entire work week or whatever it is we're calling these kinds of weeks that we're all having right now. I really hope you get to have a clear distinction between work and play so you can enjoy this weekend. Today for our Feel-Good Friday practice, I have a practice in mind that was inspired by my daughter from something she did literally five minutes ago. Today we're going to take a little walk, just a little short walk in our neighborhood or in the woods by your house or around the city or wherever you are. Just go out for a little walk and we are going to pick ourselves a spring bouquet. I am really excited about this because I live in a part of the world where we can’t pick flowers. You know, I don't live in a part of the world where you can go out into the woods or go out into a field and find all of these beautiful flowers growing everywhere. We have cactus flowers here. It's not really the same thing, but we were just out for a walk with the dogs and my daughter started picking Fox tail.[02:40] Fox tail, if you don't know, it's a grass. I mean, it's a brown, like straw kind of grass with a little bushy, fluffy thing on the end. Like it's very, very, very, like the most basic kind of grass. Like, people call it just weeds. It's something that people would cut down in their gardens and in their yards, right. She started picking them and we were walking and she was really slow on the walk because she wanted to pause everywhere and pick another one. And there was another one and there was another one. And I wasn't thinking about it. You know, it's just, she's four years old. Like she's always looking for little sticks and rocks and things like that when we go for walks. But then by the time we came home, you know, half an hour later, she had this legit bouquet of something so beautiful that she picked from out of things that people, you know, I normally wouldn't look twice at, you know, things that literally people will mow down because they think it's weeds and it was so beautiful what she created.[03:31] We put it in a little vase and now it's on the dining table here and it's so precious. It's so beautiful. And it just really inspired me to share with you as a self-care practice to do today. So, put on some shoes, go outside and have a really mindful walk, right? A walk where you're truly with nature. It can be five minutes, can be half an hour, whatever you have, bring your dogs if you have them, but go out with the intention to really keep your eyes open to see what there is around you from nature that you can pick, right? Even if that means you're going to have a little branch from a tre, that's fallen, some leaves that you find, maybe you'll find some truly beautiful spring flowers that are popping up depending on where you are in the world.[04:13] Maybe where you are, it's getting warm by now. And you actually are in this beautiful time where you can actually pick a legit spring bouquet, which is just a dream for me, right? But if you come home with some grass, if you come home with something green, something brown, something colorful, whatever it is, it's going to make a beautiful moment in your day, I promise. Put that thing on the dining table next to a little candle and just enjoy it today. We're all taking a cue and finding our own inner four year old. So, really go out there and open your eyes and look at the world with some curiosity. Remember it doesn't have to be that thing that you have deemed worthy of something beautiful, right? But by adding things together that might look mundane, you could come home with something truly beautiful. And the thing that we're really looking for here is the experience of it, right? So, get out there and be with nature and come home with something precious. And a little side note, take good care of nature, be a good harvester of flowers or leaves or whatever it is you're collecting, you can bring a little scissor or a tiny little knife or something if you want to be really careful. So, don't pull anything up by the roots, just a little side note and exactly what I tell my daughter every day. Have a great day, everyone. Have a wonderful weekend and I'll be back on Monday.[End of Episode]\n",
      "Headline after vectorization: \n",
      "  (0, 12787)\t4\n",
      "  (0, 17568)\t1\n",
      "  (0, 7854)\t3\n",
      "  (0, 17567)\t4\n",
      "  (0, 6968)\t1\n",
      "  (0, 751)\t2\n",
      "  (0, 19308)\t2\n",
      "  (0, 9822)\t9\n",
      "  (0, 13100)\t1\n",
      "  (0, 9961)\t6\n",
      "  (0, 10666)\t1\n",
      "  (0, 19331)\t4\n",
      "  (0, 3658)\t4\n",
      "  (0, 2964)\t2\n",
      "  (0, 19092)\t1\n",
      "  (0, 19452)\t1\n",
      "  (0, 7769)\t1\n",
      "  (0, 4632)\t1\n",
      "  (0, 8192)\t1\n",
      "  (0, 11378)\t1\n",
      "  (0, 4697)\t3\n",
      "  (0, 19069)\t1\n",
      "  (0, 17677)\t2\n",
      "  (0, 11362)\t1\n",
      "  (0, 14207)\t10\n",
      "  :\t:\n",
      "  (0, 2821)\t1\n",
      "  (0, 15072)\t1\n",
      "  (0, 7220)\t5\n",
      "  (0, 18953)\t1\n",
      "  (0, 16689)\t1\n",
      "  (0, 13389)\t2\n",
      "  (0, 19295)\t2\n",
      "  (0, 2470)\t3\n",
      "  (0, 7409)\t2\n",
      "  (0, 16780)\t1\n",
      "  (0, 2764)\t1\n",
      "  (0, 7232)\t1\n",
      "  (0, 19068)\t2\n",
      "  (0, 7641)\t1\n",
      "  (0, 19424)\t1\n",
      "  (0, 10191)\t2\n",
      "  (0, 11488)\t1\n",
      "  (0, 18692)\t1\n",
      "  (0, 2510)\t1\n",
      "  (0, 17962)\t1\n",
      "  (0, 13249)\t1\n",
      "  (0, 3638)\t1\n",
      "  (0, 8239)\t1\n",
      "  (0, 15425)\t1\n",
      "  (0, 9950)\t1\n"
     ]
    }
   ],
   "source": [
    "small_count_vectorizer = CountVectorizer(stop_words='english', max_features=40000)\n",
    "small_text_sample = raw_data.sample(n=600, random_state=0).values\n",
    "\n",
    "print('Headline before vectorization: {}'.format(small_text_sample[123]))\n",
    "\n",
    "small_document_term_matrix = small_count_vectorizer.fit_transform(small_text_sample)\n",
    "\n",
    "print('Headline after vectorization: \\n{}'.format(small_document_term_matrix[123]))"
   ]
  },
  {
   "cell_type": "code",
   "execution_count": 82,
   "metadata": {},
   "outputs": [
    {
     "name": "stderr",
     "output_type": "stream",
     "text": [
      "/opt/anaconda3/lib/python3.8/site-packages/ipykernel/ipkernel.py:287: DeprecationWarning: `should_run_async` will not call `transform_cell` automatically in the future. Please pass the result to `transformed_cell` argument and any exception that happen during thetransform in `preprocessing_exc_tuple` in IPython 7.17 and above.\n",
      "  and should_run_async(code)\n"
     ]
    }
   ],
   "source": [
    "def load_data(path,file_name):\n",
    "    \"\"\"\n",
    "    Input  : path and file_name\n",
    "    Purpose: loading text file\n",
    "    Output : list of paragraphs/documents and\n",
    "             title(initial 100 words considred as title of document)\n",
    "    \"\"\"\n",
    "    documents_list = []\n",
    "    titles=[]\n",
    "    with open( os.path.join(path, file_name) ,\"r\") as fin:\n",
    "        for line in fin.readlines():\n",
    "            text = line.strip()\n",
    "            documents_list.append(text)\n",
    "    print(\"Total Number of Documents:\",len(documents_list))\n",
    "    titles.append( text[0:min(len(text),100)] )\n",
    "    return documents_list,titles"
   ]
  },
  {
   "cell_type": "code",
   "execution_count": 83,
   "metadata": {},
   "outputs": [
    {
     "name": "stderr",
     "output_type": "stream",
     "text": [
      "/opt/anaconda3/lib/python3.8/site-packages/ipykernel/ipkernel.py:287: DeprecationWarning: `should_run_async` will not call `transform_cell` automatically in the future. Please pass the result to `transformed_cell` argument and any exception that happen during thetransform in `preprocessing_exc_tuple` in IPython 7.17 and above.\n",
      "  and should_run_async(code)\n"
     ]
    }
   ],
   "source": [
    "def preprocess_data(doc_set):\n",
    "    \"\"\"\n",
    "    Input  : docuemnt list\n",
    "    Purpose: preprocess text (tokenize, removing stopwords, and stemming)\n",
    "    Output : preprocessed text\n",
    "    \"\"\"\n",
    "    # initialize regex tokenizer\n",
    "    tokenizer = RegexpTokenizer(r'\\w+')\n",
    "    # create English stop words list\n",
    "    en_stop = set(stopwords.words('english'))\n",
    "    # Create p_stemmer of class PorterStemmer\n",
    "    p_stemmer = PorterStemmer()\n",
    "    # list for tokenized documents in loop\n",
    "    texts = []\n",
    "    # loop through document list\n",
    "    for i in doc_set:\n",
    "        # clean and tokenize document string\n",
    "        raw = i.lower()\n",
    "        tokens = tokenizer.tokenize(raw)\n",
    "        # remove stop words from tokens\n",
    "        stopped_tokens = [i for i in tokens if not i in en_stop]\n",
    "        # stem tokens\n",
    "        stemmed_tokens = [p_stemmer.stem(i) for i in stopped_tokens]\n",
    "        # add tokens to list\n",
    "        texts.append(stemmed_tokens)\n",
    "    return texts"
   ]
  },
  {
   "cell_type": "code",
   "execution_count": 84,
   "metadata": {},
   "outputs": [
    {
     "name": "stderr",
     "output_type": "stream",
     "text": [
      "/opt/anaconda3/lib/python3.8/site-packages/ipykernel/ipkernel.py:287: DeprecationWarning: `should_run_async` will not call `transform_cell` automatically in the future. Please pass the result to `transformed_cell` argument and any exception that happen during thetransform in `preprocessing_exc_tuple` in IPython 7.17 and above.\n",
      "  and should_run_async(code)\n"
     ]
    }
   ],
   "source": [
    "clean_text=preprocess_data(document_list)"
   ]
  },
  {
   "cell_type": "code",
   "execution_count": 85,
   "metadata": {},
   "outputs": [
    {
     "name": "stderr",
     "output_type": "stream",
     "text": [
      "/opt/anaconda3/lib/python3.8/site-packages/ipykernel/ipkernel.py:287: DeprecationWarning: `should_run_async` will not call `transform_cell` automatically in the future. Please pass the result to `transformed_cell` argument and any exception that happen during thetransform in `preprocessing_exc_tuple` in IPython 7.17 and above.\n",
      "  and should_run_async(code)\n"
     ]
    },
    {
     "name": "stdout",
     "output_type": "stream",
     "text": [
      "Total Number of Documents: 725\n",
      "[(0, '0.529*\"like\" + 0.338*\"know\" + 0.239*\"realli\" + 0.232*\"feel\" + 0.226*\"right\" + 0.216*\"go\" + 0.183*\"thing\" + 0.125*\"time\" + 0.113*\"think\" + 0.111*\"rachel\"'), (1, '-0.527*\"rachel\" + -0.405*\"like\" + -0.389*\"denni\" + 0.222*\"right\" + 0.220*\"feel\" + -0.213*\"yeah\" + 0.160*\"realli\" + 0.119*\"moment\" + 0.108*\"day\" + -0.107*\"laugh\"'), (2, '-0.596*\"like\" + 0.465*\"rachel\" + 0.311*\"denni\" + 0.165*\"yeah\" + -0.162*\"know\" + 0.142*\"year\" + 0.100*\"peopl\" + 0.094*\"realli\" + 0.081*\"think\" + 0.078*\"go\"'), (3, '-0.279*\"feel\" + -0.272*\"denni\" + 0.251*\"peopl\" + 0.179*\"would\" + -0.153*\"right\" + 0.149*\"govern\" + -0.148*\"bodi\" + 0.144*\"econom\" + 0.133*\"think\" + -0.127*\"moment\"')]\n"
     ]
    }
   ],
   "source": [
    "# LSA Model\n",
    "import os.path\n",
    "number_of_topics=4\n",
    "words=10\n",
    "document_list,titles=load_data(\"/Users/ashishsolanki/Desktop/\",\"tm_data.txt\")\n",
    "clean_text=preprocess_data(document_list)\n",
    "model=create_gensim_lsa_model(clean_text,number_of_topics,words)"
   ]
  },
  {
   "cell_type": "code",
   "execution_count": 86,
   "metadata": {},
   "outputs": [
    {
     "name": "stderr",
     "output_type": "stream",
     "text": [
      "/opt/anaconda3/lib/python3.8/site-packages/ipykernel/ipkernel.py:287: DeprecationWarning: `should_run_async` will not call `transform_cell` automatically in the future. Please pass the result to `transformed_cell` argument and any exception that happen during thetransform in `preprocessing_exc_tuple` in IPython 7.17 and above.\n",
      "  and should_run_async(code)\n"
     ]
    }
   ],
   "source": [
    "def prepare_corpus(doc_clean):\n",
    "    \"\"\"\n",
    "    Input  : clean document\n",
    "    Purpose: create term dictionary of our courpus and Converting list of documents (corpus) into Document Term Matrix\n",
    "    Output : term dictionary and Document Term Matrix\n",
    "    \"\"\"\n",
    "    # Creating the term dictionary of our courpus, where every unique term is assigned an index. dictionary = corpora.Dictionary(doc_clean)\n",
    "    dictionary = corpora.Dictionary(doc_clean)\n",
    "    # Converting list of documents (corpus) into Document Term Matrix using dictionary prepared above.\n",
    "    doc_term_matrix = [dictionary.doc2bow(doc) for doc in doc_clean]\n",
    "    # generate LDA model\n",
    "    return dictionary,doc_term_matrix"
   ]
  },
  {
   "cell_type": "code",
   "execution_count": 87,
   "metadata": {},
   "outputs": [
    {
     "name": "stderr",
     "output_type": "stream",
     "text": [
      "/opt/anaconda3/lib/python3.8/site-packages/ipykernel/ipkernel.py:287: DeprecationWarning: `should_run_async` will not call `transform_cell` automatically in the future. Please pass the result to `transformed_cell` argument and any exception that happen during thetransform in `preprocessing_exc_tuple` in IPython 7.17 and above.\n",
      "  and should_run_async(code)\n"
     ]
    }
   ],
   "source": [
    "dictionary,doc_term_matrix = prepare_corpus(clean_text)"
   ]
  },
  {
   "cell_type": "code",
   "execution_count": 88,
   "metadata": {},
   "outputs": [
    {
     "name": "stderr",
     "output_type": "stream",
     "text": [
      "/opt/anaconda3/lib/python3.8/site-packages/ipykernel/ipkernel.py:287: DeprecationWarning: `should_run_async` will not call `transform_cell` automatically in the future. Please pass the result to `transformed_cell` argument and any exception that happen during thetransform in `preprocessing_exc_tuple` in IPython 7.17 and above.\n",
      "  and should_run_async(code)\n"
     ]
    }
   ],
   "source": [
    "def create_gensim_lsa_model(doc_clean,number_of_topics,words):\n",
    "    \"\"\"\n",
    "    Input  : clean document, number of topics and number of words associated with each topic\n",
    "    Purpose: create LSA model using gensim\n",
    "    Output : return LSA model\n",
    "    \"\"\"\n",
    "    dictionary,doc_term_matrix=prepare_corpus(doc_clean)\n",
    "    # generate LSA model\n",
    "    lsamodel = LsiModel(doc_term_matrix, num_topics=number_of_topics, id2word = dictionary)  # train model\n",
    "    print(lsamodel.print_topics(num_topics=number_of_topics, num_words=words))\n",
    "    return lsamodel"
   ]
  },
  {
   "cell_type": "code",
   "execution_count": 89,
   "metadata": {},
   "outputs": [
    {
     "name": "stderr",
     "output_type": "stream",
     "text": [
      "/opt/anaconda3/lib/python3.8/site-packages/ipykernel/ipkernel.py:287: DeprecationWarning: `should_run_async` will not call `transform_cell` automatically in the future. Please pass the result to `transformed_cell` argument and any exception that happen during thetransform in `preprocessing_exc_tuple` in IPython 7.17 and above.\n",
      "  and should_run_async(code)\n"
     ]
    },
    {
     "name": "stdout",
     "output_type": "stream",
     "text": [
      "[(0, '0.529*\"like\" + 0.338*\"know\" + 0.239*\"realli\" + 0.232*\"feel\" + 0.226*\"right\" + 0.216*\"go\" + 0.183*\"thing\" + 0.125*\"time\" + 0.113*\"think\" + 0.111*\"rachel\"'), (1, '-0.527*\"rachel\" + -0.405*\"like\" + -0.389*\"denni\" + 0.222*\"right\" + 0.220*\"feel\" + -0.213*\"yeah\" + 0.160*\"realli\" + 0.119*\"moment\" + 0.108*\"day\" + -0.107*\"laugh\"'), (2, '0.596*\"like\" + -0.465*\"rachel\" + -0.311*\"denni\" + -0.165*\"yeah\" + 0.162*\"know\" + -0.142*\"year\" + -0.100*\"peopl\" + -0.094*\"realli\" + -0.081*\"think\" + -0.078*\"go\"'), (3, '0.279*\"feel\" + 0.272*\"denni\" + -0.251*\"peopl\" + -0.179*\"would\" + 0.153*\"right\" + -0.149*\"govern\" + 0.148*\"bodi\" + -0.144*\"econom\" + -0.133*\"think\" + 0.127*\"moment\"')]\n"
     ]
    }
   ],
   "source": [
    "lsamodel = create_gensim_lsa_model(clean_text, 4, 10)"
   ]
  },
  {
   "cell_type": "code",
   "execution_count": 90,
   "metadata": {},
   "outputs": [
    {
     "name": "stderr",
     "output_type": "stream",
     "text": [
      "/opt/anaconda3/lib/python3.8/site-packages/ipykernel/ipkernel.py:287: DeprecationWarning: `should_run_async` will not call `transform_cell` automatically in the future. Please pass the result to `transformed_cell` argument and any exception that happen during thetransform in `preprocessing_exc_tuple` in IPython 7.17 and above.\n",
      "  and should_run_async(code)\n"
     ]
    }
   ],
   "source": [
    "def compute_coherence_values(dictionary, doc_term_matrix, doc_clean, stop, start=2, step=3):\n",
    "    \"\"\"\n",
    "    Input   : dictionary : Gensim dictionary\n",
    "              corpus : Gensim corpus\n",
    "              texts : List of input texts\n",
    "              stop : Max num of topics\n",
    "    purpose : Compute c_v coherence for various number of topics\n",
    "    Output  : model_list : List of LSA topic models\n",
    "              coherence_values : Coherence values corresponding to the LDA model with respective number of topics\n",
    "    \"\"\"\n",
    "    coherence_values = []\n",
    "    model_list = []\n",
    "    for num_topics in range(start, stop, step):\n",
    "        # generate LSA model\n",
    "        model = LsiModel(doc_term_matrix, num_topics=number_of_topics, id2word = dictionary)  # train model\n",
    "        model_list.append(model)\n",
    "        coherencemodel = CoherenceModel(model=model, texts=doc_clean, dictionary=dictionary, coherence='c_v')\n",
    "        coherence_values.append(coherencemodel.get_coherence())\n",
    "    return model_list, coherence_values"
   ]
  },
  {
   "cell_type": "code",
   "execution_count": 91,
   "metadata": {},
   "outputs": [
    {
     "name": "stderr",
     "output_type": "stream",
     "text": [
      "/opt/anaconda3/lib/python3.8/site-packages/ipykernel/ipkernel.py:287: DeprecationWarning: `should_run_async` will not call `transform_cell` automatically in the future. Please pass the result to `transformed_cell` argument and any exception that happen during thetransform in `preprocessing_exc_tuple` in IPython 7.17 and above.\n",
      "  and should_run_async(code)\n"
     ]
    }
   ],
   "source": [
    "def plot_graph(doc_clean,start, stop, step):\n",
    "    dictionary,doc_term_matrix=prepare_corpus(doc_clean)\n",
    "    model_list, coherence_values = compute_coherence_values(dictionary, doc_term_matrix,doc_clean,\n",
    "                                                            stop, start, step)\n",
    "    # Show graph\n",
    "    x = range(start, stop, step)\n",
    "    plt.plot(x, coherence_values)\n",
    "    plt.xlabel(\"Number of Topics\")\n",
    "    plt.ylabel(\"Coherence score\")\n",
    "    plt.legend((\"coherence_values\"), loc='best')\n",
    "    plt.show()"
   ]
  },
  {
   "cell_type": "code",
   "execution_count": null,
   "metadata": {},
   "outputs": [],
   "source": []
  },
  {
   "cell_type": "code",
   "execution_count": null,
   "metadata": {},
   "outputs": [
    {
     "name": "stderr",
     "output_type": "stream",
     "text": [
      "/opt/anaconda3/lib/python3.8/site-packages/ipykernel/ipkernel.py:287: DeprecationWarning: `should_run_async` will not call `transform_cell` automatically in the future. Please pass the result to `transformed_cell` argument and any exception that happen during thetransform in `preprocessing_exc_tuple` in IPython 7.17 and above.\n",
      "  and should_run_async(code)\n"
     ]
    }
   ],
   "source": [
    "start,stop,step=2,12,1\n",
    "plot_graph(clean_text,start,stop,step)"
   ]
  },
  {
   "cell_type": "code",
   "execution_count": null,
   "metadata": {},
   "outputs": [],
   "source": [
    "# 1. Wordcloud of Top N words in each topic\n",
    "from matplotlib import pyplot as plt\n",
    "from wordcloud import WordCloud, STOPWORDS\n",
    "import matplotlib.colors as mcolors\n",
    "\n",
    "cols = [color for name, color in mcolors.TABLEAU_COLORS.items()]  # more colors: 'mcolors.XKCD_COLORS'\n",
    "\n",
    "cloud = WordCloud(stopwords=stop_words,\n",
    "                  background_color='white',\n",
    "                  width=2500,\n",
    "                  height=1800,\n",
    "                  max_words=10,\n",
    "                  colormap='tab10',\n",
    "                  color_func=lambda *args, **kwargs: cols[i],\n",
    "                  prefer_horizontal=1.0)\n",
    "\n",
    "topics = model.show_topics(formatted=False)\n",
    "\n",
    "fig, axes = plt.subplots(2, 2, figsize=(10,10), sharex=True, sharey=True)\n",
    "\n",
    "for i, ax in enumerate(axes.flatten()):\n",
    "    fig.add_subplot(ax)\n",
    "    topic_words = dict(topics[i][1])\n",
    "    cloud.generate_from_frequencies(topic_words, max_font_size=300)\n",
    "    plt.gca().imshow(cloud)\n",
    "    plt.gca().set_title('Topic ' + str(i), fontdict=dict(size=20))\n",
    "    plt.gca().axis('off')\n",
    "\n",
    "\n",
    "plt.subplots_adjust(wspace=0, hspace=0)\n",
    "plt.axis('off')\n",
    "plt.margins(x=0, y=0)\n",
    "plt.tight_layout()\n",
    "plt.show()"
   ]
  },
  {
   "cell_type": "code",
   "execution_count": null,
   "metadata": {},
   "outputs": [],
   "source": []
  },
  {
   "cell_type": "code",
   "execution_count": null,
   "metadata": {},
   "outputs": [],
   "source": []
  }
 ],
 "metadata": {
  "kernelspec": {
   "display_name": "Python 3",
   "language": "python",
   "name": "python3"
  },
  "language_info": {
   "codemirror_mode": {
    "name": "ipython",
    "version": 3
   },
   "file_extension": ".py",
   "mimetype": "text/x-python",
   "name": "python",
   "nbconvert_exporter": "python",
   "pygments_lexer": "ipython3",
   "version": "3.7.6"
  }
 },
 "nbformat": 4,
 "nbformat_minor": 4
}
